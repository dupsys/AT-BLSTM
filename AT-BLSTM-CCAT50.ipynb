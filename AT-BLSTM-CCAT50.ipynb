{
 "cells": [
  {
   "cell_type": "markdown",
   "metadata": {
    "colab_type": "text",
    "id": "_mX6E1CSsB01"
   },
   "source": [
    "# AT-BLSTM for CCAT50"
   ]
  },
  {
   "cell_type": "code",
   "execution_count": 1,
   "metadata": {},
   "outputs": [],
   "source": [
    "# Start GPU\n",
    "import os\n",
    "# os.environ[\"CUDA_DEVICE_ORDER\"] = \"PCI_BUS_ID\"   # see issue #152\n",
    "os.environ[\"CUDA_VISIBLE_DEVICES\"] = \"0\""
   ]
  },
  {
   "cell_type": "code",
   "execution_count": 3,
   "metadata": {
    "colab": {},
    "colab_type": "code",
    "id": "vsEtBpsYsB03"
   },
   "outputs": [],
   "source": [
    "from __future__ import print_function\n",
    "import os\n",
    "import re\n",
    "import sys\n",
    "import pandas as pd\n",
    "import numpy as np"
   ]
  },
  {
   "cell_type": "code",
   "execution_count": 3,
   "metadata": {
    "colab": {},
    "colab_type": "code",
    "id": "WQqlnnSoa9Mc"
   },
   "outputs": [],
   "source": [
    "from numpy.random import seed\n",
    "seed(1)\n",
    "from tensorflow import set_random_seed\n",
    "set_random_seed(2)"
   ]
  },
  {
   "cell_type": "code",
   "execution_count": 4,
   "metadata": {},
   "outputs": [
    {
     "name": "stderr",
     "output_type": "stream",
     "text": [
      "Using TensorFlow backend.\n"
     ]
    }
   ],
   "source": [
    "import pandas as pd\n",
    "import keras.layers as layers\n",
    "import tensorflow as tf\n",
    "import tensorflow_hub as hub\n",
    "import pydot\n",
    "import itertools\n",
    "import h5py\n",
    "import keras.callbacks\n",
    "import tensorflow as tf\n",
    "from keras import optimizers\n",
    "from keras import backend as K\n",
    "from keras import regularizers\n",
    "from keras.regularizers import l2\n",
    "from AdamW import AdamW\n",
    "from SGDW import SGDW\n",
    "from keras.layers import Input, Embedding, LSTM, Dense, Activation, Dropout, Flatten, merge\n",
    "from keras.models import Model\n",
    "from keras.callbacks import CSVLogger\n",
    "from keras.layers import Conv1D, MaxPooling1D,AveragePooling1D, GlobalMaxPooling1D, concatenate\n",
    "from keras.layers import TimeDistributed, Bidirectional, Lambda\n",
    "from keras.layers import Layer\n",
    "from keras import initializers, regularizers, constraints\n",
    "from keras.layers.normalization import BatchNormalization"
   ]
  },
  {
   "cell_type": "code",
   "execution_count": 5,
   "metadata": {},
   "outputs": [],
   "source": [
    "from keras.models import Model\n",
    "from keras.utils import plot_model\n",
    "from keras.utils import np_utils\n",
    "from sklearn.model_selection import cross_val_score\n",
    "from sklearn.model_selection import KFold\n",
    "from sklearn.preprocessing import LabelEncoder\n",
    "from sklearn import preprocessing\n",
    "from keras.optimizers import SGD\n",
    "from keras.callbacks import TensorBoard, LearningRateScheduler, ReduceLROnPlateau, ModelCheckpoint"
   ]
  },
  {
   "cell_type": "code",
   "execution_count": 6,
   "metadata": {},
   "outputs": [],
   "source": [
    "# Load nltk \n",
    "import nltk\n",
    "from nltk.tokenize import sent_tokenize, word_tokenize\n",
    "from nltk.corpus import stopwords\n",
    "from nltk.stem.wordnet import WordNetLemmatizer\n",
    "from nltk.util import ngrams\n",
    "from nltk.classify.scikitlearn import SklearnClassifier\n",
    "%matplotlib inline"
   ]
  },
  {
   "cell_type": "code",
   "execution_count": 7,
   "metadata": {
    "colab": {},
    "colab_type": "code",
    "id": "mv_hlCFzsB1I"
   },
   "outputs": [],
   "source": [
    "batch_size = 128 \n",
    "maxlen = 512\n",
    "max_sentences = 15\n",
    "w_l2 = 1e-4\n",
    "nb_classes = 50"
   ]
  },
  {
   "cell_type": "code",
   "execution_count": 8,
   "metadata": {
    "colab": {},
    "colab_type": "code",
    "id": "Y1YqHgc1sB1K"
   },
   "outputs": [],
   "source": [
    "def preProcessText(text):\n",
    "    #str(tweet.encode('utf-8')) \n",
    "    str(text)\n",
    "    #Replace all words preceded by '@' with 'USER_NAME'\n",
    "    text  = re.sub(r'@[^\\s]+', 'USER_NAME', text)  \n",
    "    #Replace all url's with 'URL'\n",
    "    text  = re.sub(r'www.[^\\s]+ | http[^\\s]+',' URL ', text)\n",
    "    #Replace all hashtags with the word\n",
    "    text  = text.strip('#')\n",
    "    #Replace words with long repeated characters with the shorter form\n",
    "    text  = re.sub(r'(.)\\1{2,}', r'\\1', text)\n",
    "    #Remove any extra white space\n",
    "    text = re.sub(r'[\\s]+', ' ', text)\n",
    "    return text"
   ]
  },
  {
   "cell_type": "code",
   "execution_count": 9,
   "metadata": {
    "colab": {},
    "colab_type": "code",
    "id": "FkbTLzg3sB1N"
   },
   "outputs": [],
   "source": [
    "def striphtml(s):\n",
    "    p = re.compile(r'<.*?>')\n",
    "    return p.sub(\"\", str(s))\n",
    "def clean(s):\n",
    "    return re.sub(r'[^\\x00-\\x7f]', r'', s)"
   ]
  },
  {
   "cell_type": "code",
   "execution_count": 10,
   "metadata": {},
   "outputs": [],
   "source": [
    "# Load dataset now\n",
    "datasource = '../../data/ccat50/'\n",
    "ccat50_train = pd.read_csv(datasource + 'cleantrainaugmented.csv')\n",
    "ccat50_test = pd.read_csv(datasource + 'cleantest.csv', index_col=0)"
   ]
  },
  {
   "cell_type": "code",
   "execution_count": 11,
   "metadata": {},
   "outputs": [
    {
     "data": {
      "text/html": [
       "<div>\n",
       "<style scoped>\n",
       "    .dataframe tbody tr th:only-of-type {\n",
       "        vertical-align: middle;\n",
       "    }\n",
       "\n",
       "    .dataframe tbody tr th {\n",
       "        vertical-align: top;\n",
       "    }\n",
       "\n",
       "    .dataframe thead th {\n",
       "        text-align: right;\n",
       "    }\n",
       "</style>\n",
       "<table border=\"1\" class=\"dataframe\">\n",
       "  <thead>\n",
       "    <tr style=\"text-align: right;\">\n",
       "      <th></th>\n",
       "      <th>text</th>\n",
       "      <th>label</th>\n",
       "      <th>augmented</th>\n",
       "    </tr>\n",
       "  </thead>\n",
       "  <tbody>\n",
       "    <tr>\n",
       "      <th>0</th>\n",
       "      <td>china has moved step further from its recent r...</td>\n",
       "      <td>JaneMacartney</td>\n",
       "      <td>china has proceed step further from its recent...</td>\n",
       "    </tr>\n",
       "    <tr>\n",
       "      <th>1</th>\n",
       "      <td>the family of detained chinese dissident wang ...</td>\n",
       "      <td>JaneMacartney</td>\n",
       "      <td>the family of detained chinese dissident wang ...</td>\n",
       "    </tr>\n",
       "    <tr>\n",
       "      <th>2</th>\n",
       "      <td>the watchdogs of china ruling communist party ...</td>\n",
       "      <td>JaneMacartney</td>\n",
       "      <td>the watchdogs of china find communist party ac...</td>\n",
       "    </tr>\n",
       "  </tbody>\n",
       "</table>\n",
       "</div>"
      ],
      "text/plain": [
       "                                                text          label  \\\n",
       "0  china has moved step further from its recent r...  JaneMacartney   \n",
       "1  the family of detained chinese dissident wang ...  JaneMacartney   \n",
       "2  the watchdogs of china ruling communist party ...  JaneMacartney   \n",
       "\n",
       "                                           augmented  \n",
       "0  china has proceed step further from its recent...  \n",
       "1  the family of detained chinese dissident wang ...  \n",
       "2  the watchdogs of china find communist party ac...  "
      ]
     },
     "execution_count": 11,
     "metadata": {},
     "output_type": "execute_result"
    }
   ],
   "source": [
    "ccat50_train.head(3)"
   ]
  },
  {
   "cell_type": "code",
   "execution_count": 12,
   "metadata": {},
   "outputs": [],
   "source": [
    "ccat50_train['text'] = ccat50_train['text'].apply(preProcessText)\n",
    "ccat50_train['augmented'] = ccat50_train['augmented'].apply(preProcessText)"
   ]
  },
  {
   "cell_type": "code",
   "execution_count": 13,
   "metadata": {
    "colab": {
     "base_uri": "https://localhost:8080/",
     "height": 142
    },
    "colab_type": "code",
    "id": "98GpsmYxsB1Q",
    "outputId": "89293a68-8242-45ed-c4c2-700042dded44"
   },
   "outputs": [],
   "source": [
    "trainx = pd.concat([ccat50_train['text'],ccat50_train['augmented']],ignore_index=True)\n",
    "trainy = pd.concat([ccat50_train['label'],ccat50_train['label']],ignore_index=True)\n",
    "# convert to dataframe\n",
    "trainx = pd.DataFrame(trainx,columns=['text'])\n",
    "trainy = pd.DataFrame(trainy,columns=['label'])"
   ]
  },
  {
   "cell_type": "code",
   "execution_count": 14,
   "metadata": {
    "colab": {},
    "colab_type": "code",
    "id": "CN7geXgmsB1a"
   },
   "outputs": [],
   "source": [
    "txt = ''\n",
    "docs = []\n",
    "sentences = []\n",
    "labels = []\n",
    "for cont, label in zip(trainx.text, trainy.label):\n",
    "    sentences = re.split(r'(?<!\\w\\.\\w.)(?<![A-Z][a-z]\\.)(?<=\\.|\\?)\\s', clean(striphtml(cont)))\n",
    "    sentences = [sent.lower() for sent in sentences]\n",
    "    docs.append(sentences)\n",
    "    labels.append(label)"
   ]
  },
  {
   "cell_type": "code",
   "execution_count": 15,
   "metadata": {
    "colab": {},
    "colab_type": "code",
    "id": "HYGZ9_j4sB1d"
   },
   "outputs": [],
   "source": [
    "num_sent = []\n",
    "for doc in docs:\n",
    "    num_sent.append(len(doc))\n",
    "    for s in doc:\n",
    "        txt += s"
   ]
  },
  {
   "cell_type": "code",
   "execution_count": 16,
   "metadata": {
    "colab": {
     "base_uri": "https://localhost:8080/",
     "height": 34
    },
    "colab_type": "code",
    "id": "HQyRz2YfsB1f",
    "outputId": "8c0c530f-417e-49b8-c496-1a69eec3b547"
   },
   "outputs": [
    {
     "name": "stdout",
     "output_type": "stream",
     "text": [
      "total chars: 29\n"
     ]
    }
   ],
   "source": [
    "chars = set(txt)\n",
    "print('total chars:', len(chars))\n",
    "char_indices = dict((c, i) for i, c in enumerate(chars))\n",
    "indices_char = dict((i, c) for i, c in enumerate(chars))"
   ]
  },
  {
   "cell_type": "code",
   "execution_count": 17,
   "metadata": {
    "colab": {
     "base_uri": "https://localhost:8080/",
     "height": 68
    },
    "colab_type": "code",
    "id": "PpNvfBaNsB1j",
    "outputId": "09461fde-cbd5-417f-ab7a-fcde18485a00"
   },
   "outputs": [
    {
     "name": "stdout",
     "output_type": "stream",
     "text": [
      "5000\n",
      "29\n"
     ]
    },
    {
     "data": {
      "text/plain": [
       "(None, None)"
      ]
     },
     "execution_count": 17,
     "metadata": {},
     "output_type": "execute_result"
    }
   ],
   "source": [
    "print (len(docs)), print(len(chars))"
   ]
  },
  {
   "cell_type": "code",
   "execution_count": 18,
   "metadata": {
    "colab": {
     "base_uri": "https://localhost:8080/",
     "height": 34
    },
    "colab_type": "code",
    "id": "Rk8BcqnMsB1n",
    "outputId": "7102b516-8260-430a-ec0a-a43befbebea6"
   },
   "outputs": [
    {
     "name": "stdout",
     "output_type": "stream",
     "text": [
      "Doing One hot encoding for training sample and targets:\n"
     ]
    }
   ],
   "source": [
    "print('Doing One hot encoding for training sample and targets:')\n",
    "x = np.ones((len(docs), max_sentences, maxlen), dtype=np.int64) * -1\n",
    "y = np.array(labels)\n",
    "for i, doc in enumerate(docs):\n",
    "    for j, sentence in enumerate(doc):\n",
    "        if j < max_sentences:\n",
    "            for t, char in enumerate(sentence[-maxlen:]):\n",
    "                x[i, j, (maxlen - 1 - t)] = char_indices[char]             "
   ]
  },
  {
   "cell_type": "code",
   "execution_count": 19,
   "metadata": {},
   "outputs": [
    {
     "name": "stdout",
     "output_type": "stream",
     "text": [
      "Sample Training X_train:[[23 16 21 ... 28 13  5]\n",
      " [-1 -1 -1 ... -1 -1 -1]\n",
      " [-1 -1 -1 ... -1 -1 -1]\n",
      " ...\n",
      " [-1 -1 -1 ... -1 -1 -1]\n",
      " [-1 -1 -1 ... -1 -1 -1]\n",
      " [-1 -1 -1 ... -1 -1 -1]]\n"
     ]
    }
   ],
   "source": [
    "print('Sample Training X_train:{}'.format(x[0]))"
   ]
  },
  {
   "cell_type": "code",
   "execution_count": 20,
   "metadata": {
    "colab": {
     "base_uri": "https://localhost:8080/",
     "height": 105
    },
    "colab_type": "code",
    "id": "aqdNOxxdsB1y",
    "outputId": "34aebd1a-638f-4f47-e491-88d8200140ba"
   },
   "outputs": [
    {
     "name": "stdout",
     "output_type": "stream",
     "text": [
      "training label: (5000, 50)\n"
     ]
    },
    {
     "name": "stderr",
     "output_type": "stream",
     "text": [
      "/home/ds-nlp/anaconda3/lib/python3.7/site-packages/sklearn/preprocessing/_encoders.py:415: FutureWarning: The handling of integer data will change in version 0.22. Currently, the categories are determined based on the range [0, max(values)], while in the future they will be determined based on the unique values.\n",
      "If you want the future behaviour and silence this warning, you can specify \"categories='auto'\".\n",
      "In case you used a LabelEncoder before this OneHotEncoder to convert the categories to integers, then you can now use the OneHotEncoder directly.\n",
      "  warnings.warn(msg, FutureWarning)\n"
     ]
    }
   ],
   "source": [
    "from sklearn.preprocessing import LabelEncoder, OneHotEncoder\n",
    "label_encoder = LabelEncoder()\n",
    "integer_encoded = label_encoder.fit_transform(y)\n",
    "# binary encode\n",
    "from sklearn.preprocessing import OneHotEncoder\n",
    "onehot_encoder = OneHotEncoder(sparse=False)\n",
    "integer_encoded = integer_encoded.reshape(len(integer_encoded), 1)\n",
    "y = onehot_encoder.fit_transform(integer_encoded)\n",
    "print('training label:', y.shape)"
   ]
  },
  {
   "cell_type": "code",
   "execution_count": 21,
   "metadata": {
    "colab": {
     "base_uri": "https://localhost:8080/",
     "height": 34
    },
    "colab_type": "code",
    "id": "I5XrWTdrsB12",
    "outputId": "75b7a3d8-be6b-42ff-d6f7-3b94fb16711d"
   },
   "outputs": [
    {
     "name": "stdout",
     "output_type": "stream",
     "text": [
      "(5000, 50)\n"
     ]
    }
   ],
   "source": [
    "print(y.shape)"
   ]
  },
  {
   "cell_type": "markdown",
   "metadata": {},
   "source": [
    "# Test dataset"
   ]
  },
  {
   "cell_type": "code",
   "execution_count": 22,
   "metadata": {},
   "outputs": [],
   "source": [
    "test_docs = []\n",
    "sent = []\n",
    "test_labels = []\n",
    "for cont, label in zip(ccat50_test.text, ccat50_test.label):\n",
    "    sent = re.split(r'(?<!\\w\\.\\w.)(?<![A-Z][a-z]\\.)(?<=\\.|\\?)\\s', \n",
    "                    clean(striphtml(cont)))\n",
    "    sent = [sent.lower() for sent in sent]\n",
    "    test_docs.append(sent)\n",
    "    test_labels.append(label)"
   ]
  },
  {
   "cell_type": "code",
   "execution_count": 23,
   "metadata": {},
   "outputs": [
    {
     "name": "stdout",
     "output_type": "stream",
     "text": [
      "Doing One hot encoding for testing sample and targets:\n",
      "(2500, 15, 512)\n"
     ]
    }
   ],
   "source": [
    "print('Doing One hot encoding for testing sample and targets:')\n",
    "x_test = np.ones((len(test_docs), max_sentences, maxlen), dtype=np.int64) * -1\n",
    "print(x_test.shape)\n",
    "y_test = np.array(test_labels)\n",
    "for i, doc in enumerate(test_docs):\n",
    "    for j, sentence in enumerate(doc):\n",
    "        if j < max_sentences:\n",
    "            for t, char in enumerate(sentence[-maxlen:]):\n",
    "                #print(t)\n",
    "                x_test[i, j, (maxlen - 1 - t)] = char_indices[char]             "
   ]
  },
  {
   "cell_type": "code",
   "execution_count": 24,
   "metadata": {},
   "outputs": [
    {
     "name": "stdout",
     "output_type": "stream",
     "text": [
      "training label: (2500, 50)\n"
     ]
    },
    {
     "name": "stderr",
     "output_type": "stream",
     "text": [
      "/home/ds-nlp/anaconda3/lib/python3.7/site-packages/sklearn/preprocessing/_encoders.py:415: FutureWarning: The handling of integer data will change in version 0.22. Currently, the categories are determined based on the range [0, max(values)], while in the future they will be determined based on the unique values.\n",
      "If you want the future behaviour and silence this warning, you can specify \"categories='auto'\".\n",
      "In case you used a LabelEncoder before this OneHotEncoder to convert the categories to integers, then you can now use the OneHotEncoder directly.\n",
      "  warnings.warn(msg, FutureWarning)\n"
     ]
    }
   ],
   "source": [
    "from sklearn.preprocessing import LabelEncoder, OneHotEncoder\n",
    "label_encoder = LabelEncoder()\n",
    "integer_encoded = label_encoder.fit_transform(y_test)\n",
    "# binary encode\n",
    "from sklearn.preprocessing import OneHotEncoder\n",
    "onehot_encoder = OneHotEncoder(sparse=False)\n",
    "integer_encoded = integer_encoded.reshape(len(integer_encoded), 1)\n",
    "y_test = onehot_encoder.fit_transform(integer_encoded)\n",
    "print('training label:', y_test.shape)"
   ]
  },
  {
   "cell_type": "markdown",
   "metadata": {
    "colab_type": "text",
    "id": "QPAQcFcVsB17"
   },
   "source": [
    "# Attention layer"
   ]
  },
  {
   "cell_type": "code",
   "execution_count": 25,
   "metadata": {
    "colab": {},
    "colab_type": "code",
    "id": "_bZyf25VsB18"
   },
   "outputs": [],
   "source": [
    "def dot_product(x, kernel):\n",
    "    if K.backend() == 'tensorflow':\n",
    "        return K.squeeze(K.dot(x, K.expand_dims(kernel)), axis=-1)\n",
    "    else:\n",
    "        return K.dot(x, kernel)"
   ]
  },
  {
   "cell_type": "code",
   "execution_count": 26,
   "metadata": {
    "colab": {},
    "colab_type": "code",
    "id": "jKzuDTaSsB1-"
   },
   "outputs": [],
   "source": [
    "class AttentionWithContext(Layer):\n",
    "   \n",
    "    def __init__(self, return_coefficients=False,\n",
    "                 W_regularizer=None, u_regularizer=None, b_regularizer=None,\n",
    "                 W_constraint=None, u_constraint=None, b_constraint=None,\n",
    "                 bias=True, **kwargs):\n",
    "        self.supports_masking = True\n",
    "        self.return_coefficients = return_coefficients\n",
    "        self.init = initializers.get('glorot_uniform')\n",
    "        \n",
    "        self.W_regularizer = regularizers.get(W_regularizer)\n",
    "        self.u_regularizer = regularizers.get(u_regularizer)\n",
    "        self.b_regularizer = regularizers.get(b_regularizer)\n",
    "        \n",
    "        self.W_constraint = constraints.get(W_constraint)\n",
    "        self.u_constraint = constraints.get(u_constraint)\n",
    "        self.b_constraint = constraints.get(b_constraint)\n",
    "        \n",
    "        self.bias = bias\n",
    "        super(AttentionWithContext, self).__init__(**kwargs)\n",
    "    \n",
    "    def build(self, input_shape):\n",
    "        assert len(input_shape) == 3\n",
    "        \n",
    "        self.W = self.add_weight((input_shape[-1], input_shape[-1],),\n",
    "                                 initializer=self.init,\n",
    "                                 name='{}_W'.format(self.name),\n",
    "                                 regularizer=self.W_regularizer,\n",
    "                                 constraint=self.W_constraint)\n",
    "        if self.bias:\n",
    "            self.b = self.add_weight((input_shape[-1],),\n",
    "                                     initializer='zero',\n",
    "                                     name='{}_b'.format(self.name),\n",
    "                                     regularizer=self.b_regularizer,\n",
    "                                     constraint=self.b_constraint)\n",
    "        \n",
    "        self.u = self.add_weight((input_shape[-1],),\n",
    "                                 initializer=self.init,\n",
    "                                 name='{}_u'.format(self.name),\n",
    "                                 regularizer=self.u_regularizer,\n",
    "                                 constraint=self.u_constraint)\n",
    "        \n",
    "        super(AttentionWithContext, self).build(input_shape)\n",
    "    \n",
    "    def compute_mask(self, input, input_mask=None):\n",
    "        # do not pass the mask to the next layers\n",
    "        return None\n",
    "    \n",
    "    def call(self, x, mask=None):\n",
    "        uit = dot_product(x, self.W)\n",
    "        \n",
    "        if self.bias:\n",
    "            uit += self.b\n",
    "        \n",
    "        uit = K.tanh(uit)\n",
    "        ait = dot_product(uit, self.u)\n",
    "        \n",
    "        a = K.exp(ait)\n",
    "        \n",
    "        # apply mask after the exp. will be re-normalized next\n",
    "        if mask is not None:\n",
    "            # Cast the mask to floatX to avoid float64 upcasting in theano\n",
    "            a *= K.cast(mask, K.floatx())\n",
    "        \n",
    "        # in some cases especially in the early stages of training the sum may be almost zero\n",
    "        # and this results in NaN's. A workaround is to add a very small positive number ε to the sum.\n",
    "        # a /= K.cast(K.sum(a, axis=1, keepdims=True), K.floatx())\n",
    "        a /= K.cast(K.sum(a, axis=1, keepdims=True) + K.epsilon(), K.floatx())\n",
    "        \n",
    "        a = K.expand_dims(a)\n",
    "        weighted_input = x * a\n",
    "        \n",
    "        if self.return_coefficients:\n",
    "            return [K.sum(weighted_input, axis=1), a]\n",
    "        else:\n",
    "            return K.sum(weighted_input, axis=1)\n",
    "    def compute_output_shape(self, input_shape):\n",
    "        if self.return_coefficients:\n",
    "            return [(input_shape[0], input_shape[-1]), (input_shape[0], input_shape[-1], 1)]\n",
    "        else:\n",
    "            return input_shape[0], input_shape[-1]"
   ]
  },
  {
   "cell_type": "markdown",
   "metadata": {
    "colab_type": "text",
    "id": "-cfTw2STsB2B"
   },
   "source": [
    "# Precision, Recall and F-Score Script"
   ]
  },
  {
   "cell_type": "code",
   "execution_count": 27,
   "metadata": {
    "colab": {},
    "colab_type": "code",
    "id": "XtVte8G0sB2B"
   },
   "outputs": [],
   "source": [
    "def f1(y_true, y_pred):\n",
    "    def recall(y_true, y_pred):\n",
    "        true_positives = K.sum(K.round(K.clip(y_true * y_pred, 0, 1)))\n",
    "        possible_positives = K.sum(K.round(K.clip(y_true, 0, 1)))\n",
    "        recall = true_positives / (possible_positives + K.epsilon())\n",
    "        return recall\n",
    "\n",
    "    def precision(y_true, y_pred):\n",
    "        true_positives = K.sum(K.round(K.clip(y_true * y_pred, 0, 1)))\n",
    "        predicted_positives = K.sum(K.round(K.clip(y_pred, 0, 1)))\n",
    "        precision = true_positives / (predicted_positives + K.epsilon())\n",
    "        return precision\n",
    "    precision = precision(y_true, y_pred)\n",
    "    recall = recall(y_true, y_pred)\n",
    "    return 2*((precision*recall)/(precision+recall+K.epsilon()))"
   ]
  },
  {
   "cell_type": "markdown",
   "metadata": {
    "colab_type": "text",
    "id": "gkAUQa4nsB2I"
   },
   "source": [
    "# Tensor board"
   ]
  },
  {
   "cell_type": "code",
   "execution_count": 28,
   "metadata": {
    "colab": {},
    "colab_type": "code",
    "id": "Hob-SISZsB2K"
   },
   "outputs": [],
   "source": [
    "# tensorbd_dir = 'drive/My Drive/Colab Notebooks/imbd62/'\n",
    "model_save_dir = '../../save_models/ccat50/'\n",
    "tensorboard = TensorBoard(log_dir=model_save_dir+'./ccat50_SGDW_logs',\n",
    "                         histogram_freq=0, \n",
    "                          write_graph=True, \n",
    "                         write_images=True)"
   ]
  },
  {
   "cell_type": "markdown",
   "metadata": {
    "colab_type": "text",
    "id": "khu9u0qUsB2N"
   },
   "source": [
    "# Callback"
   ]
  },
  {
   "cell_type": "code",
   "execution_count": 29,
   "metadata": {
    "colab": {},
    "colab_type": "code",
    "id": "KCZH6SWQsB2O"
   },
   "outputs": [],
   "source": [
    "reduce_lr_adam = ReduceLROnPlateau(monitor='val_loss',factor=0.5,\n",
    "                                   patience=5,min_lr=1e-4)\n",
    "reduce_lr_sgd = ReduceLROnPlateau(monitor='val_loss',\n",
    "                                  factor=0.5,patience=5, min_lr=1e-5)"
   ]
  },
  {
   "cell_type": "markdown",
   "metadata": {},
   "source": [
    "# Earlystop and others"
   ]
  },
  {
   "cell_type": "code",
   "execution_count": 30,
   "metadata": {},
   "outputs": [],
   "source": [
    "# EarlyStopping\n",
    "earlystop = keras.callbacks.EarlyStopping(monitor='val_loss',\n",
    "                                          patience=5,verbose=1,\n",
    "                                          mode='auto')\n",
    "num_epochs = 100\n",
    "#checkpointer\n",
    "checkpointer = ModelCheckpoint(model_save_dir+'ccat50_adamw_SGDW.hdf5', \n",
    "                               monitor='val_acc', \n",
    "                               verbose=1, save_best_only=True,\n",
    "                               mode='max')\n",
    "# CSV logger keras\n",
    "csv_logger = CSVLogger(model_save_dir+'ccat50_adamw_SGDW.csv', \n",
    "                       append=True, separator=';')"
   ]
  },
  {
   "cell_type": "markdown",
   "metadata": {
    "colab_type": "text",
    "id": "H0nIu1KesB2X"
   },
   "source": [
    "# Convolutional layer with filter, windows and pooling"
   ]
  },
  {
   "cell_type": "code",
   "execution_count": 31,
   "metadata": {
    "colab": {},
    "colab_type": "code",
    "id": "W9FrJ7nrsB2Y"
   },
   "outputs": [],
   "source": [
    "# Convolutional layer parameter\n",
    "filter_length = [7, 3, 3]\n",
    "nb_filter = [512, 256,128]\n",
    "pool_length = 2"
   ]
  },
  {
   "cell_type": "code",
   "execution_count": 32,
   "metadata": {
    "colab": {
     "base_uri": "https://localhost:8080/",
     "height": 88
    },
    "colab_type": "code",
    "id": "bzcmQP92sB2a",
    "outputId": "8d5524a8-5c02-4848-a6c6-dfc1f894c392"
   },
   "outputs": [
    {
     "name": "stdout",
     "output_type": "stream",
     "text": [
      "WARNING:tensorflow:From /home/ds-nlp/anaconda3/lib/python3.7/site-packages/keras/backend/tensorflow_backend.py:541: The name tf.placeholder is deprecated. Please use tf.compat.v1.placeholder instead.\n",
      "\n"
     ]
    }
   ],
   "source": [
    "# sentence input\n",
    "in_sentence = Input(shape=(maxlen,),\n",
    "                    dtype='int64',name='main_input1')\n",
    "# document input\n",
    "document = Input(shape=(max_sentences, maxlen), \n",
    "                 dtype='int64',name='main_input2')"
   ]
  },
  {
   "cell_type": "code",
   "execution_count": 33,
   "metadata": {
    "colab": {},
    "colab_type": "code",
    "id": "H9VIea1rsB2c"
   },
   "outputs": [],
   "source": [
    "def binarize(x, sz=30):\n",
    "    return tf.to_float(tf.one_hot(x, sz, on_value=1, off_value=0, axis=-1))\n",
    "def binarize_outshape(in_shape):\n",
    "    return in_shape[0], in_shape[1], 30"
   ]
  },
  {
   "cell_type": "code",
   "execution_count": 34,
   "metadata": {
    "colab": {
     "base_uri": "https://localhost:8080/",
     "height": 88
    },
    "colab_type": "code",
    "id": "PhwhF0VKsB2e",
    "outputId": "654c26e7-c703-40b1-c7a2-0399a8db6719"
   },
   "outputs": [
    {
     "name": "stdout",
     "output_type": "stream",
     "text": [
      "WARNING:tensorflow:From <ipython-input-33-4a1bbe77e1d2>:2: to_float (from tensorflow.python.ops.math_ops) is deprecated and will be removed in a future version.\n",
      "Instructions for updating:\n",
      "Use `tf.cast` instead.\n"
     ]
    }
   ],
   "source": [
    "embedded = Lambda(binarize, output_shape=binarize_outshape, \n",
    "                  name='embed_input')(in_sentence)"
   ]
  },
  {
   "cell_type": "code",
   "execution_count": 35,
   "metadata": {},
   "outputs": [],
   "source": [
    "from keras import initializers\n",
    "from keras.initializers import glorot_normal, normal"
   ]
  },
  {
   "cell_type": "markdown",
   "metadata": {
    "colab_type": "text",
    "id": "ZSQXhhRrsB2g"
   },
   "source": [
    "# Encoding Layer"
   ]
  },
  {
   "cell_type": "code",
   "execution_count": 36,
   "metadata": {
    "colab": {
     "base_uri": "https://localhost:8080/",
     "height": 802
    },
    "colab_type": "code",
    "id": "mFL-6sIKsB2g",
    "outputId": "306e2c83-db50-4da3-e335-bc7ba4f58368"
   },
   "outputs": [
    {
     "name": "stdout",
     "output_type": "stream",
     "text": [
      "WARNING:tensorflow:From /home/ds-nlp/anaconda3/lib/python3.7/site-packages/keras/backend/tensorflow_backend.py:66: The name tf.get_default_graph is deprecated. Please use tf.compat.v1.get_default_graph instead.\n",
      "\n",
      "WARNING:tensorflow:From /home/ds-nlp/anaconda3/lib/python3.7/site-packages/keras/backend/tensorflow_backend.py:4479: The name tf.truncated_normal is deprecated. Please use tf.random.truncated_normal instead.\n",
      "\n",
      "WARNING:tensorflow:From /home/ds-nlp/anaconda3/lib/python3.7/site-packages/keras/backend/tensorflow_backend.py:148: The name tf.placeholder_with_default is deprecated. Please use tf.compat.v1.placeholder_with_default instead.\n",
      "\n",
      "WARNING:tensorflow:From /home/ds-nlp/anaconda3/lib/python3.7/site-packages/keras/backend/tensorflow_backend.py:3733: calling dropout (from tensorflow.python.ops.nn_ops) with keep_prob is deprecated and will be removed in a future version.\n",
      "Instructions for updating:\n",
      "Please use `rate` instead of `keep_prob`. Rate should be set to `rate = 1 - keep_prob`.\n",
      "WARNING:tensorflow:From /home/ds-nlp/anaconda3/lib/python3.7/site-packages/keras/backend/tensorflow_backend.py:4267: The name tf.nn.max_pool is deprecated. Please use tf.nn.max_pool2d instead.\n",
      "\n",
      "WARNING:tensorflow:From /home/ds-nlp/anaconda3/lib/python3.7/site-packages/keras/backend/tensorflow_backend.py:4432: The name tf.random_uniform is deprecated. Please use tf.random.uniform instead.\n",
      "\n",
      "Model: \"model_1\"\n",
      "_________________________________________________________________\n",
      "Layer (type)                 Output Shape              Param #   \n",
      "=================================================================\n",
      "main_input1 (InputLayer)     (None, 512)               0         \n",
      "_________________________________________________________________\n",
      "embed_input (Lambda)         (None, 512, 30)           0         \n",
      "_________________________________________________________________\n",
      "conv1d_1 (Conv1D)            (None, 506, 512)          108032    \n",
      "_________________________________________________________________\n",
      "conv1d_2 (Conv1D)            (None, 504, 256)          393472    \n",
      "_________________________________________________________________\n",
      "conv1d_3 (Conv1D)            (None, 502, 128)          98432     \n",
      "_________________________________________________________________\n",
      "dropout_1 (Dropout)          (None, 502, 128)          0         \n",
      "_________________________________________________________________\n",
      "max_pooling1d_1 (MaxPooling1 (None, 251, 128)          0         \n",
      "_________________________________________________________________\n",
      "bidirectional_1 (Bidirection (None, 256)               263168    \n",
      "_________________________________________________________________\n",
      "dropout_2 (Dropout)          (None, 256)               0         \n",
      "=================================================================\n",
      "Total params: 863,104\n",
      "Trainable params: 863,104\n",
      "Non-trainable params: 0\n",
      "_________________________________________________________________\n"
     ]
    }
   ],
   "source": [
    "# embedded: encodes sentence\n",
    "for i in range(len(nb_filter)):\n",
    "    embedded = Conv1D(filters=nb_filter[i],\n",
    "                      kernel_size=filter_length[i],\n",
    "                      padding='valid',\n",
    "                      activation='relu',\n",
    "                      kernel_initializer='glorot_normal',\n",
    "                      strides=1)(embedded)\n",
    "\n",
    "embedded = Dropout(0.3)(embedded)\n",
    "embedded = MaxPooling1D(pool_size=pool_length)(embedded)\n",
    "\n",
    "bi_lstm_sent = \\\n",
    "    Bidirectional(LSTM(128, return_sequences=False))(embedded)\n",
    "sent_encode = Dropout(0.3)(bi_lstm_sent)\n",
    "encoder = Model(inputs=in_sentence, outputs=sent_encode)\n",
    "encoder.summary()"
   ]
  },
  {
   "cell_type": "markdown",
   "metadata": {
    "colab_type": "text",
    "id": "abxdg5iisB2k"
   },
   "source": [
    "# Decoder Layer"
   ]
  },
  {
   "cell_type": "code",
   "execution_count": 37,
   "metadata": {},
   "outputs": [],
   "source": [
    "def build_cnn():    \n",
    "    encoded = TimeDistributed(encoder)(document)\n",
    "    # encoded: sentences to bi-lstm for document encoding \n",
    "    b_lstm_doc = \\\n",
    "        Bidirectional(LSTM(128, return_sequences=False))(encoded)\n",
    "#     output = AttentionWithContext()(b_lstm_doc)\n",
    "    output = Dropout(0.7)(b_lstm_doc)\n",
    "    output = Dense(1024, activation='relu')(output)\n",
    "    output = Dropout(0.5)(output)\n",
    "    output = Dense(nb_classes, activation='softmax')(output)\n",
    "    model = Model(inputs=document, outputs=output)\n",
    "    model.summary()\n",
    "    return model"
   ]
  },
  {
   "cell_type": "markdown",
   "metadata": {
    "colab_type": "text",
    "id": "ENGRcp2R3D4k"
   },
   "source": [
    "# Training with AdamW \n",
    "  * from: https://github.com/shaoanlu/AdamW-and-SGDW"
   ]
  },
  {
   "cell_type": "code",
   "execution_count": 34,
   "metadata": {},
   "outputs": [
    {
     "name": "stdout",
     "output_type": "stream",
     "text": [
      "WARNING:tensorflow:Large dropout rate: 0.7 (>0.5). In TensorFlow 2.x, dropout() uses dropout rate instead of keep_prob. Please ensure that this is intended.\n",
      "Model: \"model_2\"\n",
      "_________________________________________________________________\n",
      "Layer (type)                 Output Shape              Param #   \n",
      "=================================================================\n",
      "main_input2 (InputLayer)     (None, 15, 512)           0         \n",
      "_________________________________________________________________\n",
      "time_distributed_1 (TimeDist (None, 15, 256)           863104    \n",
      "_________________________________________________________________\n",
      "bidirectional_2 (Bidirection (None, 256)               394240    \n",
      "_________________________________________________________________\n",
      "dropout_3 (Dropout)          (None, 256)               0         \n",
      "_________________________________________________________________\n",
      "dense_1 (Dense)              (None, 1024)              263168    \n",
      "_________________________________________________________________\n",
      "dropout_4 (Dropout)          (None, 1024)              0         \n",
      "_________________________________________________________________\n",
      "dense_2 (Dense)              (None, 50)                51250     \n",
      "=================================================================\n",
      "Total params: 1,571,762\n",
      "Trainable params: 1,571,762\n",
      "Non-trainable params: 0\n",
      "_________________________________________________________________\n",
      "WARNING:tensorflow:From /home/ds-nlp/anaconda3/lib/python3.7/site-packages/keras/optimizers.py:793: The name tf.train.Optimizer is deprecated. Please use tf.compat.v1.train.Optimizer instead.\n",
      "\n"
     ]
    }
   ],
   "source": [
    "# Adam parameter\n",
    "model_ccat50 = build_cnn()\n",
    "b, B, T = batch_size, x.shape[0], num_epochs\n",
    "wd = 0.005 * (b/B/T)**0.5\n",
    "model_ccat50.compile(loss='categorical_crossentropy',\n",
    "                optimizer=AdamW(weight_decay=wd),metrics=['accuracy',f1])"
   ]
  },
  {
   "cell_type": "code",
   "execution_count": 39,
   "metadata": {},
   "outputs": [],
   "source": [
    "# save model\n",
    "model_ccat50.save_weights(model_save_dir+\"saved_ccat50_model.h5\")"
   ]
  },
  {
   "cell_type": "code",
   "execution_count": 40,
   "metadata": {
    "colab": {
     "base_uri": "https://localhost:8080/",
     "height": 1000
    },
    "colab_type": "code",
    "id": "tq41WmlH3Avk",
    "outputId": "025d9882-32a7-453d-ad82-0f44e947e6fe"
   },
   "outputs": [
    {
     "name": "stdout",
     "output_type": "stream",
     "text": [
      "-----------------------------\n",
      "Processing fold # 0\n",
      "-----------------------------\n",
      "WARNING:tensorflow:From /home/ds-nlp/anaconda3/lib/python3.7/site-packages/tensorflow/python/ops/math_grad.py:1250: add_dispatch_support.<locals>.wrapper (from tensorflow.python.ops.array_ops) is deprecated and will be removed in a future version.\n",
      "Instructions for updating:\n",
      "Use tf.where in 2.0, which has the same broadcast rule as np.where\n",
      "Train on 4000 samples, validate on 1000 samples\n",
      "Epoch 1/80\n",
      "4000/4000 [==============================] - 296s 74ms/step - loss: 3.8880 - acc: 0.0227 - f1: 0.0000e+00 - val_loss: 4.1968 - val_acc: 0.0000e+00 - val_f1: 0.0000e+00\n",
      "\n",
      "Epoch 00001: val_acc improved from -inf to 0.00000, saving model to ../../save_models/ccat50/ccat50_adamw.hdf5\n",
      "Epoch 2/80\n",
      "4000/4000 [==============================] - 291s 73ms/step - loss: 3.7744 - acc: 0.0398 - f1: 4.8485e-04 - val_loss: 4.1386 - val_acc: 0.0000e+00 - val_f1: 0.0000e+00\n",
      "\n",
      "Epoch 00002: val_acc did not improve from 0.00000\n",
      "Epoch 3/80\n",
      "4000/4000 [==============================] - 291s 73ms/step - loss: 3.4722 - acc: 0.0877 - f1: 0.0456 - val_loss: 3.9196 - val_acc: 0.0000e+00 - val_f1: 0.0000e+00\n",
      "\n",
      "Epoch 00003: val_acc did not improve from 0.00000\n",
      "Epoch 4/80\n",
      "4000/4000 [==============================] - 291s 73ms/step - loss: 3.1774 - acc: 0.1305 - f1: 0.0889 - val_loss: 3.7817 - val_acc: 0.0000e+00 - val_f1: 0.0000e+00\n",
      "\n",
      "Epoch 00004: val_acc did not improve from 0.00000\n",
      "Epoch 5/80\n",
      "4000/4000 [==============================] - 291s 73ms/step - loss: 2.9308 - acc: 0.1668 - f1: 0.1250 - val_loss: 3.4226 - val_acc: 0.0410 - val_f1: 0.0000e+00\n",
      "\n",
      "Epoch 00005: val_acc improved from 0.00000 to 0.04100, saving model to ../../save_models/ccat50/ccat50_adamw.hdf5\n",
      "Epoch 6/80\n",
      "4000/4000 [==============================] - 291s 73ms/step - loss: 2.7106 - acc: 0.1903 - f1: 0.1405 - val_loss: 3.1980 - val_acc: 0.0790 - val_f1: 0.0456\n",
      "\n",
      "Epoch 00006: val_acc improved from 0.04100 to 0.07900, saving model to ../../save_models/ccat50/ccat50_adamw.hdf5\n",
      "Epoch 7/80\n",
      "4000/4000 [==============================] - 290s 73ms/step - loss: 2.4819 - acc: 0.2415 - f1: 0.1768 - val_loss: 2.9086 - val_acc: 0.1140 - val_f1: 0.0517\n",
      "\n",
      "Epoch 00007: val_acc improved from 0.07900 to 0.11400, saving model to ../../save_models/ccat50/ccat50_adamw.hdf5\n",
      "Epoch 8/80\n",
      "4000/4000 [==============================] - 290s 73ms/step - loss: 2.2273 - acc: 0.2925 - f1: 0.2228 - val_loss: 2.7849 - val_acc: 0.1220 - val_f1: 0.0798\n",
      "\n",
      "Epoch 00008: val_acc improved from 0.11400 to 0.12200, saving model to ../../save_models/ccat50/ccat50_adamw.hdf5\n",
      "Epoch 9/80\n",
      "4000/4000 [==============================] - 290s 73ms/step - loss: 2.0643 - acc: 0.3285 - f1: 0.2465 - val_loss: 2.6911 - val_acc: 0.1620 - val_f1: 0.0798\n",
      "\n",
      "Epoch 00009: val_acc improved from 0.12200 to 0.16200, saving model to ../../save_models/ccat50/ccat50_adamw.hdf5\n",
      "Epoch 10/80\n",
      "4000/4000 [==============================] - 290s 73ms/step - loss: 1.8789 - acc: 0.3747 - f1: 0.2966 - val_loss: 2.3945 - val_acc: 0.2120 - val_f1: 0.1154\n",
      "\n",
      "Epoch 00010: val_acc improved from 0.16200 to 0.21200, saving model to ../../save_models/ccat50/ccat50_adamw.hdf5\n",
      "Epoch 11/80\n",
      "4000/4000 [==============================] - 291s 73ms/step - loss: 1.7272 - acc: 0.4153 - f1: 0.3301 - val_loss: 2.2930 - val_acc: 0.2280 - val_f1: 0.1321\n",
      "\n",
      "Epoch 00011: val_acc improved from 0.21200 to 0.22800, saving model to ../../save_models/ccat50/ccat50_adamw.hdf5\n",
      "Epoch 12/80\n",
      "4000/4000 [==============================] - 291s 73ms/step - loss: 1.6041 - acc: 0.4425 - f1: 0.3612 - val_loss: 2.0526 - val_acc: 0.2810 - val_f1: 0.1642\n",
      "\n",
      "Epoch 00012: val_acc improved from 0.22800 to 0.28100, saving model to ../../save_models/ccat50/ccat50_adamw.hdf5\n",
      "Epoch 13/80\n",
      "4000/4000 [==============================] - 291s 73ms/step - loss: 1.4942 - acc: 0.4860 - f1: 0.4222 - val_loss: 2.0952 - val_acc: 0.2960 - val_f1: 0.1742\n",
      "\n",
      "Epoch 00013: val_acc improved from 0.28100 to 0.29600, saving model to ../../save_models/ccat50/ccat50_adamw.hdf5\n",
      "Epoch 14/80\n",
      "4000/4000 [==============================] - 290s 73ms/step - loss: 1.4090 - acc: 0.5037 - f1: 0.4563 - val_loss: 2.2014 - val_acc: 0.2520 - val_f1: 0.1572\n",
      "\n",
      "Epoch 00014: val_acc did not improve from 0.29600\n",
      "Epoch 15/80\n",
      "4000/4000 [==============================] - 290s 73ms/step - loss: 1.3272 - acc: 0.5473 - f1: 0.5052 - val_loss: 1.9306 - val_acc: 0.3180 - val_f1: 0.1916\n",
      "\n",
      "Epoch 00015: val_acc improved from 0.29600 to 0.31800, saving model to ../../save_models/ccat50/ccat50_adamw.hdf5\n",
      "Epoch 16/80\n",
      "4000/4000 [==============================] - 290s 73ms/step - loss: 1.2030 - acc: 0.5820 - f1: 0.5452 - val_loss: 1.6941 - val_acc: 0.3970 - val_f1: 0.2291\n",
      "\n",
      "Epoch 00016: val_acc improved from 0.31800 to 0.39700, saving model to ../../save_models/ccat50/ccat50_adamw.hdf5\n",
      "Epoch 17/80\n",
      "4000/4000 [==============================] - 290s 73ms/step - loss: 1.1260 - acc: 0.6160 - f1: 0.5919 - val_loss: 1.6473 - val_acc: 0.4210 - val_f1: 0.2818\n",
      "\n",
      "Epoch 00017: val_acc improved from 0.39700 to 0.42100, saving model to ../../save_models/ccat50/ccat50_adamw.hdf5\n",
      "Epoch 18/80\n",
      "4000/4000 [==============================] - 291s 73ms/step - loss: 0.9969 - acc: 0.6540 - f1: 0.6286 - val_loss: 1.4784 - val_acc: 0.4900 - val_f1: 0.2807\n",
      "\n",
      "Epoch 00018: val_acc improved from 0.42100 to 0.49000, saving model to ../../save_models/ccat50/ccat50_adamw.hdf5\n",
      "Epoch 19/80\n",
      "4000/4000 [==============================] - 290s 73ms/step - loss: 0.9228 - acc: 0.6853 - f1: 0.6599 - val_loss: 1.5067 - val_acc: 0.4630 - val_f1: 0.3356\n",
      "\n",
      "Epoch 00019: val_acc did not improve from 0.49000\n",
      "Epoch 20/80\n",
      "4000/4000 [==============================] - 291s 73ms/step - loss: 0.8644 - acc: 0.7060 - f1: 0.6896 - val_loss: 1.4328 - val_acc: 0.5010 - val_f1: 0.4025\n",
      "\n",
      "Epoch 00020: val_acc improved from 0.49000 to 0.50100, saving model to ../../save_models/ccat50/ccat50_adamw.hdf5\n",
      "Epoch 21/80\n",
      "4000/4000 [==============================] - 290s 73ms/step - loss: 0.8068 - acc: 0.7210 - f1: 0.7134 - val_loss: 1.3948 - val_acc: 0.5670 - val_f1: 0.4540\n",
      "\n",
      "Epoch 00021: val_acc improved from 0.50100 to 0.56700, saving model to ../../save_models/ccat50/ccat50_adamw.hdf5\n",
      "Epoch 22/80\n",
      "4000/4000 [==============================] - 290s 73ms/step - loss: 0.7237 - acc: 0.7548 - f1: 0.7450 - val_loss: 1.1146 - val_acc: 0.6500 - val_f1: 0.5964\n",
      "\n",
      "Epoch 00022: val_acc improved from 0.56700 to 0.65000, saving model to ../../save_models/ccat50/ccat50_adamw.hdf5\n",
      "Epoch 23/80\n",
      "4000/4000 [==============================] - 290s 73ms/step - loss: 0.6828 - acc: 0.7702 - f1: 0.7615 - val_loss: 1.4124 - val_acc: 0.5750 - val_f1: 0.5183\n",
      "\n",
      "Epoch 00023: val_acc did not improve from 0.65000\n",
      "Epoch 24/80\n",
      "4000/4000 [==============================] - 290s 73ms/step - loss: 0.6014 - acc: 0.7963 - f1: 0.7910 - val_loss: 1.1062 - val_acc: 0.6760 - val_f1: 0.6532\n",
      "\n",
      "Epoch 00024: val_acc improved from 0.65000 to 0.67600, saving model to ../../save_models/ccat50/ccat50_adamw.hdf5\n",
      "Epoch 25/80\n",
      "4000/4000 [==============================] - 290s 73ms/step - loss: 0.5932 - acc: 0.8083 - f1: 0.8014 - val_loss: 0.9878 - val_acc: 0.6980 - val_f1: 0.6715\n",
      "\n",
      "Epoch 00025: val_acc improved from 0.67600 to 0.69800, saving model to ../../save_models/ccat50/ccat50_adamw.hdf5\n",
      "Epoch 26/80\n",
      "4000/4000 [==============================] - 290s 72ms/step - loss: 0.5178 - acc: 0.8250 - f1: 0.8228 - val_loss: 0.9605 - val_acc: 0.7140 - val_f1: 0.7089\n",
      "\n",
      "Epoch 00026: val_acc improved from 0.69800 to 0.71400, saving model to ../../save_models/ccat50/ccat50_adamw.hdf5\n",
      "Epoch 27/80\n",
      "4000/4000 [==============================] - 291s 73ms/step - loss: 0.4756 - acc: 0.8413 - f1: 0.8422 - val_loss: 0.9637 - val_acc: 0.7280 - val_f1: 0.7152\n",
      "\n",
      "Epoch 00027: val_acc improved from 0.71400 to 0.72800, saving model to ../../save_models/ccat50/ccat50_adamw.hdf5\n",
      "Epoch 28/80\n",
      "4000/4000 [==============================] - 291s 73ms/step - loss: 0.4060 - acc: 0.8638 - f1: 0.8600 - val_loss: 1.0216 - val_acc: 0.7200 - val_f1: 0.7055\n",
      "\n",
      "Epoch 00028: val_acc did not improve from 0.72800\n",
      "Epoch 29/80\n",
      "4000/4000 [==============================] - 290s 73ms/step - loss: 0.4242 - acc: 0.8618 - f1: 0.8636 - val_loss: 1.0257 - val_acc: 0.7200 - val_f1: 0.7116\n",
      "\n",
      "Epoch 00029: val_acc did not improve from 0.72800\n",
      "Epoch 30/80\n",
      "4000/4000 [==============================] - 291s 73ms/step - loss: 0.3626 - acc: 0.8825 - f1: 0.8835 - val_loss: 0.9928 - val_acc: 0.7310 - val_f1: 0.7184\n",
      "\n",
      "Epoch 00030: val_acc improved from 0.72800 to 0.73100, saving model to ../../save_models/ccat50/ccat50_adamw.hdf5\n",
      "Epoch 31/80\n",
      "4000/4000 [==============================] - 291s 73ms/step - loss: 0.4124 - acc: 0.8755 - f1: 0.8733 - val_loss: 0.9046 - val_acc: 0.7620 - val_f1: 0.7536\n",
      "\n",
      "Epoch 00031: val_acc improved from 0.73100 to 0.76200, saving model to ../../save_models/ccat50/ccat50_adamw.hdf5\n",
      "Epoch 32/80\n",
      "4000/4000 [==============================] - 290s 73ms/step - loss: 0.3527 - acc: 0.8872 - f1: 0.8872 - val_loss: 0.9458 - val_acc: 0.7550 - val_f1: 0.7454\n",
      "\n",
      "Epoch 00032: val_acc did not improve from 0.76200\n",
      "Epoch 33/80\n",
      "4000/4000 [==============================] - 290s 73ms/step - loss: 0.3166 - acc: 0.9020 - f1: 0.9044 - val_loss: 0.9842 - val_acc: 0.7370 - val_f1: 0.7353\n",
      "\n",
      "Epoch 00033: val_acc did not improve from 0.76200\n",
      "Epoch 34/80\n",
      "4000/4000 [==============================] - 290s 73ms/step - loss: 0.2908 - acc: 0.9075 - f1: 0.9098 - val_loss: 0.9319 - val_acc: 0.7720 - val_f1: 0.7731\n",
      "\n",
      "Epoch 00034: val_acc improved from 0.76200 to 0.77200, saving model to ../../save_models/ccat50/ccat50_adamw.hdf5\n",
      "Epoch 35/80\n",
      "4000/4000 [==============================] - 290s 73ms/step - loss: 0.3310 - acc: 0.8988 - f1: 0.9001 - val_loss: 0.9062 - val_acc: 0.7750 - val_f1: 0.7715\n",
      "\n",
      "Epoch 00035: val_acc improved from 0.77200 to 0.77500, saving model to ../../save_models/ccat50/ccat50_adamw.hdf5\n",
      "Epoch 36/80\n",
      "4000/4000 [==============================] - 290s 73ms/step - loss: 0.2758 - acc: 0.9180 - f1: 0.9176 - val_loss: 1.0533 - val_acc: 0.7740 - val_f1: 0.7750\n",
      "\n",
      "Epoch 00036: val_acc did not improve from 0.77500\n",
      "Epoch 00036: early stopping\n",
      "-----------------------------\n",
      "Processing fold # 1\n",
      "-----------------------------\n",
      "Train on 4000 samples, validate on 1000 samples\n",
      "Epoch 1/80\n",
      "4000/4000 [==============================] - 290s 72ms/step - loss: 0.4216 - acc: 0.8772 - f1: 0.8777 - val_loss: 0.0572 - val_acc: 0.9870 - val_f1: 0.9879\n",
      "\n",
      "Epoch 00001: val_acc improved from 0.77500 to 0.98700, saving model to ../../save_models/ccat50/ccat50_adamw.hdf5\n",
      "Epoch 2/80\n",
      "4000/4000 [==============================] - 290s 72ms/step - loss: 0.2338 - acc: 0.9257 - f1: 0.9251 - val_loss: 0.0366 - val_acc: 0.9860 - val_f1: 0.9884\n",
      "\n",
      "Epoch 00002: val_acc did not improve from 0.98700\n",
      "Epoch 3/80\n",
      "4000/4000 [==============================] - 290s 72ms/step - loss: 0.1945 - acc: 0.9425 - f1: 0.9417 - val_loss: 0.0423 - val_acc: 0.9880 - val_f1: 0.9880\n",
      "\n",
      "Epoch 00003: val_acc improved from 0.98700 to 0.98800, saving model to ../../save_models/ccat50/ccat50_adamw.hdf5\n",
      "Epoch 4/80\n",
      "4000/4000 [==============================] - 290s 73ms/step - loss: 0.1517 - acc: 0.9530 - f1: 0.9532 - val_loss: 0.0449 - val_acc: 0.9870 - val_f1: 0.9884\n",
      "\n",
      "Epoch 00004: val_acc did not improve from 0.98800\n",
      "Epoch 5/80\n",
      "4000/4000 [==============================] - 290s 72ms/step - loss: 0.1516 - acc: 0.9560 - f1: 0.9547 - val_loss: 0.0247 - val_acc: 0.9930 - val_f1: 0.9934\n",
      "\n",
      "Epoch 00005: val_acc improved from 0.98800 to 0.99300, saving model to ../../save_models/ccat50/ccat50_adamw.hdf5\n",
      "Epoch 6/80\n",
      "4000/4000 [==============================] - 290s 72ms/step - loss: 0.1419 - acc: 0.9613 - f1: 0.9612 - val_loss: 0.0263 - val_acc: 0.9930 - val_f1: 0.9939\n",
      "\n",
      "Epoch 00006: val_acc did not improve from 0.99300\n",
      "Epoch 7/80\n",
      "4000/4000 [==============================] - 290s 73ms/step - loss: 0.1201 - acc: 0.9620 - f1: 0.9624 - val_loss: 0.0225 - val_acc: 0.9950 - val_f1: 0.9950\n",
      "\n",
      "Epoch 00007: val_acc improved from 0.99300 to 0.99500, saving model to ../../save_models/ccat50/ccat50_adamw.hdf5\n",
      "Epoch 8/80\n",
      "4000/4000 [==============================] - 290s 72ms/step - loss: 0.1104 - acc: 0.9667 - f1: 0.9660 - val_loss: 0.0424 - val_acc: 0.9860 - val_f1: 0.9863\n",
      "\n",
      "Epoch 00008: val_acc did not improve from 0.99500\n",
      "Epoch 9/80\n",
      "4000/4000 [==============================] - 290s 72ms/step - loss: 0.1045 - acc: 0.9673 - f1: 0.9676 - val_loss: 0.0289 - val_acc: 0.9940 - val_f1: 0.9930\n",
      "\n",
      "Epoch 00009: val_acc did not improve from 0.99500\n",
      "Epoch 10/80\n",
      "4000/4000 [==============================] - 290s 72ms/step - loss: 0.1148 - acc: 0.9645 - f1: 0.9653 - val_loss: 0.0327 - val_acc: 0.9870 - val_f1: 0.9869\n",
      "\n",
      "Epoch 00010: val_acc did not improve from 0.99500\n",
      "Epoch 11/80\n",
      "4000/4000 [==============================] - 290s 72ms/step - loss: 0.1054 - acc: 0.9670 - f1: 0.9673 - val_loss: 0.0476 - val_acc: 0.9860 - val_f1: 0.9869\n",
      "\n",
      "Epoch 00011: val_acc did not improve from 0.99500\n",
      "Epoch 12/80\n",
      "4000/4000 [==============================] - 290s 73ms/step - loss: 0.1017 - acc: 0.9695 - f1: 0.9696 - val_loss: 0.0408 - val_acc: 0.9860 - val_f1: 0.9850\n",
      "\n",
      "Epoch 00012: val_acc did not improve from 0.99500\n",
      "Epoch 00012: early stopping\n",
      "-----------------------------\n",
      "Processing fold # 2\n",
      "-----------------------------\n",
      "Train on 4000 samples, validate on 1000 samples\n",
      "Epoch 1/80\n",
      "4000/4000 [==============================] - 291s 73ms/step - loss: 0.0981 - acc: 0.9688 - f1: 0.9700 - val_loss: 0.0108 - val_acc: 0.9970 - val_f1: 0.9970\n",
      "\n",
      "Epoch 00001: val_acc improved from 0.99500 to 0.99700, saving model to ../../save_models/ccat50/ccat50_adamw.hdf5\n",
      "Epoch 2/80\n",
      "4000/4000 [==============================] - 291s 73ms/step - loss: 0.0552 - acc: 0.9850 - f1: 0.9848 - val_loss: 0.0141 - val_acc: 0.9930 - val_f1: 0.9930\n",
      "\n",
      "Epoch 00002: val_acc did not improve from 0.99700\n",
      "Epoch 3/80\n",
      "4000/4000 [==============================] - 290s 73ms/step - loss: 0.0670 - acc: 0.9802 - f1: 0.9799 - val_loss: 0.0100 - val_acc: 0.9950 - val_f1: 0.9955\n",
      "\n",
      "Epoch 00003: val_acc did not improve from 0.99700\n",
      "Epoch 4/80\n",
      "4000/4000 [==============================] - 290s 73ms/step - loss: 0.0522 - acc: 0.9848 - f1: 0.9845 - val_loss: 0.0107 - val_acc: 0.9950 - val_f1: 0.9955\n",
      "\n",
      "Epoch 00004: val_acc did not improve from 0.99700\n",
      "Epoch 5/80\n",
      "4000/4000 [==============================] - 290s 73ms/step - loss: 0.0557 - acc: 0.9848 - f1: 0.9846 - val_loss: 0.0045 - val_acc: 0.9990 - val_f1: 0.9990\n",
      "\n",
      "Epoch 00005: val_acc improved from 0.99700 to 0.99900, saving model to ../../save_models/ccat50/ccat50_adamw.hdf5\n",
      "Epoch 6/80\n",
      "4000/4000 [==============================] - 290s 72ms/step - loss: 0.0592 - acc: 0.9815 - f1: 0.9822 - val_loss: 0.0074 - val_acc: 0.9970 - val_f1: 0.9965\n",
      "\n",
      "Epoch 00006: val_acc did not improve from 0.99900\n",
      "Epoch 7/80\n",
      "4000/4000 [==============================] - 290s 73ms/step - loss: 0.0408 - acc: 0.9878 - f1: 0.9873 - val_loss: 0.0068 - val_acc: 0.9960 - val_f1: 0.9960\n",
      "\n",
      "Epoch 00007: val_acc did not improve from 0.99900\n",
      "Epoch 8/80\n",
      "4000/4000 [==============================] - 290s 73ms/step - loss: 0.0405 - acc: 0.9880 - f1: 0.9880 - val_loss: 0.0054 - val_acc: 0.9980 - val_f1: 0.9980\n",
      "\n",
      "Epoch 00008: val_acc did not improve from 0.99900\n",
      "Epoch 9/80\n",
      "4000/4000 [==============================] - 290s 73ms/step - loss: 0.0398 - acc: 0.9885 - f1: 0.9890 - val_loss: 0.0087 - val_acc: 0.9990 - val_f1: 0.9990\n",
      "\n",
      "Epoch 00009: val_acc did not improve from 0.99900\n",
      "Epoch 10/80\n",
      "4000/4000 [==============================] - 290s 73ms/step - loss: 0.0429 - acc: 0.9882 - f1: 0.9878 - val_loss: 0.0047 - val_acc: 0.9990 - val_f1: 0.9995\n",
      "\n",
      "Epoch 00010: val_acc did not improve from 0.99900\n",
      "Epoch 00010: early stopping\n",
      "-----------------------------\n",
      "Processing fold # 3\n",
      "-----------------------------\n",
      "Train on 4000 samples, validate on 1000 samples\n",
      "Epoch 1/80\n",
      "4000/4000 [==============================] - 290s 73ms/step - loss: 0.0412 - acc: 0.9878 - f1: 0.9882 - val_loss: 0.0029 - val_acc: 0.9990 - val_f1: 0.9990\n",
      "\n",
      "Epoch 00001: val_acc did not improve from 0.99900\n",
      "Epoch 2/80\n",
      "4000/4000 [==============================] - 290s 73ms/step - loss: 0.0384 - acc: 0.9890 - f1: 0.9887 - val_loss: 0.0030 - val_acc: 0.9990 - val_f1: 0.9990\n",
      "\n",
      "Epoch 00002: val_acc did not improve from 0.99900\n",
      "Epoch 3/80\n",
      "4000/4000 [==============================] - 290s 73ms/step - loss: 0.0345 - acc: 0.9900 - f1: 0.9898 - val_loss: 0.0029 - val_acc: 0.9990 - val_f1: 0.9990\n",
      "\n",
      "Epoch 00003: val_acc did not improve from 0.99900\n",
      "Epoch 4/80\n",
      "4000/4000 [==============================] - 290s 72ms/step - loss: 0.0342 - acc: 0.9885 - f1: 0.9882 - val_loss: 0.0017 - val_acc: 0.9990 - val_f1: 0.9990\n",
      "\n",
      "Epoch 00004: val_acc did not improve from 0.99900\n",
      "Epoch 5/80\n",
      "4000/4000 [==============================] - 290s 72ms/step - loss: 0.0300 - acc: 0.9920 - f1: 0.9921 - val_loss: 0.0016 - val_acc: 0.9990 - val_f1: 0.9990\n",
      "\n",
      "Epoch 00005: val_acc did not improve from 0.99900\n",
      "Epoch 6/80\n",
      "4000/4000 [==============================] - 290s 73ms/step - loss: 0.0294 - acc: 0.9903 - f1: 0.9907 - val_loss: 0.0036 - val_acc: 0.9990 - val_f1: 0.9990\n",
      "\n",
      "Epoch 00006: val_acc did not improve from 0.99900\n",
      "Epoch 7/80\n",
      "4000/4000 [==============================] - 290s 72ms/step - loss: 0.0231 - acc: 0.9942 - f1: 0.9945 - val_loss: 0.0044 - val_acc: 0.9980 - val_f1: 0.9980\n",
      "\n",
      "Epoch 00007: val_acc did not improve from 0.99900\n",
      "Epoch 8/80\n",
      "4000/4000 [==============================] - 290s 72ms/step - loss: 0.0240 - acc: 0.9928 - f1: 0.9931 - val_loss: 0.0039 - val_acc: 0.9990 - val_f1: 0.9990\n",
      "\n",
      "Epoch 00008: val_acc did not improve from 0.99900\n",
      "Epoch 9/80\n",
      "4000/4000 [==============================] - 290s 73ms/step - loss: 0.0237 - acc: 0.9942 - f1: 0.9941 - val_loss: 0.0041 - val_acc: 0.9990 - val_f1: 0.9985\n",
      "\n",
      "Epoch 00009: val_acc did not improve from 0.99900\n",
      "Epoch 10/80\n",
      "4000/4000 [==============================] - 290s 73ms/step - loss: 0.0259 - acc: 0.9925 - f1: 0.9924 - val_loss: 0.0062 - val_acc: 0.9980 - val_f1: 0.9980\n",
      "\n",
      "Epoch 00010: val_acc did not improve from 0.99900\n",
      "Epoch 00010: early stopping\n",
      "-----------------------------\n",
      "Processing fold # 4\n",
      "-----------------------------\n",
      "Train on 4000 samples, validate on 1000 samples\n",
      "Epoch 1/80\n",
      "4000/4000 [==============================] - 290s 72ms/step - loss: 0.0274 - acc: 0.9905 - f1: 0.9905 - val_loss: 2.5765e-05 - val_acc: 1.0000 - val_f1: 1.0000\n",
      "\n",
      "Epoch 00001: val_acc improved from 0.99900 to 1.00000, saving model to ../../save_models/ccat50/ccat50_adamw.hdf5\n",
      "Epoch 2/80\n",
      "4000/4000 [==============================] - 290s 72ms/step - loss: 0.0204 - acc: 0.9942 - f1: 0.9945 - val_loss: 1.8516e-05 - val_acc: 1.0000 - val_f1: 1.0000\n",
      "\n",
      "Epoch 00002: val_acc did not improve from 1.00000\n",
      "Epoch 3/80\n",
      "4000/4000 [==============================] - 290s 72ms/step - loss: 0.0223 - acc: 0.9922 - f1: 0.9925 - val_loss: 2.3982e-05 - val_acc: 1.0000 - val_f1: 1.0000\n",
      "\n",
      "Epoch 00003: val_acc did not improve from 1.00000\n",
      "Epoch 4/80\n",
      "4000/4000 [==============================] - 290s 72ms/step - loss: 0.0216 - acc: 0.9945 - f1: 0.9944 - val_loss: 2.4289e-05 - val_acc: 1.0000 - val_f1: 1.0000\n",
      "\n",
      "Epoch 00004: val_acc did not improve from 1.00000\n",
      "Epoch 5/80\n",
      "4000/4000 [==============================] - 290s 73ms/step - loss: 0.0255 - acc: 0.9930 - f1: 0.9929 - val_loss: 1.5843e-05 - val_acc: 1.0000 - val_f1: 1.0000\n",
      "\n",
      "Epoch 00005: val_acc did not improve from 1.00000\n",
      "Epoch 6/80\n",
      "4000/4000 [==============================] - 290s 73ms/step - loss: 0.0181 - acc: 0.9952 - f1: 0.9951 - val_loss: 1.7743e-05 - val_acc: 1.0000 - val_f1: 1.0000\n",
      "\n",
      "Epoch 00006: val_acc did not improve from 1.00000\n",
      "Epoch 7/80\n",
      "4000/4000 [==============================] - 290s 72ms/step - loss: 0.0262 - acc: 0.9910 - f1: 0.9907 - val_loss: 2.1102e-05 - val_acc: 1.0000 - val_f1: 1.0000\n",
      "\n",
      "Epoch 00007: val_acc did not improve from 1.00000\n",
      "Epoch 8/80\n",
      "4000/4000 [==============================] - 290s 73ms/step - loss: 0.0207 - acc: 0.9922 - f1: 0.9926 - val_loss: 2.6551e-05 - val_acc: 1.0000 - val_f1: 1.0000\n",
      "\n",
      "Epoch 00008: val_acc did not improve from 1.00000\n",
      "Epoch 9/80\n",
      "4000/4000 [==============================] - 290s 72ms/step - loss: 0.0208 - acc: 0.9935 - f1: 0.9934 - val_loss: 2.7429e-05 - val_acc: 1.0000 - val_f1: 1.0000\n",
      "\n",
      "Epoch 00009: val_acc did not improve from 1.00000\n",
      "Epoch 10/80\n",
      "4000/4000 [==============================] - 290s 72ms/step - loss: 0.0222 - acc: 0.9940 - f1: 0.9937 - val_loss: 2.0835e-05 - val_acc: 1.0000 - val_f1: 1.0000\n",
      "\n",
      "Epoch 00010: val_acc did not improve from 1.00000\n",
      "Epoch 00010: early stopping\n"
     ]
    }
   ],
   "source": [
    "k = 5\n",
    "scores = []\n",
    "num_validation_sample = len(x)//k\n",
    "for i in range(k):\n",
    "    print(\"-----------------------------\")\n",
    "    print('Processing fold #', i)\n",
    "    print(\"-----------------------------\")\n",
    "    val_data = x[i * num_validation_sample: (i + 1) * num_validation_sample]\n",
    "    val_lab  = y[i * num_validation_sample: (i + 1) * num_validation_sample]\n",
    "    \n",
    "    parttial_train_X_data = np.concatenate(\n",
    "                [x[:i * num_validation_sample],\n",
    "                x[(i + 1) * num_validation_sample:]], axis=0)\n",
    "    \n",
    "    parttial_train_X_label = np.concatenate(\n",
    "                [y[:i * num_validation_sample],\n",
    "                y[(i + 1) * num_validation_sample:]], axis=0)\n",
    "    \n",
    "    history_ccat50_atten = model_ccat50.fit(parttial_train_X_data, parttial_train_X_label, \n",
    "                               validation_data=(val_data,val_lab),\n",
    "                               batch_size=batch_size,epochs=num_epochs,verbose=1,\n",
    "                               callbacks=[reduce_lr_adam,earlystop,csv_logger,checkpointer])"
   ]
  },
  {
   "cell_type": "code",
   "execution_count": 41,
   "metadata": {
    "colab": {
     "base_uri": "https://localhost:8080/",
     "height": 85
    },
    "colab_type": "code",
    "id": "jo2bQBcZ9YV2",
    "outputId": "824f424c-5b3f-4376-a91c-efebb7f6c0a5"
   },
   "outputs": [
    {
     "name": "stdout",
     "output_type": "stream",
     "text": [
      "0.9930499999999999\n",
      "------------\n",
      "1.0\n",
      "------------\n"
     ]
    }
   ],
   "source": [
    "#Print average acc\n",
    "average_acc = np.mean(history_ccat50_atten.history['acc'])\n",
    "print(average_acc)\n",
    "print(\"------------\")\n",
    "#Print average val_acc\n",
    "average_val_acc = np.mean(history_ccat50_atten.history['val_acc'])\n",
    "print(average_val_acc)\n",
    "print(\"------------\")"
   ]
  },
  {
   "cell_type": "code",
   "execution_count": 42,
   "metadata": {
    "colab": {
     "base_uri": "https://localhost:8080/",
     "height": 85
    },
    "colab_type": "code",
    "id": "KNfYwFVNlpDQ",
    "outputId": "3eae5383-722a-46e2-f6b8-1ae9c76d90a0"
   },
   "outputs": [
    {
     "name": "stdout",
     "output_type": "stream",
     "text": [
      "0.0225146318156505\n",
      "------------\n",
      "2.2205487702967734e-05\n",
      "------------\n"
     ]
    }
   ],
   "source": [
    "#Print average loss\n",
    "average_loss = np.mean(history_ccat50_atten.history['loss'])\n",
    "print(average_loss)\n",
    "print(\"------------\")\n",
    "#Print average val_loss\n",
    "average_val_loss = np.mean(history_ccat50_atten.history['val_loss'])\n",
    "print(average_val_loss)\n",
    "print(\"------------\")"
   ]
  },
  {
   "cell_type": "code",
   "execution_count": 43,
   "metadata": {
    "colab": {
     "base_uri": "https://localhost:8080/",
     "height": 85
    },
    "colab_type": "code",
    "id": "xlLgDrzHlsuS",
    "outputId": "0e28ccba-7787-457c-c39f-8270d6f57b99"
   },
   "outputs": [
    {
     "name": "stdout",
     "output_type": "stream",
     "text": [
      "0.99302419257164\n",
      "------------\n",
      "1.0\n",
      "------------\n"
     ]
    }
   ],
   "source": [
    "#Print average f1-score\n",
    "average_f1 = np.mean(history_ccat50_atten.history['f1'])\n",
    "print(average_f1)\n",
    "print(\"------------\")\n",
    "#Print average val_f1-score\n",
    "average_val_f1 = np.mean(history_ccat50_atten.history['val_f1'])\n",
    "print(average_val_f1)\n",
    "print(\"------------\")"
   ]
  },
  {
   "cell_type": "code",
   "execution_count": 44,
   "metadata": {
    "colab": {
     "base_uri": "https://localhost:8080/",
     "height": 377
    },
    "colab_type": "code",
    "id": "bixPGBEllvEH",
    "outputId": "47a1f55a-3ace-4282-98d0-23760e60b174"
   },
   "outputs": [
    {
     "name": "stdout",
     "output_type": "stream",
     "text": [
      "1000/1000 [==============================] - 19s 19ms/step\n",
      "Test loss: 2.0834818082676065e-05\n",
      "Test accuracy: 1.0\n"
     ]
    }
   ],
   "source": [
    "# Evaluate the Model on the 20% Validation Dataset\n",
    "score =  model_ccat50.evaluate(val_data, val_lab, verbose=1)\n",
    "print('Test loss:', score[0])\n",
    "print('Test accuracy:', score[1])"
   ]
  },
  {
   "cell_type": "code",
   "execution_count": 45,
   "metadata": {
    "colab": {},
    "colab_type": "code",
    "id": "MAW8NCg_lxgX"
   },
   "outputs": [
    {
     "name": "stdout",
     "output_type": "stream",
     "text": [
      "2500/2500 [==============================] - 48s 19ms/step\n",
      "Test loss:  10.779514399719238\n",
      "Test accuracy: 0.194\n"
     ]
    }
   ],
   "source": [
    "# Evaluate the Model on the 20% Test Dataset\n",
    "scorev =  model_ccat50.evaluate(x_test, y_test, verbose=1)\n",
    "print('Test loss: ', scorev[0])\n",
    "print('Test accuracy:', scorev[1])"
   ]
  },
  {
   "cell_type": "code",
   "execution_count": 46,
   "metadata": {
    "colab": {},
    "colab_type": "code",
    "id": "es_m-1HrM_Ce"
   },
   "outputs": [],
   "source": [
    "prediction_value = model_ccat50.predict(x_test)\n",
    "predict_class = np.argmax(prediction_value, axis=-1)\n",
    "y_test_integer = np.argmax(y_test, axis=1)"
   ]
  },
  {
   "cell_type": "code",
   "execution_count": 47,
   "metadata": {},
   "outputs": [
    {
     "name": "stdout",
     "output_type": "stream",
     "text": [
      "              precision    recall  f1-score   support\n",
      "\n",
      "           0       0.09      0.10      0.10        50\n",
      "           1       0.33      0.30      0.31        50\n",
      "           2       0.10      0.04      0.06        50\n",
      "           3       0.04      0.12      0.06        50\n",
      "           4       0.41      0.30      0.34        50\n",
      "           5       0.03      0.06      0.04        50\n",
      "           6       0.06      0.08      0.07        50\n",
      "           7       0.11      0.06      0.08        50\n",
      "           8       0.09      0.04      0.06        50\n",
      "           9       0.67      0.24      0.35        50\n",
      "          10       0.15      0.20      0.17        50\n",
      "          11       0.04      0.10      0.06        50\n",
      "          12       0.07      0.14      0.09        50\n",
      "          13       0.24      0.18      0.21        50\n",
      "          14       0.02      0.02      0.02        50\n",
      "          15       1.00      0.94      0.97        50\n",
      "          16       0.43      0.18      0.25        50\n",
      "          17       0.03      0.02      0.02        50\n",
      "          18       0.13      0.14      0.13        50\n",
      "          19       0.14      0.26      0.18        50\n",
      "          20       0.35      0.12      0.18        50\n",
      "          21       0.09      0.02      0.03        50\n",
      "          22       0.43      0.46      0.45        50\n",
      "          23       0.41      0.18      0.25        50\n",
      "          24       0.00      0.00      0.00        50\n",
      "          25       0.05      0.02      0.03        50\n",
      "          26       0.12      0.04      0.06        50\n",
      "          27       0.21      0.08      0.12        50\n",
      "          28       0.53      0.50      0.52        50\n",
      "          29       0.31      0.38      0.34        50\n",
      "          30       0.43      0.46      0.45        50\n",
      "          31       0.89      0.16      0.27        50\n",
      "          32       0.92      0.72      0.81        50\n",
      "          33       0.75      0.36      0.49        50\n",
      "          34       0.08      0.04      0.05        50\n",
      "          35       0.89      0.48      0.62        50\n",
      "          36       0.42      0.26      0.32        50\n",
      "          37       0.07      0.06      0.06        50\n",
      "          38       0.27      0.18      0.22        50\n",
      "          39       0.06      0.06      0.06        50\n",
      "          40       0.14      0.04      0.06        50\n",
      "          41       0.83      0.30      0.44        50\n",
      "          42       0.10      0.06      0.07        50\n",
      "          43       0.05      0.04      0.04        50\n",
      "          44       0.28      0.66      0.39        50\n",
      "          45       0.05      0.10      0.07        50\n",
      "          46       0.04      0.12      0.06        50\n",
      "          47       0.19      0.06      0.09        50\n",
      "          48       0.27      0.06      0.10        50\n",
      "          49       0.04      0.16      0.06        50\n",
      "\n",
      "    accuracy                           0.19      2500\n",
      "   macro avg       0.27      0.19      0.21      2500\n",
      "weighted avg       0.27      0.19      0.21      2500\n",
      "\n"
     ]
    }
   ],
   "source": [
    "# Detailed analysis\n",
    "from sklearn.metrics import classification_report, confusion_matrix\n",
    "print(classification_report(y_test_integer, predict_class))"
   ]
  },
  {
   "cell_type": "markdown",
   "metadata": {
    "colab": {},
    "colab_type": "code",
    "id": "nGUEP_TRVAwo"
   },
   "source": [
    "# Plot"
   ]
  },
  {
   "cell_type": "code",
   "execution_count": 4,
   "metadata": {},
   "outputs": [],
   "source": [
    "modelsource = '../../save_models/ccat50/'\n",
    "df_ccat50 = pd.read_csv(modelsource +'/ccat50_adamw.csv',engine='python',sep=';')\n",
    "# df_movies.to_excel(modelsource+'/imbd622.xlsx',engine='xlsxwriter')"
   ]
  },
  {
   "cell_type": "code",
   "execution_count": 5,
   "metadata": {},
   "outputs": [
    {
     "data": {
      "text/html": [
       "<div>\n",
       "<style scoped>\n",
       "    .dataframe tbody tr th:only-of-type {\n",
       "        vertical-align: middle;\n",
       "    }\n",
       "\n",
       "    .dataframe tbody tr th {\n",
       "        vertical-align: top;\n",
       "    }\n",
       "\n",
       "    .dataframe thead th {\n",
       "        text-align: right;\n",
       "    }\n",
       "</style>\n",
       "<table border=\"1\" class=\"dataframe\">\n",
       "  <thead>\n",
       "    <tr style=\"text-align: right;\">\n",
       "      <th></th>\n",
       "      <th>epoch</th>\n",
       "      <th>acc</th>\n",
       "      <th>f1</th>\n",
       "      <th>loss</th>\n",
       "      <th>lr</th>\n",
       "      <th>val_acc</th>\n",
       "      <th>val_f1</th>\n",
       "      <th>val_loss</th>\n",
       "    </tr>\n",
       "  </thead>\n",
       "  <tbody>\n",
       "    <tr>\n",
       "      <th>0</th>\n",
       "      <td>0</td>\n",
       "      <td>0.02575</td>\n",
       "      <td>0.000000</td>\n",
       "      <td>3.904880</td>\n",
       "      <td>0.001000</td>\n",
       "      <td>0.000</td>\n",
       "      <td>0.000000</td>\n",
       "      <td>4.145324</td>\n",
       "    </tr>\n",
       "    <tr>\n",
       "      <th>1</th>\n",
       "      <td>1</td>\n",
       "      <td>0.01900</td>\n",
       "      <td>0.000000</td>\n",
       "      <td>3.891559</td>\n",
       "      <td>0.001000</td>\n",
       "      <td>0.000</td>\n",
       "      <td>0.000000</td>\n",
       "      <td>4.090615</td>\n",
       "    </tr>\n",
       "    <tr>\n",
       "      <th>2</th>\n",
       "      <td>2</td>\n",
       "      <td>0.02175</td>\n",
       "      <td>0.000000</td>\n",
       "      <td>3.884626</td>\n",
       "      <td>0.001000</td>\n",
       "      <td>0.000</td>\n",
       "      <td>0.000000</td>\n",
       "      <td>4.175266</td>\n",
       "    </tr>\n",
       "    <tr>\n",
       "      <th>3</th>\n",
       "      <td>3</td>\n",
       "      <td>0.02250</td>\n",
       "      <td>0.000000</td>\n",
       "      <td>3.877156</td>\n",
       "      <td>0.001000</td>\n",
       "      <td>0.000</td>\n",
       "      <td>0.000000</td>\n",
       "      <td>4.202045</td>\n",
       "    </tr>\n",
       "    <tr>\n",
       "      <th>4</th>\n",
       "      <td>4</td>\n",
       "      <td>0.02350</td>\n",
       "      <td>0.000000</td>\n",
       "      <td>3.872223</td>\n",
       "      <td>0.001000</td>\n",
       "      <td>0.000</td>\n",
       "      <td>0.000000</td>\n",
       "      <td>4.239463</td>\n",
       "    </tr>\n",
       "    <tr>\n",
       "      <th>5</th>\n",
       "      <td>0</td>\n",
       "      <td>0.02300</td>\n",
       "      <td>0.000000</td>\n",
       "      <td>3.903327</td>\n",
       "      <td>0.001000</td>\n",
       "      <td>0.000</td>\n",
       "      <td>0.000000</td>\n",
       "      <td>4.083933</td>\n",
       "    </tr>\n",
       "    <tr>\n",
       "      <th>6</th>\n",
       "      <td>1</td>\n",
       "      <td>0.02525</td>\n",
       "      <td>0.000000</td>\n",
       "      <td>3.885838</td>\n",
       "      <td>0.001000</td>\n",
       "      <td>0.000</td>\n",
       "      <td>0.000000</td>\n",
       "      <td>4.101827</td>\n",
       "    </tr>\n",
       "    <tr>\n",
       "      <th>7</th>\n",
       "      <td>2</td>\n",
       "      <td>0.02350</td>\n",
       "      <td>0.000000</td>\n",
       "      <td>3.879899</td>\n",
       "      <td>0.001000</td>\n",
       "      <td>0.000</td>\n",
       "      <td>0.000000</td>\n",
       "      <td>4.166552</td>\n",
       "    </tr>\n",
       "    <tr>\n",
       "      <th>8</th>\n",
       "      <td>3</td>\n",
       "      <td>0.02175</td>\n",
       "      <td>0.000000</td>\n",
       "      <td>3.873158</td>\n",
       "      <td>0.001000</td>\n",
       "      <td>0.000</td>\n",
       "      <td>0.000000</td>\n",
       "      <td>4.250594</td>\n",
       "    </tr>\n",
       "    <tr>\n",
       "      <th>9</th>\n",
       "      <td>0</td>\n",
       "      <td>0.02175</td>\n",
       "      <td>0.000000</td>\n",
       "      <td>3.890564</td>\n",
       "      <td>0.001000</td>\n",
       "      <td>0.000</td>\n",
       "      <td>0.000000</td>\n",
       "      <td>4.262088</td>\n",
       "    </tr>\n",
       "    <tr>\n",
       "      <th>10</th>\n",
       "      <td>1</td>\n",
       "      <td>0.02225</td>\n",
       "      <td>0.000000</td>\n",
       "      <td>3.874007</td>\n",
       "      <td>0.001000</td>\n",
       "      <td>0.000</td>\n",
       "      <td>0.000000</td>\n",
       "      <td>4.300010</td>\n",
       "    </tr>\n",
       "    <tr>\n",
       "      <th>11</th>\n",
       "      <td>2</td>\n",
       "      <td>0.02250</td>\n",
       "      <td>0.000000</td>\n",
       "      <td>3.873098</td>\n",
       "      <td>0.001000</td>\n",
       "      <td>0.000</td>\n",
       "      <td>0.000000</td>\n",
       "      <td>4.302232</td>\n",
       "    </tr>\n",
       "    <tr>\n",
       "      <th>12</th>\n",
       "      <td>3</td>\n",
       "      <td>0.02150</td>\n",
       "      <td>0.000000</td>\n",
       "      <td>3.871580</td>\n",
       "      <td>0.001000</td>\n",
       "      <td>0.000</td>\n",
       "      <td>0.000000</td>\n",
       "      <td>4.244122</td>\n",
       "    </tr>\n",
       "    <tr>\n",
       "      <th>13</th>\n",
       "      <td>4</td>\n",
       "      <td>0.02200</td>\n",
       "      <td>0.000000</td>\n",
       "      <td>3.871344</td>\n",
       "      <td>0.001000</td>\n",
       "      <td>0.000</td>\n",
       "      <td>0.000000</td>\n",
       "      <td>4.278237</td>\n",
       "    </tr>\n",
       "    <tr>\n",
       "      <th>14</th>\n",
       "      <td>5</td>\n",
       "      <td>0.02075</td>\n",
       "      <td>0.000000</td>\n",
       "      <td>3.871676</td>\n",
       "      <td>0.001000</td>\n",
       "      <td>0.000</td>\n",
       "      <td>0.000000</td>\n",
       "      <td>4.289474</td>\n",
       "    </tr>\n",
       "    <tr>\n",
       "      <th>15</th>\n",
       "      <td>6</td>\n",
       "      <td>0.02525</td>\n",
       "      <td>0.000000</td>\n",
       "      <td>3.870715</td>\n",
       "      <td>0.001000</td>\n",
       "      <td>0.000</td>\n",
       "      <td>0.000000</td>\n",
       "      <td>4.285547</td>\n",
       "    </tr>\n",
       "    <tr>\n",
       "      <th>16</th>\n",
       "      <td>7</td>\n",
       "      <td>0.02075</td>\n",
       "      <td>0.000000</td>\n",
       "      <td>3.871508</td>\n",
       "      <td>0.001000</td>\n",
       "      <td>0.000</td>\n",
       "      <td>0.000000</td>\n",
       "      <td>4.354226</td>\n",
       "    </tr>\n",
       "    <tr>\n",
       "      <th>17</th>\n",
       "      <td>8</td>\n",
       "      <td>0.02550</td>\n",
       "      <td>0.000000</td>\n",
       "      <td>3.869984</td>\n",
       "      <td>0.001000</td>\n",
       "      <td>0.000</td>\n",
       "      <td>0.000000</td>\n",
       "      <td>4.314060</td>\n",
       "    </tr>\n",
       "    <tr>\n",
       "      <th>18</th>\n",
       "      <td>0</td>\n",
       "      <td>0.02175</td>\n",
       "      <td>0.000000</td>\n",
       "      <td>3.937429</td>\n",
       "      <td>0.000500</td>\n",
       "      <td>0.000</td>\n",
       "      <td>0.000000</td>\n",
       "      <td>3.962212</td>\n",
       "    </tr>\n",
       "    <tr>\n",
       "      <th>19</th>\n",
       "      <td>0</td>\n",
       "      <td>0.02025</td>\n",
       "      <td>0.000000</td>\n",
       "      <td>3.892297</td>\n",
       "      <td>0.001000</td>\n",
       "      <td>0.000</td>\n",
       "      <td>0.000000</td>\n",
       "      <td>4.100429</td>\n",
       "    </tr>\n",
       "    <tr>\n",
       "      <th>20</th>\n",
       "      <td>1</td>\n",
       "      <td>0.04950</td>\n",
       "      <td>0.034080</td>\n",
       "      <td>3.728809</td>\n",
       "      <td>0.001000</td>\n",
       "      <td>0.000</td>\n",
       "      <td>0.000000</td>\n",
       "      <td>4.183580</td>\n",
       "    </tr>\n",
       "    <tr>\n",
       "      <th>21</th>\n",
       "      <td>0</td>\n",
       "      <td>0.02275</td>\n",
       "      <td>0.000000</td>\n",
       "      <td>3.887992</td>\n",
       "      <td>0.001000</td>\n",
       "      <td>0.000</td>\n",
       "      <td>0.000000</td>\n",
       "      <td>4.196799</td>\n",
       "    </tr>\n",
       "    <tr>\n",
       "      <th>22</th>\n",
       "      <td>1</td>\n",
       "      <td>0.03975</td>\n",
       "      <td>0.000485</td>\n",
       "      <td>3.774417</td>\n",
       "      <td>0.001000</td>\n",
       "      <td>0.000</td>\n",
       "      <td>0.000000</td>\n",
       "      <td>4.138596</td>\n",
       "    </tr>\n",
       "    <tr>\n",
       "      <th>23</th>\n",
       "      <td>2</td>\n",
       "      <td>0.08775</td>\n",
       "      <td>0.045589</td>\n",
       "      <td>3.472239</td>\n",
       "      <td>0.001000</td>\n",
       "      <td>0.000</td>\n",
       "      <td>0.000000</td>\n",
       "      <td>3.919560</td>\n",
       "    </tr>\n",
       "    <tr>\n",
       "      <th>24</th>\n",
       "      <td>3</td>\n",
       "      <td>0.13050</td>\n",
       "      <td>0.088949</td>\n",
       "      <td>3.177447</td>\n",
       "      <td>0.001000</td>\n",
       "      <td>0.000</td>\n",
       "      <td>0.000000</td>\n",
       "      <td>3.781722</td>\n",
       "    </tr>\n",
       "    <tr>\n",
       "      <th>25</th>\n",
       "      <td>4</td>\n",
       "      <td>0.16675</td>\n",
       "      <td>0.125030</td>\n",
       "      <td>2.930781</td>\n",
       "      <td>0.001000</td>\n",
       "      <td>0.041</td>\n",
       "      <td>0.000000</td>\n",
       "      <td>3.422559</td>\n",
       "    </tr>\n",
       "    <tr>\n",
       "      <th>26</th>\n",
       "      <td>5</td>\n",
       "      <td>0.19025</td>\n",
       "      <td>0.140491</td>\n",
       "      <td>2.710646</td>\n",
       "      <td>0.001000</td>\n",
       "      <td>0.079</td>\n",
       "      <td>0.045645</td>\n",
       "      <td>3.198032</td>\n",
       "    </tr>\n",
       "    <tr>\n",
       "      <th>27</th>\n",
       "      <td>6</td>\n",
       "      <td>0.24150</td>\n",
       "      <td>0.176785</td>\n",
       "      <td>2.481892</td>\n",
       "      <td>0.001000</td>\n",
       "      <td>0.114</td>\n",
       "      <td>0.051674</td>\n",
       "      <td>2.908595</td>\n",
       "    </tr>\n",
       "    <tr>\n",
       "      <th>28</th>\n",
       "      <td>7</td>\n",
       "      <td>0.29250</td>\n",
       "      <td>0.222834</td>\n",
       "      <td>2.227333</td>\n",
       "      <td>0.001000</td>\n",
       "      <td>0.122</td>\n",
       "      <td>0.079837</td>\n",
       "      <td>2.784946</td>\n",
       "    </tr>\n",
       "    <tr>\n",
       "      <th>29</th>\n",
       "      <td>8</td>\n",
       "      <td>0.32850</td>\n",
       "      <td>0.246493</td>\n",
       "      <td>2.064337</td>\n",
       "      <td>0.001000</td>\n",
       "      <td>0.162</td>\n",
       "      <td>0.079837</td>\n",
       "      <td>2.691080</td>\n",
       "    </tr>\n",
       "    <tr>\n",
       "      <th>...</th>\n",
       "      <td>...</td>\n",
       "      <td>...</td>\n",
       "      <td>...</td>\n",
       "      <td>...</td>\n",
       "      <td>...</td>\n",
       "      <td>...</td>\n",
       "      <td>...</td>\n",
       "      <td>...</td>\n",
       "    </tr>\n",
       "    <tr>\n",
       "      <th>69</th>\n",
       "      <td>0</td>\n",
       "      <td>0.96875</td>\n",
       "      <td>0.969960</td>\n",
       "      <td>0.098106</td>\n",
       "      <td>0.000250</td>\n",
       "      <td>0.997</td>\n",
       "      <td>0.997000</td>\n",
       "      <td>0.010757</td>\n",
       "    </tr>\n",
       "    <tr>\n",
       "      <th>70</th>\n",
       "      <td>1</td>\n",
       "      <td>0.98500</td>\n",
       "      <td>0.984798</td>\n",
       "      <td>0.055193</td>\n",
       "      <td>0.000250</td>\n",
       "      <td>0.993</td>\n",
       "      <td>0.992968</td>\n",
       "      <td>0.014137</td>\n",
       "    </tr>\n",
       "    <tr>\n",
       "      <th>71</th>\n",
       "      <td>2</td>\n",
       "      <td>0.98025</td>\n",
       "      <td>0.979928</td>\n",
       "      <td>0.067009</td>\n",
       "      <td>0.000250</td>\n",
       "      <td>0.995</td>\n",
       "      <td>0.995492</td>\n",
       "      <td>0.010002</td>\n",
       "    </tr>\n",
       "    <tr>\n",
       "      <th>72</th>\n",
       "      <td>3</td>\n",
       "      <td>0.98475</td>\n",
       "      <td>0.984472</td>\n",
       "      <td>0.052200</td>\n",
       "      <td>0.000250</td>\n",
       "      <td>0.995</td>\n",
       "      <td>0.995492</td>\n",
       "      <td>0.010718</td>\n",
       "    </tr>\n",
       "    <tr>\n",
       "      <th>73</th>\n",
       "      <td>4</td>\n",
       "      <td>0.98475</td>\n",
       "      <td>0.984575</td>\n",
       "      <td>0.055681</td>\n",
       "      <td>0.000250</td>\n",
       "      <td>0.999</td>\n",
       "      <td>0.999000</td>\n",
       "      <td>0.004511</td>\n",
       "    </tr>\n",
       "    <tr>\n",
       "      <th>74</th>\n",
       "      <td>5</td>\n",
       "      <td>0.98150</td>\n",
       "      <td>0.982198</td>\n",
       "      <td>0.059222</td>\n",
       "      <td>0.000250</td>\n",
       "      <td>0.997</td>\n",
       "      <td>0.996492</td>\n",
       "      <td>0.007366</td>\n",
       "    </tr>\n",
       "    <tr>\n",
       "      <th>75</th>\n",
       "      <td>6</td>\n",
       "      <td>0.98775</td>\n",
       "      <td>0.987337</td>\n",
       "      <td>0.040832</td>\n",
       "      <td>0.000250</td>\n",
       "      <td>0.996</td>\n",
       "      <td>0.996000</td>\n",
       "      <td>0.006760</td>\n",
       "    </tr>\n",
       "    <tr>\n",
       "      <th>76</th>\n",
       "      <td>7</td>\n",
       "      <td>0.98800</td>\n",
       "      <td>0.987976</td>\n",
       "      <td>0.040455</td>\n",
       "      <td>0.000250</td>\n",
       "      <td>0.998</td>\n",
       "      <td>0.998000</td>\n",
       "      <td>0.005405</td>\n",
       "    </tr>\n",
       "    <tr>\n",
       "      <th>77</th>\n",
       "      <td>8</td>\n",
       "      <td>0.98850</td>\n",
       "      <td>0.988964</td>\n",
       "      <td>0.039757</td>\n",
       "      <td>0.000250</td>\n",
       "      <td>0.999</td>\n",
       "      <td>0.999000</td>\n",
       "      <td>0.008663</td>\n",
       "    </tr>\n",
       "    <tr>\n",
       "      <th>78</th>\n",
       "      <td>9</td>\n",
       "      <td>0.98825</td>\n",
       "      <td>0.987825</td>\n",
       "      <td>0.042915</td>\n",
       "      <td>0.000250</td>\n",
       "      <td>0.999</td>\n",
       "      <td>0.999492</td>\n",
       "      <td>0.004657</td>\n",
       "    </tr>\n",
       "    <tr>\n",
       "      <th>79</th>\n",
       "      <td>0</td>\n",
       "      <td>0.98775</td>\n",
       "      <td>0.988222</td>\n",
       "      <td>0.041155</td>\n",
       "      <td>0.000125</td>\n",
       "      <td>0.999</td>\n",
       "      <td>0.999000</td>\n",
       "      <td>0.002900</td>\n",
       "    </tr>\n",
       "    <tr>\n",
       "      <th>80</th>\n",
       "      <td>1</td>\n",
       "      <td>0.98900</td>\n",
       "      <td>0.988710</td>\n",
       "      <td>0.038412</td>\n",
       "      <td>0.000125</td>\n",
       "      <td>0.999</td>\n",
       "      <td>0.999000</td>\n",
       "      <td>0.003011</td>\n",
       "    </tr>\n",
       "    <tr>\n",
       "      <th>81</th>\n",
       "      <td>2</td>\n",
       "      <td>0.99000</td>\n",
       "      <td>0.989841</td>\n",
       "      <td>0.034457</td>\n",
       "      <td>0.000125</td>\n",
       "      <td>0.999</td>\n",
       "      <td>0.999000</td>\n",
       "      <td>0.002884</td>\n",
       "    </tr>\n",
       "    <tr>\n",
       "      <th>82</th>\n",
       "      <td>3</td>\n",
       "      <td>0.98850</td>\n",
       "      <td>0.988222</td>\n",
       "      <td>0.034176</td>\n",
       "      <td>0.000125</td>\n",
       "      <td>0.999</td>\n",
       "      <td>0.999000</td>\n",
       "      <td>0.001668</td>\n",
       "    </tr>\n",
       "    <tr>\n",
       "      <th>83</th>\n",
       "      <td>4</td>\n",
       "      <td>0.99200</td>\n",
       "      <td>0.992119</td>\n",
       "      <td>0.030022</td>\n",
       "      <td>0.000125</td>\n",
       "      <td>0.999</td>\n",
       "      <td>0.999000</td>\n",
       "      <td>0.001630</td>\n",
       "    </tr>\n",
       "    <tr>\n",
       "      <th>84</th>\n",
       "      <td>5</td>\n",
       "      <td>0.99025</td>\n",
       "      <td>0.990726</td>\n",
       "      <td>0.029392</td>\n",
       "      <td>0.000125</td>\n",
       "      <td>0.999</td>\n",
       "      <td>0.999000</td>\n",
       "      <td>0.003624</td>\n",
       "    </tr>\n",
       "    <tr>\n",
       "      <th>85</th>\n",
       "      <td>6</td>\n",
       "      <td>0.99425</td>\n",
       "      <td>0.994484</td>\n",
       "      <td>0.023118</td>\n",
       "      <td>0.000125</td>\n",
       "      <td>0.998</td>\n",
       "      <td>0.998000</td>\n",
       "      <td>0.004397</td>\n",
       "    </tr>\n",
       "    <tr>\n",
       "      <th>86</th>\n",
       "      <td>7</td>\n",
       "      <td>0.99275</td>\n",
       "      <td>0.993103</td>\n",
       "      <td>0.024047</td>\n",
       "      <td>0.000125</td>\n",
       "      <td>0.999</td>\n",
       "      <td>0.999000</td>\n",
       "      <td>0.003933</td>\n",
       "    </tr>\n",
       "    <tr>\n",
       "      <th>87</th>\n",
       "      <td>8</td>\n",
       "      <td>0.99425</td>\n",
       "      <td>0.994115</td>\n",
       "      <td>0.023733</td>\n",
       "      <td>0.000125</td>\n",
       "      <td>0.999</td>\n",
       "      <td>0.998492</td>\n",
       "      <td>0.004116</td>\n",
       "    </tr>\n",
       "    <tr>\n",
       "      <th>88</th>\n",
       "      <td>9</td>\n",
       "      <td>0.99250</td>\n",
       "      <td>0.992365</td>\n",
       "      <td>0.025866</td>\n",
       "      <td>0.000100</td>\n",
       "      <td>0.998</td>\n",
       "      <td>0.998000</td>\n",
       "      <td>0.006185</td>\n",
       "    </tr>\n",
       "    <tr>\n",
       "      <th>89</th>\n",
       "      <td>0</td>\n",
       "      <td>0.99050</td>\n",
       "      <td>0.990484</td>\n",
       "      <td>0.027371</td>\n",
       "      <td>0.000100</td>\n",
       "      <td>1.000</td>\n",
       "      <td>1.000000</td>\n",
       "      <td>0.000026</td>\n",
       "    </tr>\n",
       "    <tr>\n",
       "      <th>90</th>\n",
       "      <td>1</td>\n",
       "      <td>0.99425</td>\n",
       "      <td>0.994492</td>\n",
       "      <td>0.020420</td>\n",
       "      <td>0.000100</td>\n",
       "      <td>1.000</td>\n",
       "      <td>1.000000</td>\n",
       "      <td>0.000019</td>\n",
       "    </tr>\n",
       "    <tr>\n",
       "      <th>91</th>\n",
       "      <td>2</td>\n",
       "      <td>0.99225</td>\n",
       "      <td>0.992496</td>\n",
       "      <td>0.022291</td>\n",
       "      <td>0.000100</td>\n",
       "      <td>1.000</td>\n",
       "      <td>1.000000</td>\n",
       "      <td>0.000024</td>\n",
       "    </tr>\n",
       "    <tr>\n",
       "      <th>92</th>\n",
       "      <td>3</td>\n",
       "      <td>0.99450</td>\n",
       "      <td>0.994365</td>\n",
       "      <td>0.021623</td>\n",
       "      <td>0.000100</td>\n",
       "      <td>1.000</td>\n",
       "      <td>1.000000</td>\n",
       "      <td>0.000024</td>\n",
       "    </tr>\n",
       "    <tr>\n",
       "      <th>93</th>\n",
       "      <td>4</td>\n",
       "      <td>0.99300</td>\n",
       "      <td>0.992865</td>\n",
       "      <td>0.025470</td>\n",
       "      <td>0.000100</td>\n",
       "      <td>1.000</td>\n",
       "      <td>1.000000</td>\n",
       "      <td>0.000016</td>\n",
       "    </tr>\n",
       "    <tr>\n",
       "      <th>94</th>\n",
       "      <td>5</td>\n",
       "      <td>0.99525</td>\n",
       "      <td>0.995111</td>\n",
       "      <td>0.018079</td>\n",
       "      <td>0.000100</td>\n",
       "      <td>1.000</td>\n",
       "      <td>1.000000</td>\n",
       "      <td>0.000018</td>\n",
       "    </tr>\n",
       "    <tr>\n",
       "      <th>95</th>\n",
       "      <td>6</td>\n",
       "      <td>0.99100</td>\n",
       "      <td>0.990730</td>\n",
       "      <td>0.026196</td>\n",
       "      <td>0.000100</td>\n",
       "      <td>1.000</td>\n",
       "      <td>1.000000</td>\n",
       "      <td>0.000021</td>\n",
       "    </tr>\n",
       "    <tr>\n",
       "      <th>96</th>\n",
       "      <td>7</td>\n",
       "      <td>0.99225</td>\n",
       "      <td>0.992607</td>\n",
       "      <td>0.020683</td>\n",
       "      <td>0.000100</td>\n",
       "      <td>1.000</td>\n",
       "      <td>1.000000</td>\n",
       "      <td>0.000027</td>\n",
       "    </tr>\n",
       "    <tr>\n",
       "      <th>97</th>\n",
       "      <td>8</td>\n",
       "      <td>0.99350</td>\n",
       "      <td>0.993353</td>\n",
       "      <td>0.020793</td>\n",
       "      <td>0.000100</td>\n",
       "      <td>1.000</td>\n",
       "      <td>1.000000</td>\n",
       "      <td>0.000027</td>\n",
       "    </tr>\n",
       "    <tr>\n",
       "      <th>98</th>\n",
       "      <td>9</td>\n",
       "      <td>0.99400</td>\n",
       "      <td>0.993738</td>\n",
       "      <td>0.022219</td>\n",
       "      <td>0.000100</td>\n",
       "      <td>1.000</td>\n",
       "      <td>1.000000</td>\n",
       "      <td>0.000021</td>\n",
       "    </tr>\n",
       "  </tbody>\n",
       "</table>\n",
       "<p>99 rows × 8 columns</p>\n",
       "</div>"
      ],
      "text/plain": [
       "    epoch      acc        f1      loss        lr  val_acc    val_f1  val_loss\n",
       "0       0  0.02575  0.000000  3.904880  0.001000    0.000  0.000000  4.145324\n",
       "1       1  0.01900  0.000000  3.891559  0.001000    0.000  0.000000  4.090615\n",
       "2       2  0.02175  0.000000  3.884626  0.001000    0.000  0.000000  4.175266\n",
       "3       3  0.02250  0.000000  3.877156  0.001000    0.000  0.000000  4.202045\n",
       "4       4  0.02350  0.000000  3.872223  0.001000    0.000  0.000000  4.239463\n",
       "5       0  0.02300  0.000000  3.903327  0.001000    0.000  0.000000  4.083933\n",
       "6       1  0.02525  0.000000  3.885838  0.001000    0.000  0.000000  4.101827\n",
       "7       2  0.02350  0.000000  3.879899  0.001000    0.000  0.000000  4.166552\n",
       "8       3  0.02175  0.000000  3.873158  0.001000    0.000  0.000000  4.250594\n",
       "9       0  0.02175  0.000000  3.890564  0.001000    0.000  0.000000  4.262088\n",
       "10      1  0.02225  0.000000  3.874007  0.001000    0.000  0.000000  4.300010\n",
       "11      2  0.02250  0.000000  3.873098  0.001000    0.000  0.000000  4.302232\n",
       "12      3  0.02150  0.000000  3.871580  0.001000    0.000  0.000000  4.244122\n",
       "13      4  0.02200  0.000000  3.871344  0.001000    0.000  0.000000  4.278237\n",
       "14      5  0.02075  0.000000  3.871676  0.001000    0.000  0.000000  4.289474\n",
       "15      6  0.02525  0.000000  3.870715  0.001000    0.000  0.000000  4.285547\n",
       "16      7  0.02075  0.000000  3.871508  0.001000    0.000  0.000000  4.354226\n",
       "17      8  0.02550  0.000000  3.869984  0.001000    0.000  0.000000  4.314060\n",
       "18      0  0.02175  0.000000  3.937429  0.000500    0.000  0.000000  3.962212\n",
       "19      0  0.02025  0.000000  3.892297  0.001000    0.000  0.000000  4.100429\n",
       "20      1  0.04950  0.034080  3.728809  0.001000    0.000  0.000000  4.183580\n",
       "21      0  0.02275  0.000000  3.887992  0.001000    0.000  0.000000  4.196799\n",
       "22      1  0.03975  0.000485  3.774417  0.001000    0.000  0.000000  4.138596\n",
       "23      2  0.08775  0.045589  3.472239  0.001000    0.000  0.000000  3.919560\n",
       "24      3  0.13050  0.088949  3.177447  0.001000    0.000  0.000000  3.781722\n",
       "25      4  0.16675  0.125030  2.930781  0.001000    0.041  0.000000  3.422559\n",
       "26      5  0.19025  0.140491  2.710646  0.001000    0.079  0.045645  3.198032\n",
       "27      6  0.24150  0.176785  2.481892  0.001000    0.114  0.051674  2.908595\n",
       "28      7  0.29250  0.222834  2.227333  0.001000    0.122  0.079837  2.784946\n",
       "29      8  0.32850  0.246493  2.064337  0.001000    0.162  0.079837  2.691080\n",
       "..    ...      ...       ...       ...       ...      ...       ...       ...\n",
       "69      0  0.96875  0.969960  0.098106  0.000250    0.997  0.997000  0.010757\n",
       "70      1  0.98500  0.984798  0.055193  0.000250    0.993  0.992968  0.014137\n",
       "71      2  0.98025  0.979928  0.067009  0.000250    0.995  0.995492  0.010002\n",
       "72      3  0.98475  0.984472  0.052200  0.000250    0.995  0.995492  0.010718\n",
       "73      4  0.98475  0.984575  0.055681  0.000250    0.999  0.999000  0.004511\n",
       "74      5  0.98150  0.982198  0.059222  0.000250    0.997  0.996492  0.007366\n",
       "75      6  0.98775  0.987337  0.040832  0.000250    0.996  0.996000  0.006760\n",
       "76      7  0.98800  0.987976  0.040455  0.000250    0.998  0.998000  0.005405\n",
       "77      8  0.98850  0.988964  0.039757  0.000250    0.999  0.999000  0.008663\n",
       "78      9  0.98825  0.987825  0.042915  0.000250    0.999  0.999492  0.004657\n",
       "79      0  0.98775  0.988222  0.041155  0.000125    0.999  0.999000  0.002900\n",
       "80      1  0.98900  0.988710  0.038412  0.000125    0.999  0.999000  0.003011\n",
       "81      2  0.99000  0.989841  0.034457  0.000125    0.999  0.999000  0.002884\n",
       "82      3  0.98850  0.988222  0.034176  0.000125    0.999  0.999000  0.001668\n",
       "83      4  0.99200  0.992119  0.030022  0.000125    0.999  0.999000  0.001630\n",
       "84      5  0.99025  0.990726  0.029392  0.000125    0.999  0.999000  0.003624\n",
       "85      6  0.99425  0.994484  0.023118  0.000125    0.998  0.998000  0.004397\n",
       "86      7  0.99275  0.993103  0.024047  0.000125    0.999  0.999000  0.003933\n",
       "87      8  0.99425  0.994115  0.023733  0.000125    0.999  0.998492  0.004116\n",
       "88      9  0.99250  0.992365  0.025866  0.000100    0.998  0.998000  0.006185\n",
       "89      0  0.99050  0.990484  0.027371  0.000100    1.000  1.000000  0.000026\n",
       "90      1  0.99425  0.994492  0.020420  0.000100    1.000  1.000000  0.000019\n",
       "91      2  0.99225  0.992496  0.022291  0.000100    1.000  1.000000  0.000024\n",
       "92      3  0.99450  0.994365  0.021623  0.000100    1.000  1.000000  0.000024\n",
       "93      4  0.99300  0.992865  0.025470  0.000100    1.000  1.000000  0.000016\n",
       "94      5  0.99525  0.995111  0.018079  0.000100    1.000  1.000000  0.000018\n",
       "95      6  0.99100  0.990730  0.026196  0.000100    1.000  1.000000  0.000021\n",
       "96      7  0.99225  0.992607  0.020683  0.000100    1.000  1.000000  0.000027\n",
       "97      8  0.99350  0.993353  0.020793  0.000100    1.000  1.000000  0.000027\n",
       "98      9  0.99400  0.993738  0.022219  0.000100    1.000  1.000000  0.000021\n",
       "\n",
       "[99 rows x 8 columns]"
      ]
     },
     "execution_count": 5,
     "metadata": {},
     "output_type": "execute_result"
    }
   ],
   "source": [
    "df_ccat50.head(100)"
   ]
  },
  {
   "cell_type": "code",
   "execution_count": 50,
   "metadata": {},
   "outputs": [
    {
     "data": {
      "text/plain": [
       "<matplotlib.axes._subplots.AxesSubplot at 0x7f2144658668>"
      ]
     },
     "execution_count": 50,
     "metadata": {},
     "output_type": "execute_result"
    },
    {
     "data": {
      "image/png": "[encoded data removed]",
      "text/plain": [
       "<Figure size 432x288 with 1 Axes>"
      ]
     },
     "metadata": {
      "needs_background": "light"
     },
     "output_type": "display_data"
    }
   ],
   "source": [
    "df_ccat50.plot('epoch','lr',kind='bar')"
   ]
  },
  {
   "cell_type": "markdown",
   "metadata": {},
   "source": [
    "# Training accuracy and validate 4 CCAT50"
   ]
  },
  {
   "cell_type": "code",
   "execution_count": 51,
   "metadata": {},
   "outputs": [],
   "source": [
    "import matplotlib.pyplot as plt\n",
    "import seaborn as sns\n",
    "%matplotlib inline"
   ]
  },
  {
   "cell_type": "code",
   "execution_count": 52,
   "metadata": {},
   "outputs": [
    {
     "data": {
      "text/plain": [
       "Text(0.5, 1, 'AT-BLSTM model accuracy for CCAT50')"
      ]
     },
     "execution_count": 52,
     "metadata": {},
     "output_type": "execute_result"
    },
    {
     "data": {
      "image/png": "[encoded data removed]",
      "text/plain": [
       "<Figure size 432x288 with 1 Axes>"
      ]
     },
     "metadata": {
      "needs_background": "light"
     },
     "output_type": "display_data"
    }
   ],
   "source": [
    "plt.plot(df_ccat50.index, df_ccat50['acc'], 'go-', color='red', label= 'acc',linewidth=3)\n",
    "plt.plot(df_ccat50.index, df_ccat50['val_acc'], '--^', color='blue',label= 'val_acc',linewidth=3)\n",
    "plt.legend(loc='lower right')\n",
    "plt.xlabel('Epoch')\n",
    "plt.ylabel('Accuarcy')\n",
    "plt.savefig(modelsource + 'ccat50_acc.png')\n",
    "plt.title('AT-BLSTM model accuracy for CCAT50')"
   ]
  },
  {
   "cell_type": "markdown",
   "metadata": {},
   "source": [
    "# Training loss and validate 4 CCAT50"
   ]
  },
  {
   "cell_type": "code",
   "execution_count": 53,
   "metadata": {},
   "outputs": [
    {
     "data": {
      "text/plain": [
       "Text(0.5, 1, 'AT-BLSTM model loss for CCAT50')"
      ]
     },
     "execution_count": 53,
     "metadata": {},
     "output_type": "execute_result"
    },
    {
     "data": {
      "image/png": "[encoded data removed]",
      "text/plain": [
       "<Figure size 432x288 with 1 Axes>"
      ]
     },
     "metadata": {
      "needs_background": "light"
     },
     "output_type": "display_data"
    }
   ],
   "source": [
    "plt.plot(df_ccat50.index, df_ccat50['loss'], 'go-', color='red', label= 'loss',linewidth=3)\n",
    "plt.plot(df_ccat50.index, df_ccat50['val_loss'], '--^', color='blue',label= 'val_loss',linewidth=3)\n",
    "plt.legend(loc='upper right')\n",
    "plt.xlabel('Epoch')\n",
    "plt.ylabel('loss')\n",
    "plt.savefig(modelsource + 'ccat50_loss.png')\n",
    "plt.title('AT-BLSTM model loss for CCAT50')"
   ]
  },
  {
   "cell_type": "markdown",
   "metadata": {},
   "source": [
    "# F1-Score"
   ]
  },
  {
   "cell_type": "code",
   "execution_count": 54,
   "metadata": {},
   "outputs": [
    {
     "data": {
      "text/plain": [
       "Text(0.5, 1, 'AT-BLSTM model F-score for CCAT50')"
      ]
     },
     "execution_count": 54,
     "metadata": {},
     "output_type": "execute_result"
    },
    {
     "data": {
      "image/png": "[encoded data removed]",
      "text/plain": [
       "<Figure size 432x288 with 1 Axes>"
      ]
     },
     "metadata": {
      "needs_background": "light"
     },
     "output_type": "display_data"
    }
   ],
   "source": [
    "plt.plot(df_ccat50.index, df_ccat50['f1'], 'go-', color='red', label= 'f1',linewidth=3)\n",
    "plt.plot(df_ccat50.index, df_ccat50['val_f1'], '--*', color='blue',label= 'val_f1',linewidth=3)\n",
    "plt.legend(loc='lower right')\n",
    "plt.xlabel('Epoch')\n",
    "plt.ylabel('F1-score')\n",
    "plt.savefig(modelsource + 'ccat50_F1-score.png')\n",
    "plt.title('AT-BLSTM model F-score for CCAT50')"
   ]
  },
  {
   "cell_type": "markdown",
   "metadata": {},
   "source": [
    "# Model with cross-validation"
   ]
  },
  {
   "cell_type": "markdown",
   "metadata": {},
   "source": [
    "# Training SGDW"
   ]
  },
  {
   "cell_type": "code",
   "execution_count": 40,
   "metadata": {},
   "outputs": [
    {
     "name": "stdout",
     "output_type": "stream",
     "text": [
      "WARNING:tensorflow:Large dropout rate: 0.7 (>0.5). In TensorFlow 2.x, dropout() uses dropout rate instead of keep_prob. Please ensure that this is intended.\n",
      "Model: \"model_4\"\n",
      "_________________________________________________________________\n",
      "Layer (type)                 Output Shape              Param #   \n",
      "=================================================================\n",
      "main_input2 (InputLayer)     (None, 15, 512)           0         \n",
      "_________________________________________________________________\n",
      "time_distributed_3 (TimeDist (None, 15, 256)           863104    \n",
      "_________________________________________________________________\n",
      "bidirectional_4 (Bidirection (None, 256)               394240    \n",
      "_________________________________________________________________\n",
      "dropout_7 (Dropout)          (None, 256)               0         \n",
      "_________________________________________________________________\n",
      "dense_5 (Dense)              (None, 1024)              263168    \n",
      "_________________________________________________________________\n",
      "dropout_8 (Dropout)          (None, 1024)              0         \n",
      "_________________________________________________________________\n",
      "dense_6 (Dense)              (None, 50)                51250     \n",
      "=================================================================\n",
      "Total params: 1,571,762\n",
      "Trainable params: 1,571,762\n",
      "Non-trainable params: 0\n",
      "_________________________________________________________________\n",
      "WARNING:tensorflow:From /home/ds-nlp/anaconda3/lib/python3.7/site-packages/keras/optimizers.py:793: The name tf.train.Optimizer is deprecated. Please use tf.compat.v1.train.Optimizer instead.\n",
      "\n"
     ]
    }
   ],
   "source": [
    "from keras.optimizers import SGD\n",
    "model_SGDW = build_cnn()\n",
    "b, B, T = batch_size, x.shape[0], num_epochs\n",
    "wd = 0.0025 * (b/B/T)**0.5\n",
    "model_SGDW.compile(loss='categorical_crossentropy',\n",
    "                 optimizer=SGDW(weight_decay=wd, momentum=0.9),\n",
    "                 metrics=['accuracy',f1])"
   ]
  },
  {
   "cell_type": "code",
   "execution_count": 41,
   "metadata": {},
   "outputs": [],
   "source": [
    "# save model\n",
    "model_SGDW.save_weights(model_save_dir+\"saved_IMBD62_model_SGDW.h5\")"
   ]
  },
  {
   "cell_type": "code",
   "execution_count": 43,
   "metadata": {},
   "outputs": [
    {
     "name": "stdout",
     "output_type": "stream",
     "text": [
      "-----------------------------\n",
      "Processing fold # 0\n",
      "-----------------------------\n",
      "WARNING:tensorflow:From /home/ds-nlp/anaconda3/lib/python3.7/site-packages/tensorflow/python/ops/math_grad.py:1250: add_dispatch_support.<locals>.wrapper (from tensorflow.python.ops.array_ops) is deprecated and will be removed in a future version.\n",
      "Instructions for updating:\n",
      "Use tf.where in 2.0, which has the same broadcast rule as np.where\n",
      "Train on 4000 samples, validate on 1000 samples\n",
      "Epoch 1/100\n",
      "4000/4000 [==============================] - 286s 71ms/step - loss: 3.9096 - acc: 0.0208 - f1: 0.0000e+00 - val_loss: 3.9450 - val_acc: 0.0000e+00 - val_f1: 0.0000e+00\n",
      "\n",
      "Epoch 00001: val_acc improved from -inf to 0.00000, saving model to ../../save_models/ccat50/ccat50_adamw_SGDW.hdf5\n",
      "Epoch 2/100\n",
      "4000/4000 [==============================] - 280s 70ms/step - loss: 3.9004 - acc: 0.0263 - f1: 0.0000e+00 - val_loss: 3.9936 - val_acc: 0.0000e+00 - val_f1: 0.0000e+00\n",
      "\n",
      "Epoch 00002: val_acc did not improve from 0.00000\n",
      "Epoch 3/100\n",
      "4000/4000 [==============================] - 279s 70ms/step - loss: 3.8927 - acc: 0.0238 - f1: 0.0000e+00 - val_loss: 4.0402 - val_acc: 0.0000e+00 - val_f1: 0.0000e+00\n",
      "\n",
      "Epoch 00003: val_acc did not improve from 0.00000\n",
      "Epoch 4/100\n",
      "4000/4000 [==============================] - 278s 70ms/step - loss: 3.8854 - acc: 0.0243 - f1: 0.0000e+00 - val_loss: 4.0865 - val_acc: 0.0000e+00 - val_f1: 0.0000e+00\n",
      "\n",
      "Epoch 00004: val_acc did not improve from 0.00000\n",
      "Epoch 5/100\n",
      "4000/4000 [==============================] - 278s 70ms/step - loss: 3.8794 - acc: 0.0248 - f1: 0.0000e+00 - val_loss: 4.1335 - val_acc: 0.0000e+00 - val_f1: 0.0000e+00\n",
      "\n",
      "Epoch 00005: val_acc did not improve from 0.00000\n",
      "Epoch 6/100\n",
      "4000/4000 [==============================] - 278s 70ms/step - loss: 3.8759 - acc: 0.0225 - f1: 0.0000e+00 - val_loss: 4.1763 - val_acc: 0.0000e+00 - val_f1: 0.0000e+00\n",
      "\n",
      "Epoch 00006: val_acc did not improve from 0.00000\n",
      "Epoch 00006: early stopping\n",
      "-----------------------------\n",
      "Processing fold # 1\n",
      "-----------------------------\n",
      "Train on 4000 samples, validate on 1000 samples\n",
      "Epoch 1/100\n",
      "4000/4000 [==============================] - 278s 70ms/step - loss: 3.9666 - acc: 0.0185 - f1: 0.0000e+00 - val_loss: 3.8072 - val_acc: 0.0000e+00 - val_f1: 0.0000e+00\n",
      "\n",
      "Epoch 00001: val_acc did not improve from 0.00000\n",
      "Epoch 2/100\n",
      "4000/4000 [==============================] - 278s 70ms/step - loss: 3.9467 - acc: 0.0223 - f1: 0.0000e+00 - val_loss: 3.8484 - val_acc: 0.0000e+00 - val_f1: 0.0000e+00\n",
      "\n",
      "Epoch 00002: val_acc did not improve from 0.00000\n",
      "Epoch 3/100\n",
      "4000/4000 [==============================] - 278s 70ms/step - loss: 3.9321 - acc: 0.0250 - f1: 0.0000e+00 - val_loss: 3.8824 - val_acc: 0.0000e+00 - val_f1: 0.0000e+00\n",
      "\n",
      "Epoch 00003: val_acc did not improve from 0.00000\n",
      "Epoch 4/100\n",
      "4000/4000 [==============================] - 278s 70ms/step - loss: 3.9219 - acc: 0.0220 - f1: 0.0000e+00 - val_loss: 3.9121 - val_acc: 0.0000e+00 - val_f1: 0.0000e+00\n",
      "\n",
      "Epoch 00004: val_acc did not improve from 0.00000\n",
      "Epoch 5/100\n",
      "4000/4000 [==============================] - 278s 70ms/step - loss: 3.9140 - acc: 0.0243 - f1: 0.0000e+00 - val_loss: 3.9398 - val_acc: 0.0000e+00 - val_f1: 0.0000e+00\n",
      "\n",
      "Epoch 00005: val_acc did not improve from 0.00000\n",
      "Epoch 6/100\n",
      "4000/4000 [==============================] - 278s 70ms/step - loss: 3.9073 - acc: 0.0267 - f1: 0.0000e+00 - val_loss: 3.9658 - val_acc: 0.0000e+00 - val_f1: 0.0000e+00\n",
      "\n",
      "Epoch 00006: val_acc did not improve from 0.00000\n",
      "Epoch 00006: early stopping\n",
      "-----------------------------\n",
      "Processing fold # 2\n",
      "-----------------------------\n",
      "Train on 4000 samples, validate on 1000 samples\n",
      "Epoch 1/100\n",
      "4000/4000 [==============================] - 279s 70ms/step - loss: 3.9290 - acc: 0.0123 - f1: 0.0000e+00 - val_loss: 3.8630 - val_acc: 0.0500 - val_f1: 0.0000e+00\n",
      "\n",
      "Epoch 00001: val_acc improved from 0.00000 to 0.05000, saving model to ../../save_models/ccat50/ccat50_adamw_SGDW.hdf5\n",
      "Epoch 2/100\n",
      "4000/4000 [==============================] - 278s 70ms/step - loss: 3.9263 - acc: 0.0132 - f1: 0.0000e+00 - val_loss: 3.8783 - val_acc: 0.0500 - val_f1: 0.0000e+00\n",
      "\n",
      "Epoch 00002: val_acc did not improve from 0.05000\n",
      "Epoch 3/100\n",
      "4000/4000 [==============================] - 279s 70ms/step - loss: 3.9211 - acc: 0.0150 - f1: 0.0000e+00 - val_loss: 3.8930 - val_acc: 0.0500 - val_f1: 0.0000e+00\n",
      "\n",
      "Epoch 00003: val_acc did not improve from 0.05000\n",
      "Epoch 4/100\n",
      "4000/4000 [==============================] - 278s 69ms/step - loss: 3.9174 - acc: 0.0130 - f1: 0.0000e+00 - val_loss: 3.9070 - val_acc: 0.0500 - val_f1: 0.0000e+00\n",
      "\n",
      "Epoch 00004: val_acc did not improve from 0.05000\n",
      "Epoch 5/100\n",
      "4000/4000 [==============================] - 278s 70ms/step - loss: 3.9133 - acc: 0.0160 - f1: 0.0000e+00 - val_loss: 3.9196 - val_acc: 0.0500 - val_f1: 0.0000e+00\n",
      "\n",
      "Epoch 00005: val_acc did not improve from 0.05000\n",
      "Epoch 6/100\n",
      "4000/4000 [==============================] - 278s 69ms/step - loss: 3.9117 - acc: 0.0108 - f1: 0.0000e+00 - val_loss: 3.9313 - val_acc: 0.0500 - val_f1: 0.0000e+00\n",
      "\n",
      "Epoch 00006: val_acc did not improve from 0.05000\n",
      "Epoch 00006: early stopping\n",
      "-----------------------------\n",
      "Processing fold # 3\n",
      "-----------------------------\n",
      "Train on 4000 samples, validate on 1000 samples\n",
      "Epoch 1/100\n",
      "4000/4000 [==============================] - 278s 69ms/step - loss: 3.9185 - acc: 0.0255 - f1: 0.0000e+00 - val_loss: 3.8990 - val_acc: 0.0000e+00 - val_f1: 0.0000e+00\n",
      "\n",
      "Epoch 00001: val_acc did not improve from 0.05000\n",
      "Epoch 2/100\n",
      "4000/4000 [==============================] - 278s 69ms/step - loss: 3.9156 - acc: 0.0217 - f1: 0.0000e+00 - val_loss: 3.9060 - val_acc: 0.0000e+00 - val_f1: 0.0000e+00\n",
      "\n",
      "Epoch 00002: val_acc did not improve from 0.05000\n",
      "Epoch 3/100\n",
      "4000/4000 [==============================] - 278s 70ms/step - loss: 3.9143 - acc: 0.0220 - f1: 0.0000e+00 - val_loss: 3.9126 - val_acc: 0.0000e+00 - val_f1: 0.0000e+00\n",
      "\n",
      "Epoch 00003: val_acc did not improve from 0.05000\n",
      "Epoch 4/100\n",
      "4000/4000 [==============================] - 279s 70ms/step - loss: 3.9125 - acc: 0.0225 - f1: 0.0000e+00 - val_loss: 3.9195 - val_acc: 0.0000e+00 - val_f1: 0.0000e+00\n",
      "\n",
      "Epoch 00004: val_acc did not improve from 0.05000\n",
      "Epoch 5/100\n",
      "4000/4000 [==============================] - 279s 70ms/step - loss: 3.9110 - acc: 0.0170 - f1: 0.0000e+00 - val_loss: 3.9263 - val_acc: 0.0000e+00 - val_f1: 0.0000e+00\n",
      "\n",
      "Epoch 00005: val_acc did not improve from 0.05000\n",
      "Epoch 6/100\n",
      "4000/4000 [==============================] - 279s 70ms/step - loss: 3.9090 - acc: 0.0248 - f1: 0.0000e+00 - val_loss: 3.9325 - val_acc: 0.0000e+00 - val_f1: 0.0000e+00\n",
      "\n",
      "Epoch 00006: val_acc did not improve from 0.05000\n",
      "Epoch 00006: early stopping\n",
      "-----------------------------\n",
      "Processing fold # 4\n",
      "-----------------------------\n",
      "Train on 4000 samples, validate on 1000 samples\n",
      "Epoch 1/100\n",
      "4000/4000 [==============================] - 279s 70ms/step - loss: 3.9251 - acc: 0.0135 - f1: 0.0000e+00 - val_loss: 3.8675 - val_acc: 0.0500 - val_f1: 0.0000e+00\n",
      "\n",
      "Epoch 00001: val_acc did not improve from 0.05000\n",
      "Epoch 2/100\n",
      "4000/4000 [==============================] - 278s 70ms/step - loss: 3.9242 - acc: 0.0097 - f1: 0.0000e+00 - val_loss: 3.8713 - val_acc: 0.0500 - val_f1: 0.0000e+00\n",
      "\n",
      "Epoch 00002: val_acc did not improve from 0.05000\n",
      "Epoch 3/100\n",
      "4000/4000 [==============================] - 278s 70ms/step - loss: 3.9237 - acc: 0.0125 - f1: 0.0000e+00 - val_loss: 3.8750 - val_acc: 0.0500 - val_f1: 0.0000e+00\n",
      "\n",
      "Epoch 00003: val_acc did not improve from 0.05000\n",
      "Epoch 4/100\n",
      "4000/4000 [==============================] - 278s 70ms/step - loss: 3.9225 - acc: 0.0150 - f1: 0.0000e+00 - val_loss: 3.8787 - val_acc: 0.0500 - val_f1: 0.0000e+00\n",
      "\n",
      "Epoch 00004: val_acc did not improve from 0.05000\n",
      "Epoch 5/100\n",
      "4000/4000 [==============================] - 279s 70ms/step - loss: 3.9222 - acc: 0.0118 - f1: 0.0000e+00 - val_loss: 3.8823 - val_acc: 0.0500 - val_f1: 0.0000e+00\n",
      "\n",
      "Epoch 00005: val_acc did not improve from 0.05000\n",
      "Epoch 6/100\n",
      "4000/4000 [==============================] - 278s 69ms/step - loss: 3.9218 - acc: 0.0112 - f1: 0.0000e+00 - val_loss: 3.8857 - val_acc: 0.0500 - val_f1: 0.0000e+00\n",
      "\n",
      "Epoch 00006: val_acc did not improve from 0.05000\n",
      "Epoch 00006: early stopping\n"
     ]
    }
   ],
   "source": [
    "k = 5\n",
    "scores = []\n",
    "num_validation_sample = len(x)//k\n",
    "for i in range(k):\n",
    "    print(\"-----------------------------\")\n",
    "    print('Processing fold #', i)\n",
    "    print(\"-----------------------------\")\n",
    "    val_data = x[i * num_validation_sample: (i + 1) * num_validation_sample]\n",
    "    val_lab  = y[i * num_validation_sample: (i + 1) * num_validation_sample]\n",
    "    \n",
    "    parttial_train_X_data = np.concatenate(\n",
    "                [x[:i * num_validation_sample],\n",
    "                x[(i + 1) * num_validation_sample:]], axis=0)\n",
    "    \n",
    "    parttial_train_X_label = np.concatenate(\n",
    "                [y[:i * num_validation_sample],\n",
    "                y[(i + 1) * num_validation_sample:]], axis=0)\n",
    "    \n",
    "    history_imbd62_SGDW = model_SGDW.fit(parttial_train_X_data, parttial_train_X_label, \n",
    "                               validation_data=(val_data,val_lab),\n",
    "                               batch_size=batch_size,epochs=num_epochs,verbose=1,\n",
    "                               callbacks=[reduce_lr_sgd,earlystop,csv_logger,checkpointer])"
   ]
  },
  {
   "cell_type": "markdown",
   "metadata": {},
   "source": [
    "# Result"
   ]
  },
  {
   "cell_type": "code",
   "execution_count": null,
   "metadata": {},
   "outputs": [],
   "source": [
    "#Print average acc\n",
    "average_acc = np.mean(history_imbd62_SGDW.history['acc'])\n",
    "print(average_acc)\n",
    "print(\"------------\")\n",
    "#Print average val_acc\n",
    "average_val_acc = np.mean(history_imbd62_SGDW.history['val_acc'])\n",
    "print(average_val_acc)\n",
    "print(\"------------\")"
   ]
  },
  {
   "cell_type": "code",
   "execution_count": null,
   "metadata": {},
   "outputs": [],
   "source": [
    "#Print average loss\n",
    "average_loss = np.mean(history_imbd62_SGDW.history['loss'])\n",
    "print(average_loss)\n",
    "print(\"------------\")\n",
    "#Print average val_loss\n",
    "average_val_loss = np.mean(history_imbd62_SGDW.history['val_loss'])\n",
    "print(average_val_loss)\n",
    "print(\"------------\")"
   ]
  },
  {
   "cell_type": "code",
   "execution_count": null,
   "metadata": {},
   "outputs": [],
   "source": [
    "#Print average f1-score\n",
    "average_f1 = np.mean(history_imbd62_SGDW.history['f1'])\n",
    "print(average_f1)\n",
    "print(\"------------\")\n",
    "#Print average val_f1-score\n",
    "average_val_f1 = np.mean(history_imbd62_SGDW.history['val_f1'])\n",
    "print(average_val_f1)\n",
    "print(\"------------\")"
   ]
  },
  {
   "cell_type": "code",
   "execution_count": null,
   "metadata": {},
   "outputs": [],
   "source": [
    "# Evaluate the Model on the 20% Test Dataset\n",
    "scorev =  model_SGDW.evaluate(x_test, y_test, verbose=1)\n",
    "print('Test loss: ', scorev[0])\n",
    "print('Test accuracy:', scorev[1])"
   ]
  },
  {
   "cell_type": "code",
   "execution_count": null,
   "metadata": {},
   "outputs": [],
   "source": [
    "prediction_value = model_SGDW.predict(x_test)\n",
    "predict_class = np.argmax(prediction_value, axis=-1)\n",
    "y_test_integer = np.argmax(y_test, axis=1)\n",
    "\n",
    "# Detailed analysis\n",
    "from sklearn.metrics import classification_report, confusion_matrix\n",
    "print(classification_report(y_test_integer, predict_class))"
   ]
  },
  {
   "cell_type": "code",
   "execution_count": null,
   "metadata": {},
   "outputs": [],
   "source": [
    "modelsource = '../../save_models/imbd62/'\n",
    "df_movies_SGD = pd.read_csv(modelsource +'/imbd62_SGDW.csv',\n",
    "                        engine='python',\n",
    "                        sep=';')"
   ]
  },
  {
   "cell_type": "code",
   "execution_count": null,
   "metadata": {},
   "outputs": [],
   "source": [
    "df_movies_SGD.head(3)"
   ]
  },
  {
   "cell_type": "code",
   "execution_count": null,
   "metadata": {},
   "outputs": [],
   "source": [
    "import matplotlib.pyplot as plt\n",
    "import seaborn as sns\n",
    "%matplotlib inline"
   ]
  },
  {
   "cell_type": "code",
   "execution_count": null,
   "metadata": {},
   "outputs": [],
   "source": [
    "plt.plot(df_movies.index, df_movies['acc'], 'go-', color='red', label= 'acc',linewidth=3)\n",
    "plt.plot(df_movies.index, df_movies['val_acc'], '--^', color='blue',label= 'val_acc',linewidth=3)\n",
    "plt.legend(loc='lower right')\n",
    "plt.xlabel('Epoch')\n",
    "plt.ylabel('Accuarcy')\n",
    "plt.savefig(modelsource + 'imdb62_SGDW_acc.png')\n",
    "plt.title('AT-BLSTM model accouracy for IMBD62')"
   ]
  },
  {
   "cell_type": "code",
   "execution_count": null,
   "metadata": {},
   "outputs": [],
   "source": [
    "plt.plot(df_movies.index, df_movies['loss'], 'go-', color='red', label= 'loss',linewidth=3)\n",
    "plt.plot(df_movies.index, df_movies['val_loss'], '--^', color='blue',label= 'val_loss',linewidth=3)\n",
    "plt.legend(loc='upper right')\n",
    "plt.xlabel('Epoch')\n",
    "plt.ylabel('loss')\n",
    "plt.savefig(modelsource + 'imdb62_SGDW_loss.png')\n",
    "plt.title('AT-BLSTM model loss for IMBD62')"
   ]
  },
  {
   "cell_type": "code",
   "execution_count": null,
   "metadata": {},
   "outputs": [],
   "source": [
    "plt.plot(df_movies.index, df_movies['f1'], 'go-', color='red', label= 'f1',linewidth=3)\n",
    "plt.plot(df_movies.index, df_movies['val_f1'], '--*', color='blue',label= 'val_f1',linewidth=3)\n",
    "plt.legend(loc='lower right')\n",
    "plt.xlabel('Epoch')\n",
    "plt.ylabel('F1-score')\n",
    "plt.savefig(modelsource + 'imdb62_SGDW_F1-score.png')\n",
    "plt.title('AT-BLSTM model F-score for IMBD62')"
   ]
  },
  {
   "cell_type": "markdown",
   "metadata": {},
   "source": [
    "# SGD without earlystop"
   ]
  },
  {
   "cell_type": "code",
   "execution_count": null,
   "metadata": {},
   "outputs": [],
   "source": [
    "model_SGD = build_cnn()"
   ]
  },
  {
   "cell_type": "code",
   "execution_count": null,
   "metadata": {},
   "outputs": [],
   "source": [
    "model_SGD.compile(loss='categorical_crossentropy',\n",
    "                 optimizer=SGD(momentum=0.9),\n",
    "                  metrics=['accuracy',f1])"
   ]
  },
  {
   "cell_type": "code",
   "execution_count": null,
   "metadata": {},
   "outputs": [],
   "source": [
    "# save model\n",
    "model_SGD.save_weights(model_save_dir+\"saved_IMBD62_SGD_model.h5\")\n",
    "history_imbd62_atten = model_SGD.fit(x_train, y_train, \n",
    "                            validation_data=(x_test,y_test),\n",
    "                            batch_size=512,epochs=80,\n",
    "                            verbose=1,callbacks=[reduce_lr_adam,csv_logger])"
   ]
  },
  {
   "cell_type": "code",
   "execution_count": null,
   "metadata": {},
   "outputs": [],
   "source": []
  }
 ],
 "metadata": {
  "accelerator": "GPU",
  "colab": {
   "collapsed_sections": [],
   "name": "AttentionBidirectionalLSTMforIMDb62.ipynb",
   "provenance": [],
   "version": "0.3.2"
  },
  "kernelspec": {
   "display_name": "Python 3",
   "language": "python",
   "name": "python3"
  },
  "language_info": {
   "codemirror_mode": {
    "name": "ipython",
    "version": 3
   },
   "file_extension": ".py",
   "mimetype": "text/x-python",
   "name": "python",
   "nbconvert_exporter": "python",
   "pygments_lexer": "ipython3",
   "version": "3.7.6"
  }
 },
 "nbformat": 4,
 "nbformat_minor": 4
}
