{
 "cells": [
  {
   "cell_type": "markdown",
   "metadata": {
    "colab_type": "text",
    "id": "_mX6E1CSsB01"
   },
   "source": [
    "# AT-BLSTM for Twitter"
   ]
  },
  {
   "cell_type": "code",
   "execution_count": 1,
   "metadata": {},
   "outputs": [],
   "source": [
    "import os\n",
    "os.environ[\"CUDA_DEVICE_ORDER\"] = \"PCI_BUS_ID\"   # see issue #152\n",
    "os.environ[\"CUDA_VISIBLE_DEVICES\"]=\"0\""
   ]
  },
  {
   "cell_type": "code",
   "execution_count": 2,
   "metadata": {},
   "outputs": [],
   "source": [
    "from __future__ import print_function\n",
    "import sys"
   ]
  },
  {
   "cell_type": "code",
   "execution_count": 3,
   "metadata": {
    "colab": {},
    "colab_type": "code",
    "id": "WQqlnnSoa9Mc"
   },
   "outputs": [],
   "source": [
    "from numpy.random import seed\n",
    "seed(1)\n",
    "from tensorflow import set_random_seed\n",
    "set_random_seed(2)"
   ]
  },
  {
   "cell_type": "code",
   "execution_count": 4,
   "metadata": {
    "colab": {},
    "colab_type": "code",
    "id": "vsEtBpsYsB03"
   },
   "outputs": [],
   "source": [
    "import re\n",
    "import pandas as pd\n",
    "import numpy as np"
   ]
  },
  {
   "cell_type": "code",
   "execution_count": 5,
   "metadata": {
    "colab": {},
    "colab_type": "code",
    "id": "2fgquydUsB06"
   },
   "outputs": [
    {
     "name": "stderr",
     "output_type": "stream",
     "text": [
      "Using TensorFlow backend.\n"
     ]
    }
   ],
   "source": [
    "import pandas as pd\n",
    "import keras.layers as layers\n",
    "import tensorflow as tf\n",
    "import tensorflow_hub as hub\n",
    "import pydot\n",
    "import itertools\n",
    "import h5py\n",
    "import keras.callbacks\n",
    "import tensorflow as tf\n",
    "from keras import optimizers\n",
    "from keras import backend as K\n",
    "from keras import regularizers\n",
    "from keras.regularizers import l2\n",
    "from AdamW import AdamW\n",
    "from keras.layers import Input, Embedding, LSTM, Dense, Activation, Dropout, Flatten, merge\n",
    "from keras.models import Model\n",
    "from keras.layers import Conv1D, MaxPooling1D,AveragePooling1D, GlobalMaxPooling1D, concatenate\n",
    "from keras.layers import TimeDistributed, Bidirectional, Lambda\n",
    "from keras.layers import Layer\n",
    "from keras import initializers, regularizers, constraints\n",
    "from keras.layers.normalization import BatchNormalization"
   ]
  },
  {
   "cell_type": "code",
   "execution_count": 6,
   "metadata": {
    "colab": {},
    "colab_type": "code",
    "id": "lsCrOtvBsB0_"
   },
   "outputs": [],
   "source": [
    "from keras.models import Model\n",
    "from keras.utils import plot_model\n",
    "from keras.utils import np_utils\n",
    "from sklearn.model_selection import cross_val_score\n",
    "from sklearn.model_selection import KFold\n",
    "from sklearn.preprocessing import LabelEncoder\n",
    "from sklearn import preprocessing\n",
    "from keras.optimizers import SGD\n",
    "from keras.callbacks import TensorBoard, LearningRateScheduler, ReduceLROnPlateau, ModelCheckpoint"
   ]
  },
  {
   "cell_type": "code",
   "execution_count": 7,
   "metadata": {
    "colab": {},
    "colab_type": "code",
    "id": "A6yyNugssB1F"
   },
   "outputs": [],
   "source": [
    "# Load nltk \n",
    "import nltk\n",
    "from nltk.tokenize import sent_tokenize, word_tokenize\n",
    "from nltk.corpus import stopwords\n",
    "from nltk.stem.wordnet import WordNetLemmatizer\n",
    "from nltk.util import ngrams\n",
    "from nltk.classify.scikitlearn import SklearnClassifier\n",
    "%matplotlib inline"
   ]
  },
  {
   "cell_type": "code",
   "execution_count": 8,
   "metadata": {
    "colab": {},
    "colab_type": "code",
    "id": "mv_hlCFzsB1I"
   },
   "outputs": [],
   "source": [
    "batch_size = 64 \n",
    "maxlen = 512\n",
    "max_sentences = 15\n",
    "lstm_h = 100\n",
    "w_l2 = 0.0001\n",
    "nb_classes = 43"
   ]
  },
  {
   "cell_type": "code",
   "execution_count": 9,
   "metadata": {
    "colab": {},
    "colab_type": "code",
    "id": "Y1YqHgc1sB1K"
   },
   "outputs": [],
   "source": [
    "def PreprocessingText(text):\n",
    "    #str(tweet.encode('utf-8')) \n",
    "    str(text)    \n",
    "    #Replace all words preceded by '@' with 'USER_NAME'\n",
    "    text  = re.sub(r'@[^\\s]+', 'USER_NAME', text)    \n",
    "    #Replace all url's with 'URL'\n",
    "    text  = re.sub(r'www.[^\\s]+ | http[^\\s]+',' URL ', text)    \n",
    "    #Replace all hashtags with the word\n",
    "    text  = text.strip('#')    \n",
    "    #Replace words with long repeated characters with the shorter form\n",
    "    text  = re.sub(r'(.)\\1{2,}', r'\\1', text)    \n",
    "    #Remove any extra white space\n",
    "    text = re.sub(r'[\\s]+', ' ', text)    \n",
    "    return text"
   ]
  },
  {
   "cell_type": "code",
   "execution_count": 10,
   "metadata": {
    "colab": {},
    "colab_type": "code",
    "id": "FkbTLzg3sB1N"
   },
   "outputs": [],
   "source": [
    "def striphtml(s):\n",
    "    p = re.compile(r'<.*?>')\n",
    "    return p.sub(\"\", str(s))\n",
    "def clean(s):\n",
    "    return re.sub(r'[^\\x00-\\x7f]', r'', s)"
   ]
  },
  {
   "cell_type": "code",
   "execution_count": 11,
   "metadata": {
    "colab": {
     "base_uri": "https://localhost:8080/",
     "height": 142
    },
    "colab_type": "code",
    "id": "98GpsmYxsB1Q",
    "outputId": "c4014f53-fe97-450b-8d1b-9a841504a775"
   },
   "outputs": [
    {
     "data": {
      "text/html": [
       "<div>\n",
       "<style scoped>\n",
       "    .dataframe tbody tr th:only-of-type {\n",
       "        vertical-align: middle;\n",
       "    }\n",
       "\n",
       "    .dataframe tbody tr th {\n",
       "        vertical-align: top;\n",
       "    }\n",
       "\n",
       "    .dataframe thead th {\n",
       "        text-align: right;\n",
       "    }\n",
       "</style>\n",
       "<table border=\"1\" class=\"dataframe\">\n",
       "  <thead>\n",
       "    <tr style=\"text-align: right;\">\n",
       "      <th></th>\n",
       "      <th>Unnamed: 0</th>\n",
       "      <th>text</th>\n",
       "      <th>target</th>\n",
       "    </tr>\n",
       "  </thead>\n",
       "  <tbody>\n",
       "    <tr>\n",
       "      <th>0</th>\n",
       "      <td>0</td>\n",
       "      <td>bob mueller is a decorated marine former doj p...</td>\n",
       "      <td>MaxBoot</td>\n",
       "    </tr>\n",
       "    <tr>\n",
       "      <th>1</th>\n",
       "      <td>1</td>\n",
       "      <td>were giving away copies of theprisonlettersofn...</td>\n",
       "      <td>MaxBoot</td>\n",
       "    </tr>\n",
       "    <tr>\n",
       "      <th>2</th>\n",
       "      <td>2</td>\n",
       "      <td>trump and putin can bond over their shared ant...</td>\n",
       "      <td>MaxBoot</td>\n",
       "    </tr>\n",
       "  </tbody>\n",
       "</table>\n",
       "</div>"
      ],
      "text/plain": [
       "   Unnamed: 0                                               text   target\n",
       "0           0  bob mueller is a decorated marine former doj p...  MaxBoot\n",
       "1           1  were giving away copies of theprisonlettersofn...  MaxBoot\n",
       "2           2  trump and putin can bond over their shared ant...  MaxBoot"
      ]
     },
     "execution_count": 11,
     "metadata": {},
     "output_type": "execute_result"
    }
   ],
   "source": [
    "# Import dataset\n",
    "datasource = '../../data/tweet/'\n",
    "tweet_df = pd.read_csv(datasource + 'clean_tweet.csv')\n",
    "tweet_df.head(3)"
   ]
  },
  {
   "cell_type": "code",
   "execution_count": 12,
   "metadata": {},
   "outputs": [],
   "source": [
    "tweet_df.drop([\"Unnamed: 0\"], axis=1, inplace=True)"
   ]
  },
  {
   "cell_type": "code",
   "execution_count": 13,
   "metadata": {},
   "outputs": [],
   "source": [
    "tweet_df.drop_duplicates(subset='text', inplace=True)"
   ]
  },
  {
   "cell_type": "code",
   "execution_count": 14,
   "metadata": {},
   "outputs": [
    {
     "name": "stdout",
     "output_type": "stream",
     "text": [
      "<class 'pandas.core.frame.DataFrame'>\n",
      "RangeIndex: 104426 entries, 0 to 104425\n",
      "Data columns (total 2 columns):\n",
      "text      104425 non-null object\n",
      "target    104425 non-null object\n",
      "dtypes: object(2)\n",
      "memory usage: 1.6+ MB\n",
      "None\n"
     ]
    },
    {
     "data": {
      "text/plain": [
       "(None, None)"
      ]
     },
     "execution_count": 14,
     "metadata": {},
     "output_type": "execute_result"
    }
   ],
   "source": [
    "tweet_df.reset_index(drop=True, inplace=True), print(tweet_df.info())"
   ]
  },
  {
   "cell_type": "code",
   "execution_count": 15,
   "metadata": {},
   "outputs": [
    {
     "data": {
      "text/html": [
       "<div>\n",
       "<style scoped>\n",
       "    .dataframe tbody tr th:only-of-type {\n",
       "        vertical-align: middle;\n",
       "    }\n",
       "\n",
       "    .dataframe tbody tr th {\n",
       "        vertical-align: top;\n",
       "    }\n",
       "\n",
       "    .dataframe thead th {\n",
       "        text-align: right;\n",
       "    }\n",
       "</style>\n",
       "<table border=\"1\" class=\"dataframe\">\n",
       "  <thead>\n",
       "    <tr style=\"text-align: right;\">\n",
       "      <th></th>\n",
       "      <th>text</th>\n",
       "      <th>target</th>\n",
       "    </tr>\n",
       "  </thead>\n",
       "  <tbody>\n",
       "    <tr>\n",
       "      <th>0</th>\n",
       "      <td>bob mueller is a decorated marine former doj p...</td>\n",
       "      <td>MaxBoot</td>\n",
       "    </tr>\n",
       "    <tr>\n",
       "      <th>1</th>\n",
       "      <td>were giving away copies of theprisonlettersofn...</td>\n",
       "      <td>MaxBoot</td>\n",
       "    </tr>\n",
       "    <tr>\n",
       "      <th>2</th>\n",
       "      <td>trump and putin can bond over their shared ant...</td>\n",
       "      <td>MaxBoot</td>\n",
       "    </tr>\n",
       "  </tbody>\n",
       "</table>\n",
       "</div>"
      ],
      "text/plain": [
       "                                                text   target\n",
       "0  bob mueller is a decorated marine former doj p...  MaxBoot\n",
       "1  were giving away copies of theprisonlettersofn...  MaxBoot\n",
       "2  trump and putin can bond over their shared ant...  MaxBoot"
      ]
     },
     "execution_count": 15,
     "metadata": {},
     "output_type": "execute_result"
    }
   ],
   "source": [
    "tweet_df.head(3)"
   ]
  },
  {
   "cell_type": "code",
   "execution_count": 16,
   "metadata": {
    "colab": {},
    "colab_type": "code",
    "id": "CN7geXgmsB1a"
   },
   "outputs": [],
   "source": [
    "txt = ''\n",
    "docs = []\n",
    "sentences = []\n",
    "labels = []\n",
    "for cont, label in zip(tweet_df['text'], tweet_df['target']):\n",
    "    sentences = re.split(r'(?<!\\w\\.\\w.)(?<![A-Z][a-z]\\.)(?<=\\.|\\?)\\s', clean(striphtml(cont)))\n",
    "    sentences = [sent.lower() for sent in sentences]\n",
    "    docs.append(sentences)\n",
    "    labels.append(label)"
   ]
  },
  {
   "cell_type": "code",
   "execution_count": 17,
   "metadata": {
    "colab": {},
    "colab_type": "code",
    "id": "YymqmsPZDxKH"
   },
   "outputs": [],
   "source": [
    "num_sent = []\n",
    "for doc in docs:\n",
    "    num_sent.append(len(doc))\n",
    "    for s in doc:\n",
    "        txt += s"
   ]
  },
  {
   "cell_type": "code",
   "execution_count": 18,
   "metadata": {
    "colab": {
     "base_uri": "https://localhost:8080/",
     "height": 34
    },
    "colab_type": "code",
    "id": "HQyRz2YfsB1f",
    "outputId": "31983235-8c2d-430a-c28a-7b67c1fa9e26"
   },
   "outputs": [
    {
     "name": "stdout",
     "output_type": "stream",
     "text": [
      "total chars: 27\n"
     ]
    }
   ],
   "source": [
    "chars = sorted(list(set(txt)))\n",
    "print('total chars:', len(chars))\n",
    "char_indices = dict((c, i) for i, c in enumerate(chars))\n",
    "indices_char = dict((i, c) for i, c in enumerate(chars))"
   ]
  },
  {
   "cell_type": "code",
   "execution_count": 19,
   "metadata": {
    "colab": {
     "base_uri": "https://localhost:8080/",
     "height": 68
    },
    "colab_type": "code",
    "id": "PpNvfBaNsB1j",
    "outputId": "e1466328-e602-49c7-bc87-8e02bb92bcad"
   },
   "outputs": [
    {
     "name": "stdout",
     "output_type": "stream",
     "text": [
      "104426\n",
      "27\n"
     ]
    },
    {
     "data": {
      "text/plain": [
       "(None, None)"
      ]
     },
     "execution_count": 19,
     "metadata": {},
     "output_type": "execute_result"
    }
   ],
   "source": [
    "print (len(docs)), print(len(chars))"
   ]
  },
  {
   "cell_type": "code",
   "execution_count": 20,
   "metadata": {
    "colab": {
     "base_uri": "https://localhost:8080/",
     "height": 408
    },
    "colab_type": "code",
    "id": "ClFTI-gjD7Vp",
    "outputId": "a28ad4aa-11c9-4426-aacb-42cbdfacd3f2"
   },
   "outputs": [
    {
     "name": "stdout",
     "output_type": "stream",
     "text": [
      "Doing One hot encoding for training sample and targets:\n"
     ]
    }
   ],
   "source": [
    "print('Doing One hot encoding for training sample and targets:')\n",
    "X = np.ones((len(docs), max_sentences, maxlen), dtype=np.int64) * -1\n",
    "y = np.array(labels)\n",
    "for i, doc in enumerate(docs):\n",
    "    for j, sentence in enumerate(doc):\n",
    "        if j < max_sentences:\n",
    "            for t, char in enumerate(sentence[-maxlen:]):\n",
    "                X[i, j, (maxlen - 1 - t)] = char_indices[char]             \n",
    "# print('Sample Training data:{}'.format(X[120,2]))"
   ]
  },
  {
   "cell_type": "code",
   "execution_count": 21,
   "metadata": {
    "colab": {
     "base_uri": "https://localhost:8080/",
     "height": 122
    },
    "colab_type": "code",
    "id": "aqdNOxxdsB1y",
    "outputId": "c92073d3-8986-4d3f-d63c-e26bf704d563"
   },
   "outputs": [
    {
     "name": "stderr",
     "output_type": "stream",
     "text": [
      "/home/ds-nlp/anaconda3/lib/python3.7/site-packages/sklearn/preprocessing/_encoders.py:415: FutureWarning: The handling of integer data will change in version 0.22. Currently, the categories are determined based on the range [0, max(values)], while in the future they will be determined based on the unique values.\n",
      "If you want the future behaviour and silence this warning, you can specify \"categories='auto'\".\n",
      "In case you used a LabelEncoder before this OneHotEncoder to convert the categories to integers, then you can now use the OneHotEncoder directly.\n",
      "  warnings.warn(msg, FutureWarning)\n"
     ]
    }
   ],
   "source": [
    "from sklearn.preprocessing import LabelEncoder, OneHotEncoder\n",
    "label_encoder = LabelEncoder()\n",
    "integer_encoded = label_encoder.fit_transform(y)\n",
    "# binary encode\n",
    "from sklearn.preprocessing import OneHotEncoder\n",
    "onehot_encoder = OneHotEncoder(sparse=False)\n",
    "integer_encoded = integer_encoded.reshape(len(integer_encoded), 1)\n",
    "y = onehot_encoder.fit_transform(integer_encoded)\n",
    "# print('training label:', y.shape)"
   ]
  },
  {
   "cell_type": "markdown",
   "metadata": {
    "colab_type": "text",
    "id": "QPAQcFcVsB17"
   },
   "source": [
    "# Attention layer"
   ]
  },
  {
   "cell_type": "code",
   "execution_count": 22,
   "metadata": {
    "colab": {},
    "colab_type": "code",
    "id": "_bZyf25VsB18"
   },
   "outputs": [],
   "source": [
    "def dot_product(x, kernel):\n",
    "    if K.backend() == 'tensorflow':\n",
    "        return K.squeeze(K.dot(x, K.expand_dims(kernel)), axis=-1)\n",
    "    else:\n",
    "        return K.dot(x, kernel)"
   ]
  },
  {
   "cell_type": "code",
   "execution_count": 23,
   "metadata": {
    "colab": {},
    "colab_type": "code",
    "id": "jKzuDTaSsB1-"
   },
   "outputs": [],
   "source": [
    "class AttentionWithContext(Layer):\n",
    "    \n",
    "    def __init__(self, return_coefficients=False,\n",
    "                 W_regularizer=None, u_regularizer=None, b_regularizer=None,\n",
    "                 W_constraint=None, u_constraint=None, b_constraint=None,\n",
    "                 bias=True, **kwargs):\n",
    "        self.supports_masking = True\n",
    "        self.return_coefficients = return_coefficients\n",
    "        self.init = initializers.get('glorot_uniform')\n",
    "        \n",
    "        self.W_regularizer = regularizers.get(W_regularizer)\n",
    "        self.u_regularizer = regularizers.get(u_regularizer)\n",
    "        self.b_regularizer = regularizers.get(b_regularizer)\n",
    "        \n",
    "        self.W_constraint = constraints.get(W_constraint)\n",
    "        self.u_constraint = constraints.get(u_constraint)\n",
    "        self.b_constraint = constraints.get(b_constraint)\n",
    "        \n",
    "        self.bias = bias\n",
    "        super(AttentionWithContext, self).__init__(**kwargs)\n",
    "    \n",
    "    def build(self, input_shape):\n",
    "        assert len(input_shape) == 3\n",
    "        \n",
    "        self.W = self.add_weight((input_shape[-1], input_shape[-1],),\n",
    "                                 initializer=self.init,\n",
    "                                 name='{}_W'.format(self.name),\n",
    "                                 regularizer=self.W_regularizer,\n",
    "                                 constraint=self.W_constraint)\n",
    "        if self.bias:\n",
    "            self.b = self.add_weight((input_shape[-1],),\n",
    "                                     initializer='zero',\n",
    "                                     name='{}_b'.format(self.name),\n",
    "                                     regularizer=self.b_regularizer,\n",
    "                                     constraint=self.b_constraint)\n",
    "        \n",
    "        self.u = self.add_weight((input_shape[-1],),\n",
    "                                 initializer=self.init,\n",
    "                                 name='{}_u'.format(self.name),\n",
    "                                 regularizer=self.u_regularizer,\n",
    "                                 constraint=self.u_constraint)\n",
    "        \n",
    "        super(AttentionWithContext, self).build(input_shape)\n",
    "    \n",
    "    def compute_mask(self, input, input_mask=None):\n",
    "        # do not pass the mask to the next layers\n",
    "        return None\n",
    "    \n",
    "    def call(self, x, mask=None):\n",
    "        uit = dot_product(x, self.W)\n",
    "        \n",
    "        if self.bias:\n",
    "            uit += self.b\n",
    "        \n",
    "        uit = K.tanh(uit)\n",
    "        ait = dot_product(uit, self.u)\n",
    "        \n",
    "        a = K.exp(ait)\n",
    "        \n",
    "        # apply mask after the exp. will be re-normalized next\n",
    "        if mask is not None:\n",
    "            # Cast the mask to floatX to avoid float64 upcasting in theano\n",
    "            a *= K.cast(mask, K.floatx())\n",
    "        \n",
    "        # in some cases especially in the early stages of training the sum may be almost zero\n",
    "        # and this results in NaN's. A workaround is to add a very small positive number ε to the sum.\n",
    "        # a /= K.cast(K.sum(a, axis=1, keepdims=True), K.floatx())\n",
    "        a /= K.cast(K.sum(a, axis=1, keepdims=True) + K.epsilon(), K.floatx())\n",
    "        \n",
    "        a = K.expand_dims(a)\n",
    "        weighted_input = x * a\n",
    "        \n",
    "        if self.return_coefficients:\n",
    "            return [K.sum(weighted_input, axis=1), a]\n",
    "        else:\n",
    "            return K.sum(weighted_input, axis=1)\n",
    "    def compute_output_shape(self, input_shape):\n",
    "        if self.return_coefficients:\n",
    "            return [(input_shape[0], input_shape[-1]), (input_shape[0], input_shape[-1], 1)]\n",
    "        else:\n",
    "            return input_shape[0], input_shape[-1]"
   ]
  },
  {
   "cell_type": "markdown",
   "metadata": {
    "colab_type": "text",
    "id": "-cfTw2STsB2B"
   },
   "source": [
    "# Precision, Recall and F-Score Script"
   ]
  },
  {
   "cell_type": "code",
   "execution_count": 24,
   "metadata": {
    "colab": {},
    "colab_type": "code",
    "id": "XtVte8G0sB2B"
   },
   "outputs": [],
   "source": [
    "def f1(y_true, y_pred):\n",
    "   \n",
    "    def recall(y_true, y_pred):\n",
    "        true_positives = K.sum(K.round(K.clip(y_true * y_pred, 0, 1)))\n",
    "        possible_positives = K.sum(K.round(K.clip(y_true, 0, 1)))\n",
    "        recall = true_positives / (possible_positives + K.epsilon())\n",
    "        return recall\n",
    "\n",
    "    def precision(y_true, y_pred):\n",
    "        true_positives = K.sum(K.round(K.clip(y_true * y_pred, 0, 1)))\n",
    "        predicted_positives = K.sum(K.round(K.clip(y_pred, 0, 1)))\n",
    "        precision = true_positives / (predicted_positives + K.epsilon())\n",
    "        return precision\n",
    "    precision = precision(y_true, y_pred)\n",
    "    recall = recall(y_true, y_pred)\n",
    "    return 2*((precision*recall)/(precision+recall+K.epsilon()))"
   ]
  },
  {
   "cell_type": "markdown",
   "metadata": {
    "colab_type": "text",
    "id": "gkAUQa4nsB2I"
   },
   "source": [
    "# Tensor board"
   ]
  },
  {
   "cell_type": "code",
   "execution_count": 25,
   "metadata": {
    "colab": {},
    "colab_type": "code",
    "id": "Hob-SISZsB2K"
   },
   "outputs": [],
   "source": [
    "# # tensorbd_dir = '/content/drive/My Drive/Colab Notebooks/blog/tensorbd'\n",
    "model_save_dir = '../../save_models/tweets/'\n",
    "tensorboard = TensorBoard(log_dir=model_save_dir+'./tweetsAdamW2',\n",
    "                         histogram_freq=0, \n",
    "                          write_graph=True, \n",
    "                         write_images=True)"
   ]
  },
  {
   "cell_type": "markdown",
   "metadata": {
    "colab_type": "text",
    "id": "khu9u0qUsB2N"
   },
   "source": [
    "# Callback"
   ]
  },
  {
   "cell_type": "code",
   "execution_count": 26,
   "metadata": {
    "colab": {},
    "colab_type": "code",
    "id": "KCZH6SWQsB2O"
   },
   "outputs": [],
   "source": [
    "reduce_lr_adam = ReduceLROnPlateau(monitor='val_loss',factor=0.5,\n",
    "                                   patience=5,min_lr=1e-4)\n",
    "reduce_lr_sgd = ReduceLROnPlateau(monitor='val_loss',\n",
    "                                  factor=0.5,patience=5, min_lr=1e-5)"
   ]
  },
  {
   "cell_type": "code",
   "execution_count": 38,
   "metadata": {},
   "outputs": [],
   "source": [
    "# EarlyStopping\n",
    "earlystop = keras.callbacks.EarlyStopping(monitor='val_loss',\n",
    "                                          patience=5,\n",
    "                                          verbose=1, \n",
    "                                          mode='auto')\n",
    "num_epochs = 100\n",
    "#checkpointer\n",
    "checkpointer = ModelCheckpoint(model_save_dir + 'tweetsAdamW2.hdf5', \n",
    "                               monitor='val_acc', \n",
    "                               verbose=1, \n",
    "                               save_best_only=True,\n",
    "                               mode='max')\n",
    "# CSV logger keras\n",
    "from keras.callbacks import CSVLogger\n",
    "csv_logger = CSVLogger(model_save_dir + 'tweetsAdamW2.csv',\n",
    "                       append=True, \n",
    "                       separator=';')"
   ]
  },
  {
   "cell_type": "markdown",
   "metadata": {
    "colab_type": "text",
    "id": "2BR5sZmAsB2Q"
   },
   "source": [
    "# Splitting data"
   ]
  },
  {
   "cell_type": "code",
   "execution_count": 39,
   "metadata": {
    "colab": {
     "base_uri": "https://localhost:8080/",
     "height": 85
    },
    "colab_type": "code",
    "id": "-Zrf1qzWsB2R",
    "outputId": "04669e70-b711-4298-b390-0e88c4ef0244"
   },
   "outputs": [
    {
     "name": "stdout",
     "output_type": "stream",
     "text": [
      "Training shape (83541, 15, 512)\n",
      "Training label shape: (83541, 43)\n",
      "Training shape (20885, 15, 512)\n",
      "Training label shape: (20885, 43)\n"
     ]
    }
   ],
   "source": [
    "indices = np.arange(len(X))\n",
    "np.random.shuffle(indices)\n",
    "\n",
    "X = X[indices]\n",
    "y = y[indices]\n",
    "\n",
    "validation_split = 0.2\n",
    "nb_validation_sample = int(validation_split * len(X))\n",
    "\n",
    "x_train = X[:-nb_validation_sample]\n",
    "y_train = y[:-nb_validation_sample]\n",
    "\n",
    "x_val = X[-nb_validation_sample:]\n",
    "y_val = y[-nb_validation_sample:]\n",
    "\n",
    "print(\"Training shape\", x_train.shape)\n",
    "print('Training label shape:', y_train.shape)\n",
    "\n",
    "print(\"Training shape\", x_val.shape)\n",
    "print('Training label shape:', y_val.shape)"
   ]
  },
  {
   "cell_type": "markdown",
   "metadata": {
    "colab_type": "text",
    "id": "H0nIu1KesB2X"
   },
   "source": [
    "# Convolutional layer with filter, windows and pooling"
   ]
  },
  {
   "cell_type": "code",
   "execution_count": 40,
   "metadata": {
    "colab": {},
    "colab_type": "code",
    "id": "W9FrJ7nrsB2Y"
   },
   "outputs": [],
   "source": [
    "# Convolutional layer parameter\n",
    "filter_length = [5, 3, 3]\n",
    "nb_filter = [196, 196, 256]\n",
    "pool_length = 2"
   ]
  },
  {
   "cell_type": "code",
   "execution_count": 41,
   "metadata": {
    "colab": {
     "base_uri": "https://localhost:8080/",
     "height": 71
    },
    "colab_type": "code",
    "id": "bzcmQP92sB2a",
    "outputId": "d148f21f-e5dc-4165-eb8a-a4d715a2cdbf"
   },
   "outputs": [],
   "source": [
    "# sentence input\n",
    "in_sentence = Input(shape=(maxlen,),\n",
    "                    dtype='int64',name='main_input1')\n",
    "# document input\n",
    "document = Input(shape=(max_sentences, maxlen), \n",
    "                 dtype='int64',name='main_input2')"
   ]
  },
  {
   "cell_type": "code",
   "execution_count": 42,
   "metadata": {
    "colab": {},
    "colab_type": "code",
    "id": "H9VIea1rsB2c"
   },
   "outputs": [],
   "source": [
    "def binarize(x, sz=28):\n",
    "    return tf.to_float(tf.one_hot(x, sz, on_value=1, off_value=0, axis=-1))\n",
    "def binarize_outshape(in_shape):\n",
    "    return in_shape[0], in_shape[1], 28"
   ]
  },
  {
   "cell_type": "code",
   "execution_count": 43,
   "metadata": {
    "colab": {
     "base_uri": "https://localhost:8080/",
     "height": 88
    },
    "colab_type": "code",
    "id": "PhwhF0VKsB2e",
    "outputId": "f03344e1-96cc-4146-86f5-a4aa51b82b6e"
   },
   "outputs": [],
   "source": [
    "embedded = Lambda(binarize, output_shape=binarize_outshape, \n",
    "                  name='embed_input')(in_sentence)"
   ]
  },
  {
   "cell_type": "markdown",
   "metadata": {
    "colab_type": "text",
    "id": "ZSQXhhRrsB2g"
   },
   "source": [
    "# Encoding Layer"
   ]
  },
  {
   "cell_type": "code",
   "execution_count": 44,
   "metadata": {
    "colab": {
     "base_uri": "https://localhost:8080/",
     "height": 802
    },
    "colab_type": "code",
    "id": "mFL-6sIKsB2g",
    "outputId": "fffcf9d8-6081-4eaa-d8df-cf91754041c3"
   },
   "outputs": [
    {
     "name": "stdout",
     "output_type": "stream",
     "text": [
      "Model: \"model_3\"\n",
      "_________________________________________________________________\n",
      "Layer (type)                 Output Shape              Param #   \n",
      "=================================================================\n",
      "main_input1 (InputLayer)     (None, 512)               0         \n",
      "_________________________________________________________________\n",
      "embed_input (Lambda)         (None, 512, 28)           0         \n",
      "_________________________________________________________________\n",
      "conv1d_4 (Conv1D)            (None, 508, 196)          27636     \n",
      "_________________________________________________________________\n",
      "dropout_6 (Dropout)          (None, 508, 196)          0         \n",
      "_________________________________________________________________\n",
      "max_pooling1d_4 (MaxPooling1 (None, 254, 196)          0         \n",
      "_________________________________________________________________\n",
      "conv1d_5 (Conv1D)            (None, 252, 196)          115444    \n",
      "_________________________________________________________________\n",
      "dropout_7 (Dropout)          (None, 252, 196)          0         \n",
      "_________________________________________________________________\n",
      "max_pooling1d_5 (MaxPooling1 (None, 126, 196)          0         \n",
      "_________________________________________________________________\n",
      "conv1d_6 (Conv1D)            (None, 124, 256)          150784    \n",
      "_________________________________________________________________\n",
      "dropout_8 (Dropout)          (None, 124, 256)          0         \n",
      "_________________________________________________________________\n",
      "max_pooling1d_6 (MaxPooling1 (None, 62, 256)           0         \n",
      "_________________________________________________________________\n",
      "bidirectional_3 (Bidirection (None, 128)               164352    \n",
      "_________________________________________________________________\n",
      "dropout_9 (Dropout)          (None, 128)               0         \n",
      "=================================================================\n",
      "Total params: 458,216\n",
      "Trainable params: 458,216\n",
      "Non-trainable params: 0\n",
      "_________________________________________________________________\n"
     ]
    }
   ],
   "source": [
    "# embedded: encodes sentence\n",
    "from keras import initializers\n",
    "from keras.initializers import glorot_normal, normal\n",
    "\n",
    "for i in range(len(nb_filter)):\n",
    "    embedded = Conv1D(filters=nb_filter[i],\n",
    "                      kernel_size=filter_length[i],\n",
    "                      padding='valid',\n",
    "                      activation='relu',\n",
    "                      kernel_initializer=initializers.glorot_uniform(seed=0),\n",
    "                      bias_initializer='zeros',strides=1)(embedded)\n",
    "\n",
    "    embedded = Dropout(0.1)(embedded)\n",
    "    embedded = MaxPooling1D(pool_size=pool_length)(embedded)\n",
    "\n",
    "bi_lstm_sent = \\\n",
    "    Bidirectional(LSTM(64,return_sequences=False,\n",
    "                       name='blstm_input1'))(embedded)\n",
    "sent_encode = Dropout(0.3)(bi_lstm_sent)\n",
    "encoder = Model(inputs=in_sentence, outputs=sent_encode)\n",
    "encoder.summary()"
   ]
  },
  {
   "cell_type": "markdown",
   "metadata": {
    "colab_type": "text",
    "id": "abxdg5iisB2k"
   },
   "source": [
    "# Decoder Layer"
   ]
  },
  {
   "cell_type": "code",
   "execution_count": 45,
   "metadata": {
    "colab": {},
    "colab_type": "code",
    "id": "T5Xb90f-sB2l"
   },
   "outputs": [],
   "source": [
    "def build_cnn():\n",
    "    encoded = TimeDistributed(encoder)(document)\n",
    "    # encoded: sentences to bi-lstm for document encoding \n",
    "    b_lstm_doc = \\\n",
    "        Bidirectional(LSTM(256,return_sequences=True))(encoded)\n",
    "    output = AttentionWithContext()(b_lstm_doc)\n",
    "    output = Dense(64, activation='relu')(output)\n",
    "    output = Dropout(0.1)(output)    \n",
    "    output = Dense(nb_classes, activation='softmax')(output)\n",
    "    model = Model(inputs=document, outputs=output)\n",
    "    model.summary()\n",
    "    return model"
   ]
  },
  {
   "cell_type": "markdown",
   "metadata": {
    "colab_type": "text",
    "id": "ENGRcp2R3D4k"
   },
   "source": [
    "# Training with Adam"
   ]
  },
  {
   "cell_type": "code",
   "execution_count": 46,
   "metadata": {
    "colab": {
     "base_uri": "https://localhost:8080/",
     "height": 479
    },
    "colab_type": "code",
    "id": "6JNHM7nFw5gH",
    "outputId": "294dbf85-1cdc-4895-ba68-a2df526aa823"
   },
   "outputs": [
    {
     "name": "stdout",
     "output_type": "stream",
     "text": [
      "Model: \"model_4\"\n",
      "_________________________________________________________________\n",
      "Layer (type)                 Output Shape              Param #   \n",
      "=================================================================\n",
      "main_input2 (InputLayer)     (None, 15, 512)           0         \n",
      "_________________________________________________________________\n",
      "time_distributed_2 (TimeDist (None, 15, 128)           458216    \n",
      "_________________________________________________________________\n",
      "bidirectional_4 (Bidirection (None, 15, 512)           788480    \n",
      "_________________________________________________________________\n",
      "attention_with_context_2 (At (None, 512)               263168    \n",
      "_________________________________________________________________\n",
      "dense_3 (Dense)              (None, 64)                32832     \n",
      "_________________________________________________________________\n",
      "dropout_10 (Dropout)         (None, 64)                0         \n",
      "_________________________________________________________________\n",
      "dense_4 (Dense)              (None, 43)                2795      \n",
      "=================================================================\n",
      "Total params: 1,545,491\n",
      "Trainable params: 1,545,491\n",
      "Non-trainable params: 0\n",
      "_________________________________________________________________\n"
     ]
    }
   ],
   "source": [
    "# Adam parameter\n",
    "model_tweets_adamw = build_cnn()\n",
    "b, B, T = batch_size, x_train.shape[0], num_epochs\n",
    "wd = 0.005 * (b/B/T)**0.5\n",
    "model_tweets_adamw.compile(loss='categorical_crossentropy',\n",
    "                optimizer=AdamW(weight_decay=wd),metrics=['accuracy',f1])"
   ]
  },
  {
   "cell_type": "code",
   "execution_count": 47,
   "metadata": {},
   "outputs": [],
   "source": [
    "# save model\n",
    "model_tweets_adamw.save_weights(model_save_dir+\"saved_tweet_model.h5\")"
   ]
  },
  {
   "cell_type": "code",
   "execution_count": 48,
   "metadata": {},
   "outputs": [
    {
     "name": "stdout",
     "output_type": "stream",
     "text": [
      "-----------------------------\n",
      "Processing fold # 0\n",
      "-----------------------------\n",
      "Train on 66833 samples, validate on 16708 samples\n",
      "Epoch 1/100\n",
      "66833/66833 [==============================] - 1844s 28ms/step - loss: 3.3900 - acc: 0.0949 - f1: 0.0708 - val_loss: 3.1885 - val_acc: 0.1375 - val_f1: 0.1068\n",
      "Epoch 2/100\n",
      "66833/66833 [==============================] - 1843s 28ms/step - loss: 3.0428 - acc: 0.1709 - f1: 0.1457 - val_loss: 2.8323 - val_acc: 0.2196 - val_f1: 0.1964\n",
      "Epoch 3/100\n",
      "66833/66833 [==============================] - 1849s 28ms/step - loss: 2.7612 - acc: 0.2382 - f1: 0.2152 - val_loss: 2.6469 - val_acc: 0.2698 - val_f1: 0.2396\n",
      "Epoch 4/100\n",
      "66833/66833 [==============================] - 1855s 28ms/step - loss: 2.6098 - acc: 0.2747 - f1: 0.2516 - val_loss: 2.5257 - val_acc: 0.2984 - val_f1: 0.2740\n",
      "Epoch 5/100\n",
      "66833/66833 [==============================] - 1863s 28ms/step - loss: 2.5461 - acc: 0.2936 - f1: 0.2698 - val_loss: 2.4652 - val_acc: 0.3152 - val_f1: 0.2982\n",
      "Epoch 6/100\n",
      "66833/66833 [==============================] - 1868s 28ms/step - loss: 2.4248 - acc: 0.3219 - f1: 0.2962 - val_loss: 2.3879 - val_acc: 0.3358 - val_f1: 0.3119\n",
      "Epoch 7/100\n",
      "66833/66833 [==============================] - 1869s 28ms/step - loss: 2.3481 - acc: 0.3417 - f1: 0.3180 - val_loss: 2.3632 - val_acc: 0.3464 - val_f1: 0.3202\n",
      "Epoch 8/100\n",
      "66833/66833 [==============================] - 1883s 28ms/step - loss: 2.2870 - acc: 0.3555 - f1: 0.3303 - val_loss: 2.3329 - val_acc: 0.3507 - val_f1: 0.3354\n",
      "Epoch 9/100\n",
      "66833/66833 [==============================] - 1874s 28ms/step - loss: 2.2394 - acc: 0.3662 - f1: 0.3411 - val_loss: 2.3188 - val_acc: 0.3564 - val_f1: 0.3329\n",
      "Epoch 10/100\n",
      "66833/66833 [==============================] - 1878s 28ms/step - loss: 2.1861 - acc: 0.3824 - f1: 0.3559 - val_loss: 2.2836 - val_acc: 0.3647 - val_f1: 0.3455\n",
      "Epoch 11/100\n",
      "66833/66833 [==============================] - 1881s 28ms/step - loss: 2.1464 - acc: 0.3911 - f1: 0.3652 - val_loss: 2.2739 - val_acc: 0.3686 - val_f1: 0.3599\n",
      "Epoch 12/100\n",
      "66833/66833 [==============================] - 1887s 28ms/step - loss: 2.1031 - acc: 0.4010 - f1: 0.3779 - val_loss: 2.2509 - val_acc: 0.3799 - val_f1: 0.3670\n",
      "Epoch 13/100\n",
      "66833/66833 [==============================] - 1892s 28ms/step - loss: 2.0650 - acc: 0.4116 - f1: 0.3887 - val_loss: 2.2498 - val_acc: 0.3798 - val_f1: 0.3727\n",
      "Epoch 14/100\n",
      "66833/66833 [==============================] - 1890s 28ms/step - loss: 2.0291 - acc: 0.4194 - f1: 0.3985 - val_loss: 2.2286 - val_acc: 0.3856 - val_f1: 0.3843\n",
      "Epoch 15/100\n",
      "66833/66833 [==============================] - 1886s 28ms/step - loss: 1.9940 - acc: 0.4288 - f1: 0.4070 - val_loss: 2.2312 - val_acc: 0.3860 - val_f1: 0.3815\n",
      "Epoch 16/100\n",
      "66833/66833 [==============================] - 1886s 28ms/step - loss: 1.9644 - acc: 0.4364 - f1: 0.4164 - val_loss: 2.2153 - val_acc: 0.3944 - val_f1: 0.3906\n",
      "Epoch 17/100\n",
      "66833/66833 [==============================] - 1960s 29ms/step - loss: 1.9383 - acc: 0.4421 - f1: 0.4222 - val_loss: 2.2387 - val_acc: 0.3936 - val_f1: 0.3897\n",
      "Epoch 18/100\n",
      "66833/66833 [==============================] - 2022s 30ms/step - loss: 1.9089 - acc: 0.4517 - f1: 0.4308 - val_loss: 2.2150 - val_acc: 0.3920 - val_f1: 0.3891\n",
      "Epoch 19/100\n",
      "66833/66833 [==============================] - 2023s 30ms/step - loss: 1.8856 - acc: 0.4561 - f1: 0.4377 - val_loss: 2.2078 - val_acc: 0.3918 - val_f1: 0.3973\n",
      "Epoch 20/100\n",
      "66833/66833 [==============================] - 2022s 30ms/step - loss: 1.8609 - acc: 0.4627 - f1: 0.4447 - val_loss: 2.2224 - val_acc: 0.3972 - val_f1: 0.4005\n",
      "Epoch 21/100\n",
      "66833/66833 [==============================] - 1951s 29ms/step - loss: 1.8378 - acc: 0.4703 - f1: 0.4505 - val_loss: 2.2114 - val_acc: 0.3978 - val_f1: 0.4068\n",
      "Epoch 22/100\n",
      "66833/66833 [==============================] - 1897s 28ms/step - loss: 1.8179 - acc: 0.4767 - f1: 0.4575 - val_loss: 2.2293 - val_acc: 0.3962 - val_f1: 0.4037\n",
      "Epoch 23/100\n",
      "66833/66833 [==============================] - 1927s 29ms/step - loss: 1.8007 - acc: 0.4787 - f1: 0.4606 - val_loss: 2.2123 - val_acc: 0.3987 - val_f1: 0.4081\n",
      "Epoch 24/100\n",
      "66833/66833 [==============================] - 1930s 29ms/step - loss: 1.7843 - acc: 0.4827 - f1: 0.4656 - val_loss: 2.2186 - val_acc: 0.4022 - val_f1: 0.4160\n",
      "Epoch 00024: early stopping\n",
      "-----------------------------\n",
      "Processing fold # 1\n",
      "-----------------------------\n",
      "Train on 66833 samples, validate on 16708 samples\n",
      "Epoch 1/100\n",
      "66833/66833 [==============================] - 1867s 28ms/step - loss: 1.8671 - acc: 0.4742 - f1: 0.4540 - val_loss: 1.5173 - val_acc: 0.5584 - val_f1: 0.5218\n",
      "Epoch 2/100\n",
      "66833/66833 [==============================] - 1874s 28ms/step - loss: 1.8209 - acc: 0.4822 - f1: 0.4647 - val_loss: 1.5204 - val_acc: 0.5637 - val_f1: 0.5153\n",
      "Epoch 3/100\n",
      "66833/66833 [==============================] - 1875s 28ms/step - loss: 1.7847 - acc: 0.4904 - f1: 0.4740 - val_loss: 1.5190 - val_acc: 0.5599 - val_f1: 0.5209\n",
      "Epoch 4/100\n",
      "66833/66833 [==============================] - 1877s 28ms/step - loss: 1.7565 - acc: 0.4959 - f1: 0.4793 - val_loss: 1.5333 - val_acc: 0.5556 - val_f1: 0.5177\n",
      "Epoch 5/100\n",
      "66833/66833 [==============================] - 1878s 28ms/step - loss: 1.7304 - acc: 0.5024 - f1: 0.4874 - val_loss: 1.5642 - val_acc: 0.5476 - val_f1: 0.5147\n",
      "Epoch 6/100\n",
      "66833/66833 [==============================] - 1880s 28ms/step - loss: 1.7161 - acc: 0.5070 - f1: 0.4914 - val_loss: 1.5719 - val_acc: 0.5450 - val_f1: 0.5172\n",
      "Epoch 00006: early stopping\n",
      "-----------------------------\n",
      "Processing fold # 2\n",
      "-----------------------------\n",
      "Train on 66833 samples, validate on 16708 samples\n",
      "Epoch 1/100\n",
      "66833/66833 [==============================] - 1927s 29ms/step - loss: 1.7176 - acc: 0.5070 - f1: 0.4917 - val_loss: 1.3049 - val_acc: 0.6238 - val_f1: 0.5835\n",
      "Epoch 2/100\n",
      "66833/66833 [==============================] - 1932s 29ms/step - loss: 1.6925 - acc: 0.5127 - f1: 0.4974 - val_loss: 1.3114 - val_acc: 0.6217 - val_f1: 0.5816\n",
      "Epoch 3/100\n",
      "66833/66833 [==============================] - 1929s 29ms/step - loss: 1.6701 - acc: 0.5174 - f1: 0.5049 - val_loss: 1.3060 - val_acc: 0.6190 - val_f1: 0.5858\n",
      "Epoch 4/100\n",
      "66833/66833 [==============================] - 1933s 29ms/step - loss: 1.6521 - acc: 0.5222 - f1: 0.5104 - val_loss: 1.3168 - val_acc: 0.6167 - val_f1: 0.5773\n",
      "Epoch 5/100\n",
      "66833/66833 [==============================] - 1932s 29ms/step - loss: 1.6420 - acc: 0.5244 - f1: 0.5110 - val_loss: 1.3248 - val_acc: 0.6135 - val_f1: 0.5789\n",
      "Epoch 6/100\n",
      "66833/66833 [==============================] - 1932s 29ms/step - loss: 1.6293 - acc: 0.5275 - f1: 0.5151 - val_loss: 1.3260 - val_acc: 0.6111 - val_f1: 0.5823\n",
      "Epoch 00006: early stopping\n",
      "-----------------------------\n",
      "Processing fold # 3\n",
      "-----------------------------\n",
      "Train on 66833 samples, validate on 16708 samples\n",
      "Epoch 1/100\n",
      "66833/66833 [==============================] - 1889s 28ms/step - loss: 1.6369 - acc: 0.5253 - f1: 0.5149 - val_loss: 1.1718 - val_acc: 0.6669 - val_f1: 0.6257\n",
      "Epoch 2/100\n",
      "66833/66833 [==============================] - 1892s 28ms/step - loss: 1.6232 - acc: 0.5285 - f1: 0.5174 - val_loss: 1.1730 - val_acc: 0.6627 - val_f1: 0.6276\n",
      "Epoch 3/100\n",
      "66833/66833 [==============================] - 1895s 28ms/step - loss: 1.6114 - acc: 0.5321 - f1: 0.5199 - val_loss: 1.1812 - val_acc: 0.6578 - val_f1: 0.6251\n",
      "Epoch 4/100\n",
      "66833/66833 [==============================] - 1897s 28ms/step - loss: 1.6009 - acc: 0.5331 - f1: 0.5230 - val_loss: 1.1840 - val_acc: 0.6608 - val_f1: 0.6231\n",
      "Epoch 5/100\n",
      "66833/66833 [==============================] - 1898s 28ms/step - loss: 1.5961 - acc: 0.5344 - f1: 0.5246 - val_loss: 1.1957 - val_acc: 0.6527 - val_f1: 0.6189\n",
      "Epoch 6/100\n",
      "66833/66833 [==============================] - 1907s 29ms/step - loss: 1.5877 - acc: 0.5358 - f1: 0.5272 - val_loss: 1.2035 - val_acc: 0.6509 - val_f1: 0.6172\n",
      "Epoch 00006: early stopping\n",
      "-----------------------------\n",
      "Processing fold # 4\n",
      "-----------------------------\n",
      "Train on 66833 samples, validate on 16708 samples\n",
      "Epoch 1/100\n",
      "66833/66833 [==============================] - 1940s 29ms/step - loss: 1.5938 - acc: 0.5343 - f1: 0.5242 - val_loss: 1.1350 - val_acc: 0.6763 - val_f1: 0.6315\n",
      "Epoch 2/100\n",
      "66833/66833 [==============================] - 1952s 29ms/step - loss: 1.5789 - acc: 0.5390 - f1: 0.5301 - val_loss: 1.1459 - val_acc: 0.6704 - val_f1: 0.6304\n",
      "Epoch 3/100\n",
      "66833/66833 [==============================] - 1943s 29ms/step - loss: 1.5779 - acc: 0.5399 - f1: 0.5319 - val_loss: 1.1519 - val_acc: 0.6699 - val_f1: 0.6300\n",
      "Epoch 4/100\n",
      "66833/66833 [==============================] - 1923s 29ms/step - loss: 1.5701 - acc: 0.5417 - f1: 0.5307 - val_loss: 1.1579 - val_acc: 0.6657 - val_f1: 0.6290\n",
      "Epoch 5/100\n",
      "66833/66833 [==============================] - 1935s 29ms/step - loss: 1.5604 - acc: 0.5428 - f1: 0.5331 - val_loss: 1.1536 - val_acc: 0.6712 - val_f1: 0.6289\n",
      "Epoch 6/100\n",
      "66833/66833 [==============================] - 1916s 29ms/step - loss: 1.5532 - acc: 0.5438 - f1: 0.5377 - val_loss: 1.1602 - val_acc: 0.6641 - val_f1: 0.6295\n",
      "Epoch 00006: early stopping\n"
     ]
    }
   ],
   "source": [
    "k = 5\n",
    "scores = []\n",
    "num_validation_sample = len(x_train)//k\n",
    "for i in range(k):\n",
    "    print(\"-----------------------------\")\n",
    "    print('Processing fold #', i)\n",
    "    print(\"-----------------------------\")\n",
    "    val_data = x_train[i * num_validation_sample: (i + 1) * num_validation_sample]\n",
    "    val_lab  = y_train[i * num_validation_sample: (i + 1) * num_validation_sample]\n",
    "    \n",
    "    parttial_train_X_data = np.concatenate(\n",
    "                [x_train[:i * num_validation_sample],\n",
    "                x_train[(i + 1) * num_validation_sample:]], axis=0)\n",
    "    \n",
    "    parttial_train_X_label = np.concatenate(\n",
    "                [y_train[:i * num_validation_sample],\n",
    "                y_train[(i + 1) * num_validation_sample:]], axis=0)\n",
    "    \n",
    "    history_tweet_atten = model_tweets_adamw.fit(parttial_train_X_data, parttial_train_X_label, \n",
    "                               validation_data=(val_data,val_lab),\n",
    "                               batch_size=batch_size,epochs=num_epochs,\n",
    "                               verbose=1,\n",
    "                               callbacks=[reduce_lr_adam,earlystop,\n",
    "                                          csv_logger])"
   ]
  },
  {
   "cell_type": "code",
   "execution_count": 51,
   "metadata": {},
   "outputs": [
    {
     "name": "stdout",
     "output_type": "stream",
     "text": [
      "0.5402495773086381\n",
      "------------\n",
      "0.669579442981406\n",
      "------------\n"
     ]
    }
   ],
   "source": [
    "#Print average acc\n",
    "average_acc = np.mean(history_tweet_atten.history['acc'])\n",
    "print(average_acc)\n",
    "print(\"------------\")\n",
    "#Print average val_acc\n",
    "average_val_acc = np.mean(history_tweet_atten.history['val_acc'])\n",
    "print(average_val_acc)\n",
    "print(\"------------\")"
   ]
  },
  {
   "cell_type": "code",
   "execution_count": 52,
   "metadata": {},
   "outputs": [
    {
     "name": "stdout",
     "output_type": "stream",
     "text": [
      "1.572385930413139\n",
      "------------\n",
      "1.1507437740738056\n",
      "------------\n"
     ]
    }
   ],
   "source": [
    "#Print average loss\n",
    "average_loss = np.mean(history_tweet_atten.history['loss'])\n",
    "print(average_loss)\n",
    "print(\"------------\")\n",
    "#Print average val_loss\n",
    "average_val_loss = np.mean(history_tweet_atten.history['val_loss'])\n",
    "print(average_val_loss)\n",
    "print(\"------------\")"
   ]
  },
  {
   "cell_type": "code",
   "execution_count": 53,
   "metadata": {},
   "outputs": [
    {
     "name": "stdout",
     "output_type": "stream",
     "text": [
      "0.5312660923730212\n",
      "------------\n",
      "0.6298755050019439\n",
      "------------\n"
     ]
    }
   ],
   "source": [
    "#Print average f1-score\n",
    "average_f1 = np.mean(history_tweet_atten.history['f1'])\n",
    "print(average_f1)\n",
    "print(\"------------\")\n",
    "#Print average val_f1-score\n",
    "average_val_f1 = np.mean(history_tweet_atten.history['val_f1'])\n",
    "print(average_val_f1)\n",
    "print(\"------------\")"
   ]
  },
  {
   "cell_type": "code",
   "execution_count": 54,
   "metadata": {},
   "outputs": [
    {
     "name": "stdout",
     "output_type": "stream",
     "text": [
      "16708/16708 [==============================] - 108s 6ms/step\n",
      "Test loss: 1.1601726650578112\n",
      "Test accuracy: 0.6640531481924826\n"
     ]
    }
   ],
   "source": [
    "# Evaluate the Model on the 20% Validation Dataset\n",
    "score = model_tweets_adamw.evaluate(val_data, val_lab, verbose=1)\n",
    "print('Test loss:', score[0])\n",
    "print('Test accuracy:', score[1])"
   ]
  },
  {
   "cell_type": "code",
   "execution_count": 55,
   "metadata": {},
   "outputs": [
    {
     "name": "stdout",
     "output_type": "stream",
     "text": [
      "              precision    recall  f1-score   support\n",
      "\n",
      "           0       0.22      0.09      0.12       353\n",
      "           1       0.50      0.30      0.38       623\n",
      "           2       0.36      0.38      0.37       631\n",
      "           3       0.44      0.42      0.43       290\n",
      "           4       0.81      0.71      0.76       636\n",
      "           5       0.25      0.11      0.15       566\n",
      "           6       0.16      0.20      0.18       594\n",
      "           7       0.14      0.12      0.13        95\n",
      "           8       0.49      0.27      0.35       155\n",
      "           9       0.68      0.70      0.69       609\n",
      "          10       0.49      0.37      0.43       195\n",
      "          11       0.32      0.28      0.30       622\n",
      "          12       0.34      0.48      0.40       602\n",
      "          13       0.17      0.11      0.13       659\n",
      "          14       0.62      0.64      0.63       611\n",
      "          15       0.98      0.95      0.96       300\n",
      "          16       0.43      0.39      0.41       640\n",
      "          17       0.24      0.39      0.30       633\n",
      "          18       0.42      0.42      0.42       622\n",
      "          19       0.81      0.79      0.80       466\n",
      "          20       0.81      0.74      0.77       661\n",
      "          21       0.18      0.35      0.24       582\n",
      "          22       1.00      1.00      1.00       643\n",
      "          23       0.38      0.53      0.44       539\n",
      "          24       0.16      0.13      0.14       627\n",
      "          25       0.38      0.16      0.23        73\n",
      "          26       0.17      0.11      0.13       195\n",
      "          27       0.00      0.00      0.00        11\n",
      "          28       0.38      0.44      0.41       644\n",
      "          30       0.44      0.50      0.47       574\n",
      "          31       0.36      0.25      0.30       103\n",
      "          32       0.27      0.35      0.30       605\n",
      "          33       0.34      0.35      0.35       632\n",
      "          34       0.11      0.18      0.14       635\n",
      "          35       0.65      0.52      0.57       573\n",
      "          36       0.17      0.06      0.08       639\n",
      "          37       0.42      0.36      0.39       623\n",
      "          38       0.40      0.45      0.42       672\n",
      "          39       0.72      0.52      0.60       635\n",
      "          40       0.39      0.43      0.41       591\n",
      "          41       0.18      0.13      0.15       143\n",
      "          42       0.47      0.57      0.51       583\n",
      "\n",
      "    accuracy                           0.42     20885\n",
      "   macro avg       0.41      0.39      0.39     20885\n",
      "weighted avg       0.43      0.42      0.42     20885\n",
      "\n"
     ]
    }
   ],
   "source": [
    "prediction_value = model_tweets_adamw.predict(x_val)\n",
    "predict_class = np.argmax(prediction_value, axis=-1)\n",
    "y_test_integer = np.argmax(y_val, axis=1)\n",
    "\n",
    "# Detailed analysis\n",
    "from sklearn.metrics import classification_report, confusion_matrix\n",
    "print(classification_report(y_test_integer, predict_class))"
   ]
  },
  {
   "cell_type": "markdown",
   "metadata": {},
   "source": [
    "# Plot"
   ]
  },
  {
   "cell_type": "code",
   "execution_count": 56,
   "metadata": {},
   "outputs": [
    {
     "data": {
      "text/html": [
       "<div>\n",
       "<style scoped>\n",
       "    .dataframe tbody tr th:only-of-type {\n",
       "        vertical-align: middle;\n",
       "    }\n",
       "\n",
       "    .dataframe tbody tr th {\n",
       "        vertical-align: top;\n",
       "    }\n",
       "\n",
       "    .dataframe thead th {\n",
       "        text-align: right;\n",
       "    }\n",
       "</style>\n",
       "<table border=\"1\" class=\"dataframe\">\n",
       "  <thead>\n",
       "    <tr style=\"text-align: right;\">\n",
       "      <th></th>\n",
       "      <th>epoch</th>\n",
       "      <th>acc</th>\n",
       "      <th>f1</th>\n",
       "      <th>loss</th>\n",
       "      <th>lr</th>\n",
       "      <th>val_acc</th>\n",
       "      <th>val_f1</th>\n",
       "      <th>val_loss</th>\n",
       "    </tr>\n",
       "  </thead>\n",
       "  <tbody>\n",
       "    <tr>\n",
       "      <th>0</th>\n",
       "      <td>0</td>\n",
       "      <td>0.084255</td>\n",
       "      <td>0.056671</td>\n",
       "      <td>3.435691</td>\n",
       "      <td>0.001</td>\n",
       "      <td>0.116591</td>\n",
       "      <td>0.088175</td>\n",
       "      <td>3.292625</td>\n",
       "    </tr>\n",
       "    <tr>\n",
       "      <th>1</th>\n",
       "      <td>0</td>\n",
       "      <td>0.078689</td>\n",
       "      <td>0.038309</td>\n",
       "      <td>3.571094</td>\n",
       "      <td>0.001</td>\n",
       "      <td>0.097797</td>\n",
       "      <td>0.056046</td>\n",
       "      <td>3.427731</td>\n",
       "    </tr>\n",
       "  </tbody>\n",
       "</table>\n",
       "</div>"
      ],
      "text/plain": [
       "   epoch       acc        f1      loss     lr   val_acc    val_f1  val_loss\n",
       "0      0  0.084255  0.056671  3.435691  0.001  0.116591  0.088175  3.292625\n",
       "1      0  0.078689  0.038309  3.571094  0.001  0.097797  0.056046  3.427731"
      ]
     },
     "execution_count": 56,
     "metadata": {},
     "output_type": "execute_result"
    }
   ],
   "source": [
    "modelsource = '../../save_models/tweets/'\n",
    "df_tweets = pd.read_csv(modelsource +'/tweetsAdamW2.csv', sep=';' )\n",
    "df_tweets.head(2)"
   ]
  },
  {
   "cell_type": "code",
   "execution_count": 57,
   "metadata": {},
   "outputs": [],
   "source": [
    "import matplotlib.pyplot as plt\n",
    "import seaborn as sns\n",
    "%matplotlib inline"
   ]
  },
  {
   "cell_type": "code",
   "execution_count": 58,
   "metadata": {},
   "outputs": [
    {
     "data": {
      "text/plain": [
       "Text(0.5, 1, 'AT-BLSTM model accuracy for tweets at 50 authors')"
      ]
     },
     "execution_count": 58,
     "metadata": {},
     "output_type": "execute_result"
    },
    {
     "data": {
      "image/png": "[encoded data removed]",
      "text/plain": [
       "<Figure size 432x288 with 1 Axes>"
      ]
     },
     "metadata": {
      "needs_background": "light"
     },
     "output_type": "display_data"
    }
   ],
   "source": [
    "plt.plot(df_tweets.index, df_tweets['acc'], 'go-', color='red', label= 'acc',linewidth=3)\n",
    "plt.plot(df_tweets.index, df_tweets['val_acc'], '--^', color='blue',label= 'val_acc',linewidth=3)\n",
    "plt.legend(loc='lower right')\n",
    "plt.xlabel('Epoch')\n",
    "plt.ylabel('Accuarcy')\n",
    "plt.savefig(modelsource + 'Tweet2_acc.png')\n",
    "plt.title('AT-BLSTM model accuracy for tweets at 50 authors')"
   ]
  },
  {
   "cell_type": "code",
   "execution_count": 59,
   "metadata": {},
   "outputs": [
    {
     "data": {
      "text/plain": [
       "Text(0.5, 1, 'AT-BLSTM model loss for tweets at 50 authors')"
      ]
     },
     "execution_count": 59,
     "metadata": {},
     "output_type": "execute_result"
    },
    {
     "data": {
      "image/png": "[encoded data removed]",
      "text/plain": [
       "<Figure size 432x288 with 1 Axes>"
      ]
     },
     "metadata": {
      "needs_background": "light"
     },
     "output_type": "display_data"
    }
   ],
   "source": [
    "plt.plot(df_tweets.index, df_tweets['loss'], 'go-', color='red', label= 'loss',linewidth=3)\n",
    "plt.plot(df_tweets.index, df_tweets['val_loss'], '--^', color='blue',label= 'val_loss',linewidth=3)\n",
    "plt.legend(loc='upper right')\n",
    "plt.xlabel('Epoch')\n",
    "plt.ylabel('loss')\n",
    "plt.savefig(modelsource + 'tweets2_loss.png')\n",
    "plt.title('AT-BLSTM model loss for tweets at 50 authors')"
   ]
  },
  {
   "cell_type": "code",
   "execution_count": 60,
   "metadata": {},
   "outputs": [
    {
     "data": {
      "text/plain": [
       "Text(0.5, 1, 'AT-BLSTM model F-score for tweets at 50 authors')"
      ]
     },
     "execution_count": 60,
     "metadata": {},
     "output_type": "execute_result"
    },
    {
     "data": {
      "image/png": "[encoded data removed]",
      "text/plain": [
       "<Figure size 432x288 with 1 Axes>"
      ]
     },
     "metadata": {
      "needs_background": "light"
     },
     "output_type": "display_data"
    }
   ],
   "source": [
    "plt.plot(df_tweets.index, df_tweets['f1'], 'go-', color='red', label= 'f1',linewidth=3)\n",
    "plt.plot(df_tweets.index, df_tweets['val_f1'], '--*', color='blue',label= 'val_f1',linewidth=3)\n",
    "plt.legend(loc='lower right')\n",
    "plt.xlabel('Epoch')\n",
    "plt.ylabel('F1-score')\n",
    "plt.savefig(modelsource + 'tweets2_F1-score.png')\n",
    "plt.title('AT-BLSTM model F-score for tweets at 50 authors')"
   ]
  },
  {
   "cell_type": "code",
   "execution_count": null,
   "metadata": {},
   "outputs": [],
   "source": []
  },
  {
   "cell_type": "code",
   "execution_count": null,
   "metadata": {},
   "outputs": [],
   "source": []
  },
  {
   "cell_type": "code",
   "execution_count": null,
   "metadata": {},
   "outputs": [],
   "source": []
  },
  {
   "cell_type": "code",
   "execution_count": null,
   "metadata": {},
   "outputs": [],
   "source": []
  },
  {
   "cell_type": "code",
   "execution_count": null,
   "metadata": {},
   "outputs": [],
   "source": []
  },
  {
   "cell_type": "code",
   "execution_count": 37,
   "metadata": {
    "colab": {
     "base_uri": "https://localhost:8080/",
     "height": 1000
    },
    "colab_type": "code",
    "id": "tq41WmlH3Avk",
    "outputId": "c32c5813-055c-485b-b50b-bb51a7990d11"
   },
   "outputs": [
    {
     "name": "stdout",
     "output_type": "stream",
     "text": [
      "-----------------------------\n",
      "Processing fold # 0\n",
      "-----------------------------\n",
      "WARNING:tensorflow:From /home/ds-nlp/anaconda3/lib/python3.7/site-packages/tensorflow/python/ops/math_grad.py:1250: add_dispatch_support.<locals>.wrapper (from tensorflow.python.ops.array_ops) is deprecated and will be removed in a future version.\n",
      "Instructions for updating:\n",
      "Use tf.where in 2.0, which has the same broadcast rule as np.where\n",
      "Train on 66833 samples, validate on 16708 samples\n",
      "Epoch 1/100\n",
      "66833/66833 [==============================] - 1840s 28ms/step - loss: 3.4340 - acc: 0.0838 - f1: 0.0587 - val_loss: 3.2453 - val_acc: 0.1281 - val_f1: 0.0836\n",
      "Epoch 2/100\n",
      "66833/66833 [==============================] - 1837s 27ms/step - loss: 3.1065 - acc: 0.1585 - f1: 0.1302 - val_loss: 2.9647 - val_acc: 0.1849 - val_f1: 0.1583\n",
      "Epoch 3/100\n",
      "66833/66833 [==============================] - 1840s 28ms/step - loss: 2.8363 - acc: 0.2186 - f1: 0.1988 - val_loss: 2.7577 - val_acc: 0.2441 - val_f1: 0.2348\n",
      "Epoch 4/100\n",
      "66833/66833 [==============================] - 1839s 28ms/step - loss: 2.6510 - acc: 0.2687 - f1: 0.2508 - val_loss: 2.6597 - val_acc: 0.2739 - val_f1: 0.2728\n",
      "Epoch 5/100\n",
      "66833/66833 [==============================] - 1838s 28ms/step - loss: 2.5287 - acc: 0.2983 - f1: 0.2846 - val_loss: 2.5282 - val_acc: 0.3051 - val_f1: 0.2930\n",
      "Epoch 6/100\n",
      "66833/66833 [==============================] - 1840s 28ms/step - loss: 2.4455 - acc: 0.3181 - f1: 0.3008 - val_loss: 2.4550 - val_acc: 0.3154 - val_f1: 0.3086\n",
      "Epoch 7/100\n",
      "66833/66833 [==============================] - 1840s 28ms/step - loss: 2.3643 - acc: 0.3380 - f1: 0.3174 - val_loss: 2.3787 - val_acc: 0.3399 - val_f1: 0.3293\n",
      "Epoch 8/100\n",
      "66833/66833 [==============================] - 1841s 28ms/step - loss: 2.2926 - acc: 0.3566 - f1: 0.3338 - val_loss: 2.3807 - val_acc: 0.3402 - val_f1: 0.3361\n",
      "Epoch 9/100\n",
      "66833/66833 [==============================] - 1842s 28ms/step - loss: 2.2377 - acc: 0.3684 - f1: 0.3472 - val_loss: 2.3202 - val_acc: 0.3571 - val_f1: 0.3432\n",
      "Epoch 10/100\n",
      "66833/66833 [==============================] - 1842s 28ms/step - loss: 2.1776 - acc: 0.3822 - f1: 0.3617 - val_loss: 2.3040 - val_acc: 0.3659 - val_f1: 0.3643\n",
      "Epoch 11/100\n",
      "66833/66833 [==============================] - 1843s 28ms/step - loss: 2.1261 - acc: 0.3943 - f1: 0.3736 - val_loss: 2.2791 - val_acc: 0.3738 - val_f1: 0.3715\n",
      "Epoch 12/100\n",
      "66833/66833 [==============================] - 1843s 28ms/step - loss: 2.0754 - acc: 0.4068 - f1: 0.3864 - val_loss: 2.2769 - val_acc: 0.3729 - val_f1: 0.3723\n",
      "Epoch 13/100\n",
      "66833/66833 [==============================] - 1843s 28ms/step - loss: 2.0323 - acc: 0.4203 - f1: 0.3985 - val_loss: 2.2629 - val_acc: 0.3800 - val_f1: 0.3821\n",
      "Epoch 14/100\n",
      "66833/66833 [==============================] - 1844s 28ms/step - loss: 1.9982 - acc: 0.4275 - f1: 0.4056 - val_loss: 2.2245 - val_acc: 0.3899 - val_f1: 0.3815\n",
      "Epoch 15/100\n",
      "66833/66833 [==============================] - 1845s 28ms/step - loss: 1.9640 - acc: 0.4378 - f1: 0.4171 - val_loss: 2.2714 - val_acc: 0.3850 - val_f1: 0.3918\n",
      "Epoch 16/100\n",
      "66833/66833 [==============================] - 1843s 28ms/step - loss: 1.9274 - acc: 0.4457 - f1: 0.4264 - val_loss: 2.2474 - val_acc: 0.3896 - val_f1: 0.3951\n",
      "Epoch 17/100\n",
      "66833/66833 [==============================] - 1840s 28ms/step - loss: 1.8969 - acc: 0.4544 - f1: 0.4347 - val_loss: 2.2440 - val_acc: 0.3893 - val_f1: 0.4054\n",
      "Epoch 18/100\n",
      "66833/66833 [==============================] - 1842s 28ms/step - loss: 1.8678 - acc: 0.4596 - f1: 0.4400 - val_loss: 2.2185 - val_acc: 0.3987 - val_f1: 0.4059\n",
      "Epoch 19/100\n",
      "66833/66833 [==============================] - 1842s 28ms/step - loss: 1.8374 - acc: 0.4673 - f1: 0.4482 - val_loss: 2.2438 - val_acc: 0.3982 - val_f1: 0.4064\n",
      "Epoch 20/100\n",
      "66833/66833 [==============================] - 1846s 28ms/step - loss: 1.8137 - acc: 0.4730 - f1: 0.4556 - val_loss: 2.2906 - val_acc: 0.3913 - val_f1: 0.4107\n",
      "Epoch 21/100\n",
      "66833/66833 [==============================] - 1844s 28ms/step - loss: 1.7837 - acc: 0.4817 - f1: 0.4644 - val_loss: 2.2677 - val_acc: 0.3963 - val_f1: 0.4116\n",
      "Epoch 22/100\n",
      "66833/66833 [==============================] - 1844s 28ms/step - loss: 1.7673 - acc: 0.4854 - f1: 0.4703 - val_loss: 2.2572 - val_acc: 0.3967 - val_f1: 0.4121\n",
      "Epoch 23/100\n",
      "66833/66833 [==============================] - 1844s 28ms/step - loss: 1.7463 - acc: 0.4910 - f1: 0.4728 - val_loss: 2.2692 - val_acc: 0.3984 - val_f1: 0.4152\n",
      "Epoch 00023: early stopping\n",
      "-----------------------------\n",
      "Processing fold # 1\n",
      "-----------------------------\n",
      "Train on 66833 samples, validate on 16708 samples\n",
      "Epoch 1/100\n",
      "66833/66833 [==============================] - 1852s 28ms/step - loss: 1.8421 - acc: 0.4788 - f1: 0.4604 - val_loss: 1.4449 - val_acc: 0.5819 - val_f1: 0.5377\n",
      "Epoch 2/100\n",
      "66833/66833 [==============================] - 1859s 28ms/step - loss: 1.7916 - acc: 0.4915 - f1: 0.4716 - val_loss: 1.4925 - val_acc: 0.5615 - val_f1: 0.5339\n",
      "Epoch 3/100\n",
      "66833/66833 [==============================] - 1858s 28ms/step - loss: 1.7675 - acc: 0.4941 - f1: 0.4779 - val_loss: 1.4693 - val_acc: 0.5719 - val_f1: 0.5319\n",
      "Epoch 4/100\n",
      "66833/66833 [==============================] - 1860s 28ms/step - loss: 1.7367 - acc: 0.5006 - f1: 0.4856 - val_loss: 1.5038 - val_acc: 0.5607 - val_f1: 0.5334\n",
      "Epoch 5/100\n",
      "66833/66833 [==============================] - 1861s 28ms/step - loss: 1.7135 - acc: 0.5077 - f1: 0.4907 - val_loss: 1.5032 - val_acc: 0.5588 - val_f1: 0.5353\n",
      "Epoch 6/100\n",
      "66833/66833 [==============================] - 1859s 28ms/step - loss: 1.6945 - acc: 0.5110 - f1: 0.4961 - val_loss: 1.5279 - val_acc: 0.5519 - val_f1: 0.5258\n",
      "Epoch 00006: early stopping\n",
      "-----------------------------\n",
      "Processing fold # 2\n",
      "-----------------------------\n",
      "Train on 66833 samples, validate on 16708 samples\n",
      "Epoch 1/100\n",
      "66833/66833 [==============================] - 1849s 28ms/step - loss: 1.6936 - acc: 0.5108 - f1: 0.4951 - val_loss: 1.2651 - val_acc: 0.6357 - val_f1: 0.5874\n",
      "Epoch 2/100\n",
      "66833/66833 [==============================] - 1853s 28ms/step - loss: 1.6725 - acc: 0.5161 - f1: 0.5028 - val_loss: 1.2883 - val_acc: 0.6284 - val_f1: 0.5817\n",
      "Epoch 3/100\n",
      "66833/66833 [==============================] - 1859s 28ms/step - loss: 1.6498 - acc: 0.5215 - f1: 0.5093 - val_loss: 1.3008 - val_acc: 0.6181 - val_f1: 0.5813\n",
      "Epoch 4/100\n",
      "66833/66833 [==============================] - 1851s 28ms/step - loss: 1.6359 - acc: 0.5253 - f1: 0.5127 - val_loss: 1.2939 - val_acc: 0.6195 - val_f1: 0.5855\n",
      "Epoch 5/100\n",
      "66833/66833 [==============================] - 1851s 28ms/step - loss: 1.6275 - acc: 0.5259 - f1: 0.5120 - val_loss: 1.3377 - val_acc: 0.6078 - val_f1: 0.5741\n",
      "Epoch 6/100\n",
      "66833/66833 [==============================] - 1859s 28ms/step - loss: 1.6061 - acc: 0.5315 - f1: 0.5199 - val_loss: 1.3111 - val_acc: 0.6129 - val_f1: 0.5802\n",
      "Epoch 00006: early stopping\n",
      "-----------------------------\n",
      "Processing fold # 3\n",
      "-----------------------------\n",
      "Train on 66833 samples, validate on 16708 samples\n",
      "Epoch 1/100\n",
      "66833/66833 [==============================] - 1858s 28ms/step - loss: 1.6137 - acc: 0.5294 - f1: 0.5168 - val_loss: 1.1352 - val_acc: 0.6691 - val_f1: 0.6297\n",
      "Epoch 2/100\n",
      "66833/66833 [==============================] - 1857s 28ms/step - loss: 1.6089 - acc: 0.5313 - f1: 0.5187 - val_loss: 1.1483 - val_acc: 0.6677 - val_f1: 0.6286\n",
      "Epoch 3/100\n",
      "66833/66833 [==============================] - 1896s 28ms/step - loss: 1.5969 - acc: 0.5346 - f1: 0.5219 - val_loss: 1.1586 - val_acc: 0.6626 - val_f1: 0.6239\n",
      "Epoch 4/100\n",
      "66833/66833 [==============================] - 1967s 29ms/step - loss: 1.5884 - acc: 0.5369 - f1: 0.5260 - val_loss: 1.1528 - val_acc: 0.6630 - val_f1: 0.6278\n",
      "Epoch 5/100\n",
      "66833/66833 [==============================] - 1948s 29ms/step - loss: 1.5741 - acc: 0.5396 - f1: 0.5281 - val_loss: 1.1775 - val_acc: 0.6527 - val_f1: 0.6216\n",
      "Epoch 6/100\n",
      "66833/66833 [==============================] - 1966s 29ms/step - loss: 1.5665 - acc: 0.5424 - f1: 0.5300 - val_loss: 1.1808 - val_acc: 0.6530 - val_f1: 0.6203\n",
      "Epoch 00006: early stopping\n",
      "-----------------------------\n",
      "Processing fold # 4\n",
      "-----------------------------\n",
      "Train on 66833 samples, validate on 16708 samples\n",
      "Epoch 1/100\n",
      "66833/66833 [==============================] - 1961s 29ms/step - loss: 1.5815 - acc: 0.5367 - f1: 0.5270 - val_loss: 1.0835 - val_acc: 0.6909 - val_f1: 0.6499\n",
      "Epoch 2/100\n",
      "66833/66833 [==============================] - 1903s 28ms/step - loss: 1.5680 - acc: 0.5419 - f1: 0.5296 - val_loss: 1.1144 - val_acc: 0.6793 - val_f1: 0.6381\n",
      "Epoch 3/100\n",
      "66833/66833 [==============================] - 1860s 28ms/step - loss: 1.5650 - acc: 0.5409 - f1: 0.5325 - val_loss: 1.0988 - val_acc: 0.6834 - val_f1: 0.6445\n",
      "Epoch 4/100\n",
      "66833/66833 [==============================] - 1860s 28ms/step - loss: 1.5595 - acc: 0.5426 - f1: 0.5317 - val_loss: 1.1276 - val_acc: 0.6729 - val_f1: 0.6362\n",
      "Epoch 5/100\n",
      "66833/66833 [==============================] - 1857s 28ms/step - loss: 1.5523 - acc: 0.5441 - f1: 0.5343 - val_loss: 1.1211 - val_acc: 0.6771 - val_f1: 0.6358\n",
      "Epoch 6/100\n",
      "66833/66833 [==============================] - 1859s 28ms/step - loss: 1.5502 - acc: 0.5454 - f1: 0.5344 - val_loss: 1.1287 - val_acc: 0.6714 - val_f1: 0.6352\n",
      "Epoch 00006: early stopping\n"
     ]
    }
   ],
   "source": [
    "k = 5\n",
    "scores = []\n",
    "num_validation_sample = len(x_train)//k\n",
    "for i in range(k):\n",
    "    print(\"-----------------------------\")\n",
    "    print('Processing fold #', i)\n",
    "    print(\"-----------------------------\")\n",
    "    val_data = x_train[i * num_validation_sample: (i + 1) * num_validation_sample]\n",
    "    val_lab  = y_train[i * num_validation_sample: (i + 1) * num_validation_sample]\n",
    "    \n",
    "    parttial_train_X_data = np.concatenate(\n",
    "                [x_train[:i * num_validation_sample],\n",
    "                x_train[(i + 1) * num_validation_sample:]], axis=0)\n",
    "    \n",
    "    parttial_train_X_label = np.concatenate(\n",
    "                [y_train[:i * num_validation_sample],\n",
    "                y_train[(i + 1) * num_validation_sample:]], axis=0)\n",
    "    \n",
    "#     with tf.device('/XLA_GPU:0'):\n",
    "    history_tweet_atten = model_tweets_adamw.fit(parttial_train_X_data, parttial_train_X_label, \n",
    "                               validation_data=(val_data,val_lab),\n",
    "                               batch_size=batch_size,epochs=num_epochs,\n",
    "                               verbose=1,\n",
    "                               callbacks=[reduce_lr_adam,earlystop,\n",
    "                                          csv_logger])"
   ]
  },
  {
   "cell_type": "code",
   "execution_count": 38,
   "metadata": {
    "colab": {
     "base_uri": "https://localhost:8080/",
     "height": 85
    },
    "colab_type": "code",
    "id": "jo2bQBcZ9YV2",
    "outputId": "a411e4be-7bd4-4c96-f011-14145a71c762"
   },
   "outputs": [
    {
     "name": "stdout",
     "output_type": "stream",
     "text": [
      "0.5419253961401321\n",
      "------------\n",
      "0.6791756444494491\n",
      "------------\n"
     ]
    }
   ],
   "source": [
    "#Print average acc\n",
    "average_acc = np.mean(history_tweet_atten.history['acc'])\n",
    "print(average_acc)\n",
    "print(\"------------\")\n",
    "#Print average val_acc\n",
    "average_val_acc = np.mean(history_tweet_atten.history['val_acc'])\n",
    "print(average_val_acc)\n",
    "print(\"------------\")"
   ]
  },
  {
   "cell_type": "code",
   "execution_count": 39,
   "metadata": {
    "colab": {
     "base_uri": "https://localhost:8080/",
     "height": 85
    },
    "colab_type": "code",
    "id": "KNfYwFVNlpDQ",
    "outputId": "72ef5edc-3b89-454c-9ce2-897dd760eb33"
   },
   "outputs": [
    {
     "name": "stdout",
     "output_type": "stream",
     "text": [
      "1.5627534666978409\n",
      "------------\n",
      "1.1123293566309953\n",
      "------------\n"
     ]
    }
   ],
   "source": [
    "#Print average loss\n",
    "average_loss = np.mean(history_tweet_atten.history['loss'])\n",
    "print(average_loss)\n",
    "print(\"------------\")\n",
    "#Print average val_loss\n",
    "average_val_loss = np.mean(history_tweet_atten.history['val_loss'])\n",
    "print(average_val_loss)\n",
    "print(\"------------\")"
   ]
  },
  {
   "cell_type": "code",
   "execution_count": 40,
   "metadata": {
    "colab": {
     "base_uri": "https://localhost:8080/",
     "height": 85
    },
    "colab_type": "code",
    "id": "xlLgDrzHlsuS",
    "outputId": "f346311f-b076-482a-8a37-2ba6996eeaab"
   },
   "outputs": [
    {
     "name": "stdout",
     "output_type": "stream",
     "text": [
      "0.531610505745382\n",
      "------------\n",
      "0.6399468142373079\n",
      "------------\n"
     ]
    }
   ],
   "source": [
    "#Print average f1-score\n",
    "average_f1 = np.mean(history_tweet_atten.history['f1'])\n",
    "print(average_f1)\n",
    "print(\"------------\")\n",
    "#Print average val_f1-score\n",
    "average_val_f1 = np.mean(history_tweet_atten.history['val_f1'])\n",
    "print(average_val_f1)\n",
    "print(\"------------\")"
   ]
  },
  {
   "cell_type": "code",
   "execution_count": 49,
   "metadata": {
    "colab": {
     "base_uri": "https://localhost:8080/",
     "height": 68
    },
    "colab_type": "code",
    "id": "bixPGBEllvEH",
    "outputId": "1c531eb1-3165-425b-e1d1-083b08ea6933"
   },
   "outputs": [
    {
     "name": "stdout",
     "output_type": "stream",
     "text": [
      "16708/16708 [==============================] - 103s 6ms/step\n",
      "Test loss: 1.1601726650578112\n",
      "Test accuracy: 0.6640531481924826\n"
     ]
    }
   ],
   "source": [
    "# Evaluate the Model on the 20% Validation Dataset\n",
    "score = model_tweets_adamw.evaluate(val_data, val_lab, verbose=1)\n",
    "print('Test loss:', score[0])\n",
    "print('Test accuracy:', score[1])"
   ]
  },
  {
   "cell_type": "code",
   "execution_count": 50,
   "metadata": {
    "colab": {
     "base_uri": "https://localhost:8080/",
     "height": 231
    },
    "colab_type": "code",
    "id": "es_m-1HrM_Ce",
    "outputId": "dac27a41-a76e-494c-e418-c37594bca61a"
   },
   "outputs": [
    {
     "name": "stdout",
     "output_type": "stream",
     "text": [
      "              precision    recall  f1-score   support\n",
      "\n",
      "           0       0.22      0.09      0.12       353\n",
      "           1       0.50      0.30      0.38       623\n",
      "           2       0.36      0.38      0.37       631\n",
      "           3       0.44      0.42      0.43       290\n",
      "           4       0.81      0.71      0.76       636\n",
      "           5       0.25      0.11      0.15       566\n",
      "           6       0.16      0.20      0.18       594\n",
      "           7       0.14      0.12      0.13        95\n",
      "           8       0.49      0.27      0.35       155\n",
      "           9       0.68      0.70      0.69       609\n",
      "          10       0.49      0.37      0.43       195\n",
      "          11       0.32      0.28      0.30       622\n",
      "          12       0.34      0.48      0.40       602\n",
      "          13       0.17      0.11      0.13       659\n",
      "          14       0.62      0.64      0.63       611\n",
      "          15       0.98      0.95      0.96       300\n",
      "          16       0.43      0.39      0.41       640\n",
      "          17       0.24      0.39      0.30       633\n",
      "          18       0.42      0.42      0.42       622\n",
      "          19       0.81      0.79      0.80       466\n",
      "          20       0.81      0.74      0.77       661\n",
      "          21       0.18      0.35      0.24       582\n",
      "          22       1.00      1.00      1.00       643\n",
      "          23       0.38      0.53      0.44       539\n",
      "          24       0.16      0.13      0.14       627\n",
      "          25       0.38      0.16      0.23        73\n",
      "          26       0.17      0.11      0.13       195\n",
      "          27       0.00      0.00      0.00        11\n",
      "          28       0.38      0.44      0.41       644\n",
      "          30       0.44      0.50      0.47       574\n",
      "          31       0.36      0.25      0.30       103\n",
      "          32       0.27      0.35      0.30       605\n",
      "          33       0.34      0.35      0.35       632\n",
      "          34       0.11      0.18      0.14       635\n",
      "          35       0.65      0.52      0.57       573\n",
      "          36       0.17      0.06      0.08       639\n",
      "          37       0.42      0.36      0.39       623\n",
      "          38       0.40      0.45      0.42       672\n",
      "          39       0.72      0.52      0.60       635\n",
      "          40       0.39      0.43      0.41       591\n",
      "          41       0.18      0.13      0.15       143\n",
      "          42       0.47      0.57      0.51       583\n",
      "\n",
      "    accuracy                           0.42     20885\n",
      "   macro avg       0.41      0.39      0.39     20885\n",
      "weighted avg       0.43      0.42      0.42     20885\n",
      "\n"
     ]
    },
    {
     "name": "stderr",
     "output_type": "stream",
     "text": [
      "/home/ds-nlp/anaconda3/lib/python3.7/site-packages/sklearn/metrics/classification.py:1437: UndefinedMetricWarning: Precision and F-score are ill-defined and being set to 0.0 in labels with no predicted samples.\n",
      "  'precision', 'predicted', average, warn_for)\n"
     ]
    }
   ],
   "source": [
    "prediction_value = model_tweets_adamw.predict(x_val)\n",
    "predict_class = np.argmax(prediction_value, axis=-1)\n",
    "y_test_integer = np.argmax(y_val, axis=1)\n",
    "\n",
    "# Detailed analysis\n",
    "from sklearn.metrics import classification_report, confusion_matrix\n",
    "print(classification_report(y_test_integer, predict_class))"
   ]
  },
  {
   "cell_type": "markdown",
   "metadata": {
    "colab": {},
    "colab_type": "code",
    "id": "nGUEP_TRVAwo"
   },
   "source": [
    "# Plot"
   ]
  },
  {
   "cell_type": "code",
   "execution_count": 44,
   "metadata": {},
   "outputs": [],
   "source": [
    "modelsource = '../../save_models/tweets/'\n",
    "df_tweets = pd.read_csv(modelsource +'/tweetsAdamW.csv', sep=';' )"
   ]
  },
  {
   "cell_type": "code",
   "execution_count": 45,
   "metadata": {},
   "outputs": [
    {
     "data": {
      "text/html": [
       "<div>\n",
       "<style scoped>\n",
       "    .dataframe tbody tr th:only-of-type {\n",
       "        vertical-align: middle;\n",
       "    }\n",
       "\n",
       "    .dataframe tbody tr th {\n",
       "        vertical-align: top;\n",
       "    }\n",
       "\n",
       "    .dataframe thead th {\n",
       "        text-align: right;\n",
       "    }\n",
       "</style>\n",
       "<table border=\"1\" class=\"dataframe\">\n",
       "  <thead>\n",
       "    <tr style=\"text-align: right;\">\n",
       "      <th></th>\n",
       "      <th>epoch</th>\n",
       "      <th>acc</th>\n",
       "      <th>f1</th>\n",
       "      <th>loss</th>\n",
       "      <th>lr</th>\n",
       "      <th>val_acc</th>\n",
       "      <th>val_f1</th>\n",
       "      <th>val_loss</th>\n",
       "    </tr>\n",
       "  </thead>\n",
       "  <tbody>\n",
       "    <tr>\n",
       "      <th>0</th>\n",
       "      <td>0</td>\n",
       "      <td>0.059147</td>\n",
       "      <td>0.023525</td>\n",
       "      <td>3.542736</td>\n",
       "      <td>0.00100</td>\n",
       "      <td>0.103124</td>\n",
       "      <td>0.051664</td>\n",
       "      <td>3.362017</td>\n",
       "    </tr>\n",
       "    <tr>\n",
       "      <th>1</th>\n",
       "      <td>1</td>\n",
       "      <td>0.100639</td>\n",
       "      <td>0.057164</td>\n",
       "      <td>3.361503</td>\n",
       "      <td>0.00100</td>\n",
       "      <td>0.104441</td>\n",
       "      <td>0.057950</td>\n",
       "      <td>3.352301</td>\n",
       "    </tr>\n",
       "    <tr>\n",
       "      <th>2</th>\n",
       "      <td>2</td>\n",
       "      <td>0.115063</td>\n",
       "      <td>0.063310</td>\n",
       "      <td>3.302519</td>\n",
       "      <td>0.00100</td>\n",
       "      <td>0.124910</td>\n",
       "      <td>0.070854</td>\n",
       "      <td>3.254966</td>\n",
       "    </tr>\n",
       "    <tr>\n",
       "      <th>3</th>\n",
       "      <td>3</td>\n",
       "      <td>0.125671</td>\n",
       "      <td>0.072763</td>\n",
       "      <td>3.245564</td>\n",
       "      <td>0.00100</td>\n",
       "      <td>0.128441</td>\n",
       "      <td>0.087883</td>\n",
       "      <td>3.214341</td>\n",
       "    </tr>\n",
       "    <tr>\n",
       "      <th>4</th>\n",
       "      <td>4</td>\n",
       "      <td>0.136834</td>\n",
       "      <td>0.092026</td>\n",
       "      <td>3.201947</td>\n",
       "      <td>0.00100</td>\n",
       "      <td>0.145559</td>\n",
       "      <td>0.106031</td>\n",
       "      <td>3.176942</td>\n",
       "    </tr>\n",
       "    <tr>\n",
       "      <th>5</th>\n",
       "      <td>5</td>\n",
       "      <td>0.146395</td>\n",
       "      <td>0.109232</td>\n",
       "      <td>3.174331</td>\n",
       "      <td>0.00100</td>\n",
       "      <td>0.152203</td>\n",
       "      <td>0.115916</td>\n",
       "      <td>3.156507</td>\n",
       "    </tr>\n",
       "    <tr>\n",
       "      <th>6</th>\n",
       "      <td>6</td>\n",
       "      <td>0.150539</td>\n",
       "      <td>0.116729</td>\n",
       "      <td>3.155013</td>\n",
       "      <td>0.00100</td>\n",
       "      <td>0.152921</td>\n",
       "      <td>0.119625</td>\n",
       "      <td>3.150083</td>\n",
       "    </tr>\n",
       "    <tr>\n",
       "      <th>7</th>\n",
       "      <td>7</td>\n",
       "      <td>0.154834</td>\n",
       "      <td>0.121805</td>\n",
       "      <td>3.143590</td>\n",
       "      <td>0.00100</td>\n",
       "      <td>0.156632</td>\n",
       "      <td>0.125239</td>\n",
       "      <td>3.138338</td>\n",
       "    </tr>\n",
       "    <tr>\n",
       "      <th>8</th>\n",
       "      <td>8</td>\n",
       "      <td>0.159128</td>\n",
       "      <td>0.124296</td>\n",
       "      <td>3.124369</td>\n",
       "      <td>0.00100</td>\n",
       "      <td>0.156572</td>\n",
       "      <td>0.123475</td>\n",
       "      <td>3.137339</td>\n",
       "    </tr>\n",
       "    <tr>\n",
       "      <th>9</th>\n",
       "      <td>9</td>\n",
       "      <td>0.161567</td>\n",
       "      <td>0.128098</td>\n",
       "      <td>3.110317</td>\n",
       "      <td>0.00100</td>\n",
       "      <td>0.156512</td>\n",
       "      <td>0.140181</td>\n",
       "      <td>3.141159</td>\n",
       "    </tr>\n",
       "    <tr>\n",
       "      <th>10</th>\n",
       "      <td>10</td>\n",
       "      <td>0.167926</td>\n",
       "      <td>0.136691</td>\n",
       "      <td>3.092513</td>\n",
       "      <td>0.00100</td>\n",
       "      <td>0.167345</td>\n",
       "      <td>0.139864</td>\n",
       "      <td>3.100120</td>\n",
       "    </tr>\n",
       "    <tr>\n",
       "      <th>11</th>\n",
       "      <td>11</td>\n",
       "      <td>0.171323</td>\n",
       "      <td>0.139071</td>\n",
       "      <td>3.078156</td>\n",
       "      <td>0.00100</td>\n",
       "      <td>0.169320</td>\n",
       "      <td>0.137852</td>\n",
       "      <td>3.100365</td>\n",
       "    </tr>\n",
       "    <tr>\n",
       "      <th>12</th>\n",
       "      <td>12</td>\n",
       "      <td>0.175303</td>\n",
       "      <td>0.143644</td>\n",
       "      <td>3.062468</td>\n",
       "      <td>0.00100</td>\n",
       "      <td>0.171774</td>\n",
       "      <td>0.148971</td>\n",
       "      <td>3.085418</td>\n",
       "    </tr>\n",
       "    <tr>\n",
       "      <th>13</th>\n",
       "      <td>13</td>\n",
       "      <td>0.178968</td>\n",
       "      <td>0.147795</td>\n",
       "      <td>3.048217</td>\n",
       "      <td>0.00100</td>\n",
       "      <td>0.175485</td>\n",
       "      <td>0.149283</td>\n",
       "      <td>3.077218</td>\n",
       "    </tr>\n",
       "    <tr>\n",
       "      <th>14</th>\n",
       "      <td>14</td>\n",
       "      <td>0.184325</td>\n",
       "      <td>0.150943</td>\n",
       "      <td>3.030066</td>\n",
       "      <td>0.00100</td>\n",
       "      <td>0.177580</td>\n",
       "      <td>0.156432</td>\n",
       "      <td>3.062534</td>\n",
       "    </tr>\n",
       "    <tr>\n",
       "      <th>15</th>\n",
       "      <td>15</td>\n",
       "      <td>0.188380</td>\n",
       "      <td>0.155426</td>\n",
       "      <td>3.012074</td>\n",
       "      <td>0.00100</td>\n",
       "      <td>0.181530</td>\n",
       "      <td>0.160568</td>\n",
       "      <td>3.054003</td>\n",
       "    </tr>\n",
       "    <tr>\n",
       "      <th>16</th>\n",
       "      <td>0</td>\n",
       "      <td>0.041791</td>\n",
       "      <td>0.018708</td>\n",
       "      <td>3.631976</td>\n",
       "      <td>0.00100</td>\n",
       "      <td>0.055662</td>\n",
       "      <td>0.056895</td>\n",
       "      <td>3.512007</td>\n",
       "    </tr>\n",
       "    <tr>\n",
       "      <th>17</th>\n",
       "      <td>1</td>\n",
       "      <td>0.029267</td>\n",
       "      <td>NaN</td>\n",
       "      <td>NaN</td>\n",
       "      <td>0.00100</td>\n",
       "      <td>0.016758</td>\n",
       "      <td>NaN</td>\n",
       "      <td>NaN</td>\n",
       "    </tr>\n",
       "    <tr>\n",
       "      <th>18</th>\n",
       "      <td>2</td>\n",
       "      <td>0.017192</td>\n",
       "      <td>NaN</td>\n",
       "      <td>NaN</td>\n",
       "      <td>0.00100</td>\n",
       "      <td>0.016758</td>\n",
       "      <td>NaN</td>\n",
       "      <td>NaN</td>\n",
       "    </tr>\n",
       "    <tr>\n",
       "      <th>19</th>\n",
       "      <td>0</td>\n",
       "      <td>0.083836</td>\n",
       "      <td>0.058671</td>\n",
       "      <td>3.433998</td>\n",
       "      <td>0.00100</td>\n",
       "      <td>0.128142</td>\n",
       "      <td>0.083563</td>\n",
       "      <td>3.245299</td>\n",
       "    </tr>\n",
       "    <tr>\n",
       "      <th>20</th>\n",
       "      <td>1</td>\n",
       "      <td>0.158529</td>\n",
       "      <td>0.130188</td>\n",
       "      <td>3.106506</td>\n",
       "      <td>0.00100</td>\n",
       "      <td>0.184881</td>\n",
       "      <td>0.158262</td>\n",
       "      <td>2.964736</td>\n",
       "    </tr>\n",
       "    <tr>\n",
       "      <th>21</th>\n",
       "      <td>2</td>\n",
       "      <td>0.218605</td>\n",
       "      <td>0.198833</td>\n",
       "      <td>2.836318</td>\n",
       "      <td>0.00100</td>\n",
       "      <td>0.244135</td>\n",
       "      <td>0.234773</td>\n",
       "      <td>2.757693</td>\n",
       "    </tr>\n",
       "    <tr>\n",
       "      <th>22</th>\n",
       "      <td>3</td>\n",
       "      <td>0.268655</td>\n",
       "      <td>0.250763</td>\n",
       "      <td>2.650984</td>\n",
       "      <td>0.00100</td>\n",
       "      <td>0.273881</td>\n",
       "      <td>0.272837</td>\n",
       "      <td>2.659748</td>\n",
       "    </tr>\n",
       "    <tr>\n",
       "      <th>23</th>\n",
       "      <td>4</td>\n",
       "      <td>0.298281</td>\n",
       "      <td>0.284623</td>\n",
       "      <td>2.528676</td>\n",
       "      <td>0.00100</td>\n",
       "      <td>0.305123</td>\n",
       "      <td>0.293018</td>\n",
       "      <td>2.528237</td>\n",
       "    </tr>\n",
       "    <tr>\n",
       "      <th>24</th>\n",
       "      <td>5</td>\n",
       "      <td>0.318136</td>\n",
       "      <td>0.300849</td>\n",
       "      <td>2.445480</td>\n",
       "      <td>0.00100</td>\n",
       "      <td>0.315418</td>\n",
       "      <td>0.308602</td>\n",
       "      <td>2.455037</td>\n",
       "    </tr>\n",
       "    <tr>\n",
       "      <th>25</th>\n",
       "      <td>6</td>\n",
       "      <td>0.337977</td>\n",
       "      <td>0.317443</td>\n",
       "      <td>2.364314</td>\n",
       "      <td>0.00100</td>\n",
       "      <td>0.339897</td>\n",
       "      <td>0.329283</td>\n",
       "      <td>2.378730</td>\n",
       "    </tr>\n",
       "    <tr>\n",
       "      <th>26</th>\n",
       "      <td>7</td>\n",
       "      <td>0.356605</td>\n",
       "      <td>0.333845</td>\n",
       "      <td>2.292626</td>\n",
       "      <td>0.00100</td>\n",
       "      <td>0.340196</td>\n",
       "      <td>0.336082</td>\n",
       "      <td>2.380656</td>\n",
       "    </tr>\n",
       "    <tr>\n",
       "      <th>27</th>\n",
       "      <td>8</td>\n",
       "      <td>0.368381</td>\n",
       "      <td>0.347194</td>\n",
       "      <td>2.237699</td>\n",
       "      <td>0.00100</td>\n",
       "      <td>0.357074</td>\n",
       "      <td>0.343187</td>\n",
       "      <td>2.320221</td>\n",
       "    </tr>\n",
       "    <tr>\n",
       "      <th>28</th>\n",
       "      <td>9</td>\n",
       "      <td>0.382176</td>\n",
       "      <td>0.361688</td>\n",
       "      <td>2.177552</td>\n",
       "      <td>0.00100</td>\n",
       "      <td>0.365873</td>\n",
       "      <td>0.364297</td>\n",
       "      <td>2.304013</td>\n",
       "    </tr>\n",
       "    <tr>\n",
       "      <th>29</th>\n",
       "      <td>10</td>\n",
       "      <td>0.394341</td>\n",
       "      <td>0.373639</td>\n",
       "      <td>2.126113</td>\n",
       "      <td>0.00100</td>\n",
       "      <td>0.373773</td>\n",
       "      <td>0.371489</td>\n",
       "      <td>2.279072</td>\n",
       "    </tr>\n",
       "    <tr>\n",
       "      <th>30</th>\n",
       "      <td>11</td>\n",
       "      <td>0.406790</td>\n",
       "      <td>0.386351</td>\n",
       "      <td>2.075413</td>\n",
       "      <td>0.00100</td>\n",
       "      <td>0.372935</td>\n",
       "      <td>0.372325</td>\n",
       "      <td>2.276892</td>\n",
       "    </tr>\n",
       "    <tr>\n",
       "      <th>31</th>\n",
       "      <td>12</td>\n",
       "      <td>0.420346</td>\n",
       "      <td>0.398529</td>\n",
       "      <td>2.032339</td>\n",
       "      <td>0.00100</td>\n",
       "      <td>0.379998</td>\n",
       "      <td>0.382123</td>\n",
       "      <td>2.262922</td>\n",
       "    </tr>\n",
       "    <tr>\n",
       "      <th>32</th>\n",
       "      <td>13</td>\n",
       "      <td>0.427483</td>\n",
       "      <td>0.405600</td>\n",
       "      <td>1.998199</td>\n",
       "      <td>0.00100</td>\n",
       "      <td>0.389933</td>\n",
       "      <td>0.381485</td>\n",
       "      <td>2.224535</td>\n",
       "    </tr>\n",
       "    <tr>\n",
       "      <th>33</th>\n",
       "      <td>14</td>\n",
       "      <td>0.437763</td>\n",
       "      <td>0.417140</td>\n",
       "      <td>1.964007</td>\n",
       "      <td>0.00100</td>\n",
       "      <td>0.385025</td>\n",
       "      <td>0.391822</td>\n",
       "      <td>2.271431</td>\n",
       "    </tr>\n",
       "    <tr>\n",
       "      <th>34</th>\n",
       "      <td>15</td>\n",
       "      <td>0.445678</td>\n",
       "      <td>0.426446</td>\n",
       "      <td>1.927446</td>\n",
       "      <td>0.00100</td>\n",
       "      <td>0.389634</td>\n",
       "      <td>0.395144</td>\n",
       "      <td>2.247361</td>\n",
       "    </tr>\n",
       "    <tr>\n",
       "      <th>35</th>\n",
       "      <td>16</td>\n",
       "      <td>0.454446</td>\n",
       "      <td>0.434746</td>\n",
       "      <td>1.896930</td>\n",
       "      <td>0.00100</td>\n",
       "      <td>0.389275</td>\n",
       "      <td>0.405415</td>\n",
       "      <td>2.244025</td>\n",
       "    </tr>\n",
       "    <tr>\n",
       "      <th>36</th>\n",
       "      <td>17</td>\n",
       "      <td>0.459638</td>\n",
       "      <td>0.440048</td>\n",
       "      <td>1.867778</td>\n",
       "      <td>0.00100</td>\n",
       "      <td>0.398671</td>\n",
       "      <td>0.405902</td>\n",
       "      <td>2.218514</td>\n",
       "    </tr>\n",
       "    <tr>\n",
       "      <th>37</th>\n",
       "      <td>18</td>\n",
       "      <td>0.467329</td>\n",
       "      <td>0.448246</td>\n",
       "      <td>1.837352</td>\n",
       "      <td>0.00100</td>\n",
       "      <td>0.398192</td>\n",
       "      <td>0.406422</td>\n",
       "      <td>2.243753</td>\n",
       "    </tr>\n",
       "    <tr>\n",
       "      <th>38</th>\n",
       "      <td>19</td>\n",
       "      <td>0.473030</td>\n",
       "      <td>0.455560</td>\n",
       "      <td>1.813671</td>\n",
       "      <td>0.00100</td>\n",
       "      <td>0.391310</td>\n",
       "      <td>0.410674</td>\n",
       "      <td>2.290609</td>\n",
       "    </tr>\n",
       "    <tr>\n",
       "      <th>39</th>\n",
       "      <td>20</td>\n",
       "      <td>0.481663</td>\n",
       "      <td>0.464427</td>\n",
       "      <td>1.783663</td>\n",
       "      <td>0.00100</td>\n",
       "      <td>0.396337</td>\n",
       "      <td>0.411552</td>\n",
       "      <td>2.267671</td>\n",
       "    </tr>\n",
       "    <tr>\n",
       "      <th>40</th>\n",
       "      <td>21</td>\n",
       "      <td>0.485419</td>\n",
       "      <td>0.470298</td>\n",
       "      <td>1.767305</td>\n",
       "      <td>0.00100</td>\n",
       "      <td>0.396696</td>\n",
       "      <td>0.412150</td>\n",
       "      <td>2.257156</td>\n",
       "    </tr>\n",
       "    <tr>\n",
       "      <th>41</th>\n",
       "      <td>22</td>\n",
       "      <td>0.490985</td>\n",
       "      <td>0.472768</td>\n",
       "      <td>1.746268</td>\n",
       "      <td>0.00100</td>\n",
       "      <td>0.398432</td>\n",
       "      <td>0.415206</td>\n",
       "      <td>2.269179</td>\n",
       "    </tr>\n",
       "    <tr>\n",
       "      <th>42</th>\n",
       "      <td>0</td>\n",
       "      <td>0.478790</td>\n",
       "      <td>0.460396</td>\n",
       "      <td>1.842113</td>\n",
       "      <td>0.00050</td>\n",
       "      <td>0.581877</td>\n",
       "      <td>0.537663</td>\n",
       "      <td>1.444882</td>\n",
       "    </tr>\n",
       "    <tr>\n",
       "      <th>43</th>\n",
       "      <td>1</td>\n",
       "      <td>0.491509</td>\n",
       "      <td>0.471551</td>\n",
       "      <td>1.791615</td>\n",
       "      <td>0.00050</td>\n",
       "      <td>0.561527</td>\n",
       "      <td>0.533934</td>\n",
       "      <td>1.492506</td>\n",
       "    </tr>\n",
       "    <tr>\n",
       "      <th>44</th>\n",
       "      <td>2</td>\n",
       "      <td>0.494052</td>\n",
       "      <td>0.477933</td>\n",
       "      <td>1.767513</td>\n",
       "      <td>0.00050</td>\n",
       "      <td>0.571942</td>\n",
       "      <td>0.531862</td>\n",
       "      <td>1.469281</td>\n",
       "    </tr>\n",
       "    <tr>\n",
       "      <th>45</th>\n",
       "      <td>3</td>\n",
       "      <td>0.500606</td>\n",
       "      <td>0.485576</td>\n",
       "      <td>1.736666</td>\n",
       "      <td>0.00050</td>\n",
       "      <td>0.560749</td>\n",
       "      <td>0.533424</td>\n",
       "      <td>1.503802</td>\n",
       "    </tr>\n",
       "    <tr>\n",
       "      <th>46</th>\n",
       "      <td>4</td>\n",
       "      <td>0.507698</td>\n",
       "      <td>0.490662</td>\n",
       "      <td>1.713533</td>\n",
       "      <td>0.00050</td>\n",
       "      <td>0.558834</td>\n",
       "      <td>0.535339</td>\n",
       "      <td>1.503230</td>\n",
       "    </tr>\n",
       "    <tr>\n",
       "      <th>47</th>\n",
       "      <td>5</td>\n",
       "      <td>0.510990</td>\n",
       "      <td>0.496146</td>\n",
       "      <td>1.694502</td>\n",
       "      <td>0.00050</td>\n",
       "      <td>0.551891</td>\n",
       "      <td>0.525827</td>\n",
       "      <td>1.527939</td>\n",
       "    </tr>\n",
       "    <tr>\n",
       "      <th>48</th>\n",
       "      <td>0</td>\n",
       "      <td>0.510751</td>\n",
       "      <td>0.495122</td>\n",
       "      <td>1.693637</td>\n",
       "      <td>0.00025</td>\n",
       "      <td>0.635743</td>\n",
       "      <td>0.587450</td>\n",
       "      <td>1.265095</td>\n",
       "    </tr>\n",
       "    <tr>\n",
       "      <th>49</th>\n",
       "      <td>1</td>\n",
       "      <td>0.516092</td>\n",
       "      <td>0.502824</td>\n",
       "      <td>1.672451</td>\n",
       "      <td>0.00025</td>\n",
       "      <td>0.628382</td>\n",
       "      <td>0.581662</td>\n",
       "      <td>1.288263</td>\n",
       "    </tr>\n",
       "  </tbody>\n",
       "</table>\n",
       "</div>"
      ],
      "text/plain": [
       "    epoch       acc        f1      loss       lr   val_acc    val_f1  val_loss\n",
       "0       0  0.059147  0.023525  3.542736  0.00100  0.103124  0.051664  3.362017\n",
       "1       1  0.100639  0.057164  3.361503  0.00100  0.104441  0.057950  3.352301\n",
       "2       2  0.115063  0.063310  3.302519  0.00100  0.124910  0.070854  3.254966\n",
       "3       3  0.125671  0.072763  3.245564  0.00100  0.128441  0.087883  3.214341\n",
       "4       4  0.136834  0.092026  3.201947  0.00100  0.145559  0.106031  3.176942\n",
       "5       5  0.146395  0.109232  3.174331  0.00100  0.152203  0.115916  3.156507\n",
       "6       6  0.150539  0.116729  3.155013  0.00100  0.152921  0.119625  3.150083\n",
       "7       7  0.154834  0.121805  3.143590  0.00100  0.156632  0.125239  3.138338\n",
       "8       8  0.159128  0.124296  3.124369  0.00100  0.156572  0.123475  3.137339\n",
       "9       9  0.161567  0.128098  3.110317  0.00100  0.156512  0.140181  3.141159\n",
       "10     10  0.167926  0.136691  3.092513  0.00100  0.167345  0.139864  3.100120\n",
       "11     11  0.171323  0.139071  3.078156  0.00100  0.169320  0.137852  3.100365\n",
       "12     12  0.175303  0.143644  3.062468  0.00100  0.171774  0.148971  3.085418\n",
       "13     13  0.178968  0.147795  3.048217  0.00100  0.175485  0.149283  3.077218\n",
       "14     14  0.184325  0.150943  3.030066  0.00100  0.177580  0.156432  3.062534\n",
       "15     15  0.188380  0.155426  3.012074  0.00100  0.181530  0.160568  3.054003\n",
       "16      0  0.041791  0.018708  3.631976  0.00100  0.055662  0.056895  3.512007\n",
       "17      1  0.029267       NaN       NaN  0.00100  0.016758       NaN       NaN\n",
       "18      2  0.017192       NaN       NaN  0.00100  0.016758       NaN       NaN\n",
       "19      0  0.083836  0.058671  3.433998  0.00100  0.128142  0.083563  3.245299\n",
       "20      1  0.158529  0.130188  3.106506  0.00100  0.184881  0.158262  2.964736\n",
       "21      2  0.218605  0.198833  2.836318  0.00100  0.244135  0.234773  2.757693\n",
       "22      3  0.268655  0.250763  2.650984  0.00100  0.273881  0.272837  2.659748\n",
       "23      4  0.298281  0.284623  2.528676  0.00100  0.305123  0.293018  2.528237\n",
       "24      5  0.318136  0.300849  2.445480  0.00100  0.315418  0.308602  2.455037\n",
       "25      6  0.337977  0.317443  2.364314  0.00100  0.339897  0.329283  2.378730\n",
       "26      7  0.356605  0.333845  2.292626  0.00100  0.340196  0.336082  2.380656\n",
       "27      8  0.368381  0.347194  2.237699  0.00100  0.357074  0.343187  2.320221\n",
       "28      9  0.382176  0.361688  2.177552  0.00100  0.365873  0.364297  2.304013\n",
       "29     10  0.394341  0.373639  2.126113  0.00100  0.373773  0.371489  2.279072\n",
       "30     11  0.406790  0.386351  2.075413  0.00100  0.372935  0.372325  2.276892\n",
       "31     12  0.420346  0.398529  2.032339  0.00100  0.379998  0.382123  2.262922\n",
       "32     13  0.427483  0.405600  1.998199  0.00100  0.389933  0.381485  2.224535\n",
       "33     14  0.437763  0.417140  1.964007  0.00100  0.385025  0.391822  2.271431\n",
       "34     15  0.445678  0.426446  1.927446  0.00100  0.389634  0.395144  2.247361\n",
       "35     16  0.454446  0.434746  1.896930  0.00100  0.389275  0.405415  2.244025\n",
       "36     17  0.459638  0.440048  1.867778  0.00100  0.398671  0.405902  2.218514\n",
       "37     18  0.467329  0.448246  1.837352  0.00100  0.398192  0.406422  2.243753\n",
       "38     19  0.473030  0.455560  1.813671  0.00100  0.391310  0.410674  2.290609\n",
       "39     20  0.481663  0.464427  1.783663  0.00100  0.396337  0.411552  2.267671\n",
       "40     21  0.485419  0.470298  1.767305  0.00100  0.396696  0.412150  2.257156\n",
       "41     22  0.490985  0.472768  1.746268  0.00100  0.398432  0.415206  2.269179\n",
       "42      0  0.478790  0.460396  1.842113  0.00050  0.581877  0.537663  1.444882\n",
       "43      1  0.491509  0.471551  1.791615  0.00050  0.561527  0.533934  1.492506\n",
       "44      2  0.494052  0.477933  1.767513  0.00050  0.571942  0.531862  1.469281\n",
       "45      3  0.500606  0.485576  1.736666  0.00050  0.560749  0.533424  1.503802\n",
       "46      4  0.507698  0.490662  1.713533  0.00050  0.558834  0.535339  1.503230\n",
       "47      5  0.510990  0.496146  1.694502  0.00050  0.551891  0.525827  1.527939\n",
       "48      0  0.510751  0.495122  1.693637  0.00025  0.635743  0.587450  1.265095\n",
       "49      1  0.516092  0.502824  1.672451  0.00025  0.628382  0.581662  1.288263"
      ]
     },
     "execution_count": 45,
     "metadata": {},
     "output_type": "execute_result"
    }
   ],
   "source": [
    "df_tweets.head(50)"
   ]
  },
  {
   "cell_type": "code",
   "execution_count": 46,
   "metadata": {},
   "outputs": [
    {
     "data": {
      "text/plain": [
       "<matplotlib.axes._subplots.AxesSubplot at 0x7f6ab25e1630>"
      ]
     },
     "execution_count": 46,
     "metadata": {},
     "output_type": "execute_result"
    },
    {
     "data": {
      "image/png": "[encoded data removed]",
      "text/plain": [
       "<Figure size 432x288 with 1 Axes>"
      ]
     },
     "metadata": {
      "needs_background": "light"
     },
     "output_type": "display_data"
    }
   ],
   "source": [
    "# Learning rate plot\n",
    "df_tweets.plot('epoch','lr',kind='bar')"
   ]
  },
  {
   "cell_type": "code",
   "execution_count": 47,
   "metadata": {},
   "outputs": [],
   "source": [
    "import matplotlib.pyplot as plt\n",
    "import seaborn as sns\n",
    "%matplotlib inline"
   ]
  },
  {
   "cell_type": "code",
   "execution_count": 48,
   "metadata": {},
   "outputs": [
    {
     "data": {
      "text/plain": [
       "Text(0.5, 1, 'AT-BLSTM model accuracy for tweets at 50 authors')"
      ]
     },
     "execution_count": 48,
     "metadata": {},
     "output_type": "execute_result"
    },
    {
     "data": {
      "image/png": "[encoded data removed]",
      "text/plain": [
       "<Figure size 432x288 with 1 Axes>"
      ]
     },
     "metadata": {
      "needs_background": "light"
     },
     "output_type": "display_data"
    }
   ],
   "source": [
    "plt.plot(df_tweets.index, df_tweets['acc'], 'go-', color='red', label= 'acc',linewidth=3)\n",
    "plt.plot(df_tweets.idf_tweetsx, df_tweets['val_acc'], '--^', color='blue',label= 'val_acc',linewidth=3)\n",
    "plt.legend(loc='lower right')\n",
    "plt.xlabel('Epoch')\n",
    "plt.ylabel('Accuarcy')\n",
    "plt.savefig(modelsource + 'Tweet_acc.png')\n",
    "plt.title('AT-BLSTM model accuracy for tweets at 50 authors')"
   ]
  },
  {
   "cell_type": "code",
   "execution_count": 49,
   "metadata": {},
   "outputs": [
    {
     "data": {
      "text/plain": [
       "Text(0.5, 1, 'AT-BLSTM model loss for tweets at 50 authors')"
      ]
     },
     "execution_count": 49,
     "metadata": {},
     "output_type": "execute_result"
    },
    {
     "data": {
      "image/png": "[encoded data removed]",
      "text/plain": [
       "<Figure size 432x288 with 1 Axes>"
      ]
     },
     "metadata": {
      "needs_background": "light"
     },
     "output_type": "display_data"
    }
   ],
   "source": [
    "plt.plot(df_tweets.index, df_tweets['loss'], 'go-', color='red', label= 'loss',linewidth=3)\n",
    "plt.plot(df_tweets.index, df_tweets['val_loss'], '--^', color='blue',label= 'val_loss',linewidth=3)\n",
    "plt.legend(loc='upper right')\n",
    "plt.xlabel('Epoch')\n",
    "plt.ylabel('loss')\n",
    "plt.savefig(modelsource + 'tweets_loss.png')\n",
    "plt.title('AT-BLSTM model loss for tweets at 50 authors')"
   ]
  },
  {
   "cell_type": "code",
   "execution_count": 50,
   "metadata": {},
   "outputs": [
    {
     "data": {
      "text/plain": [
       "Text(0.5, 1, 'AT-BLSTM model F-score for tweets at 50 authors')"
      ]
     },
     "execution_count": 50,
     "metadata": {},
     "output_type": "execute_result"
    },
    {
     "data": {
      "image/png": "[encoded data removed]",
      "text/plain": [
       "<Figure size 432x288 with 1 Axes>"
      ]
     },
     "metadata": {
      "needs_background": "light"
     },
     "output_type": "display_data"
    }
   ],
   "source": [
    "plt.plot(df_tweets.index, df_tweets['f1'], 'go-', color='red', label= 'f1',linewidth=3)\n",
    "plt.plot(df_tweets.index, df_tweets['val_f1'], '--*', color='blue',label= 'val_f1',linewidth=3)\n",
    "plt.legend(loc='lower right')\n",
    "plt.xlabel('Epoch')\n",
    "plt.ylabel('F1-score')\n",
    "plt.savefig(modelsource + 'tweets_F1-score.png')\n",
    "plt.title('AT-BLSTM model F-score for tweets at 50 authors')"
   ]
  },
  {
   "cell_type": "markdown",
   "metadata": {},
   "source": [
    "# 2. SGDW"
   ]
  },
  {
   "cell_type": "code",
   "execution_count": 63,
   "metadata": {},
   "outputs": [
    {
     "name": "stdout",
     "output_type": "stream",
     "text": [
      "Model: \"model_5\"\n",
      "_________________________________________________________________\n",
      "Layer (type)                 Output Shape              Param #   \n",
      "=================================================================\n",
      "main_input2 (InputLayer)     (None, 15, 512)           0         \n",
      "_________________________________________________________________\n",
      "time_distributed_3 (TimeDist (None, 15, 128)           458216    \n",
      "_________________________________________________________________\n",
      "bidirectional_5 (Bidirection (None, 15, 512)           788480    \n",
      "_________________________________________________________________\n",
      "attention_with_context_3 (At (None, 512)               263168    \n",
      "_________________________________________________________________\n",
      "dense_5 (Dense)              (None, 64)                32832     \n",
      "_________________________________________________________________\n",
      "dropout_11 (Dropout)         (None, 64)                0         \n",
      "_________________________________________________________________\n",
      "dense_6 (Dense)              (None, 43)                2795      \n",
      "=================================================================\n",
      "Total params: 1,545,491\n",
      "Trainable params: 1,545,491\n",
      "Non-trainable params: 0\n",
      "_________________________________________________________________\n"
     ]
    }
   ],
   "source": [
    "from SGDW import SGDW\n",
    "model_tweets_SGDW = build_cnn()\n",
    "b, B, T = batch_size, x_train.shape[0], num_epochs\n",
    "wd = 0.0025 * (b/B/T)**0.5\n",
    "model_tweets_SGDW.compile(loss='categorical_crossentropy',\n",
    "                 optimizer=SGDW(weight_decay=wd, momentum=0.9),\n",
    "                 metrics=['accuracy',f1])"
   ]
  },
  {
   "cell_type": "code",
   "execution_count": 66,
   "metadata": {},
   "outputs": [],
   "source": [
    "# save model\n",
    "model_save_dir = '../../save_models/tweets/'\n",
    "model_tweets_SGDW.save_weights(model_save_dir+\"saved_tweets_model_SGDW.h5\")"
   ]
  },
  {
   "cell_type": "code",
   "execution_count": null,
   "metadata": {},
   "outputs": [],
   "source": [
    "k = 5\n",
    "scores = []\n",
    "num_validation_sample = len(x_train)//k\n",
    "for i in range(k):\n",
    "    print(\"-----------------------------\")\n",
    "    print('Processing fold #', i)\n",
    "    print(\"-----------------------------\")\n",
    "    val_data = x_train[i * num_validation_sample: (i + 1) * num_validation_sample]\n",
    "    val_lab  = y_train[i * num_validation_sample: (i + 1) * num_validation_sample]\n",
    "    \n",
    "    parttial_train_X_data = np.concatenate(\n",
    "                [x_train[:i * num_validation_sample],\n",
    "                x_train[(i + 1) * num_validation_sample:]], axis=0)\n",
    "    \n",
    "    parttial_train_X_label = np.concatenate(\n",
    "                [y_train[:i * num_validation_sample],\n",
    "                y_train[(i + 1) * num_validation_sample:]], axis=0)\n",
    "    \n",
    "    history_blog_SGWD = model_tweets_SGDW.fit(parttial_train_X_data, parttial_train_X_label, \n",
    "                               validation_data=(val_data,val_lab),\n",
    "                               batch_size=batch_size,epochs=num_epochs,verbose=1,\n",
    "                               callbacks=[reduce_lr_sgd,earlystop,csv_logger])"
   ]
  },
  {
   "cell_type": "code",
   "execution_count": null,
   "metadata": {},
   "outputs": [],
   "source": []
  },
  {
   "cell_type": "markdown",
   "metadata": {},
   "source": [
    "# 3. SGD"
   ]
  },
  {
   "cell_type": "code",
   "execution_count": null,
   "metadata": {},
   "outputs": [],
   "source": []
  }
 ],
 "metadata": {
  "accelerator": "GPU",
  "colab": {
   "collapsed_sections": [],
   "name": "AttentionBidirectionalLSTMforBlog.ipynb",
   "provenance": [],
   "version": "0.3.2"
  },
  "kernelspec": {
   "display_name": "Python 3",
   "language": "python",
   "name": "python3"
  },
  "language_info": {
   "codemirror_mode": {
    "name": "ipython",
    "version": 3
   },
   "file_extension": ".py",
   "mimetype": "text/x-python",
   "name": "python",
   "nbconvert_exporter": "python",
   "pygments_lexer": "ipython3",
   "version": "3.7.6"
  }
 },
 "nbformat": 4,
 "nbformat_minor": 4
}
